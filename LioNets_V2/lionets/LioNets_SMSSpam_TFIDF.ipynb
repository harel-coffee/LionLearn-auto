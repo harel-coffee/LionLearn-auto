{
 "cells": [
  {
   "cell_type": "markdown",
   "metadata": {},
   "source": [
    "# LioNets: SMSSpam with TFIDF and Neural Networks -> Classification Task\n",
    "\n",
    "In this notebook, we present how LioNets can be applied in predictive models using textual data with TFIDF vectorization."
   ]
  },
  {
   "cell_type": "code",
   "execution_count": 1,
   "metadata": {},
   "outputs": [],
   "source": [
    "import sys\n",
    "\n",
    "if not sys.warnoptions:\n",
    "    import warnings\n",
    "    warnings.simplefilter(\"ignore\")"
   ]
  },
  {
   "cell_type": "code",
   "execution_count": 2,
   "metadata": {},
   "outputs": [
    {
     "name": "stderr",
     "output_type": "stream",
     "text": [
      "Using TensorFlow backend.\n"
     ]
    }
   ],
   "source": [
    "import keras\n",
    "from keras.layers import Dense, LSTM, Dropout, Reshape\n",
    "from keras import backend as K\n",
    "from keras.callbacks import ModelCheckpoint, EarlyStopping\n",
    "from keras import Input, Model\n",
    "from keras.optimizers import Adam\n",
    "from keras.models import Sequential\n",
    "from keras.preprocessing.text import Tokenizer\n",
    "from sklearn.metrics.pairwise import euclidean_distances\n",
    "from sklearn.linear_model import Ridge, SGDRegressor, LinearRegression\n",
    "from sklearn.metrics import mean_absolute_error, mean_squared_error, r2_score, f1_score, balanced_accuracy_score, accuracy_score\n",
    "from sklearn.model_selection import train_test_split\n",
    "from sklearn.feature_extraction.text import TfidfVectorizer\n",
    "from sklearn.preprocessing import MinMaxScaler\n",
    "import tensorflow as tf\n",
    "tf.logging.set_verbosity(tf.logging.ERROR)\n",
    "\n",
    "import innvestigate\n",
    "import innvestigate.utils as iutils\n",
    "from innvestigate.utils.keras import checks\n",
    "from lime.lime_text import LimeTextExplainer\n",
    "\n",
    "import pandas as pd\n",
    "pd.set_option('max_colwidth',400)\n",
    "import matplotlib.pyplot as plt\n",
    "import re\n",
    "import numpy as np\n",
    "from collections import OrderedDict\n",
    "import nltk\n",
    "import seaborn as sns\n",
    "from utilities.load_dataset import Load_Dataset\n",
    "from utilities.evaluation import Evaluation\n",
    "from lionets import LioNets\n",
    "from altruist.altruist import Altruist\n",
    "%matplotlib inline  "
   ]
  },
  {
   "cell_type": "code",
   "execution_count": 3,
   "metadata": {},
   "outputs": [
    {
     "name": "stdout",
     "output_type": "stream",
     "text": [
      "[nltk_data] Downloading package wordnet to /root/nltk_data...\n",
      "[nltk_data]   Package wordnet is already up-to-date!\n",
      "[nltk_data] Downloading package stopwords to /root/nltk_data...\n",
      "[nltk_data]   Unzipping corpora/stopwords.zip.\n"
     ]
    },
    {
     "data": {
      "text/plain": [
       "True"
      ]
     },
     "execution_count": 3,
     "metadata": {},
     "output_type": "execute_result"
    }
   ],
   "source": [
    "nltk.download('wordnet')\n",
    "nltk.download('stopwords')"
   ]
  },
  {
   "cell_type": "markdown",
   "metadata": {},
   "source": [
    "Load Spam SMS Dataset and split it 80-20 to train and test data"
   ]
  },
  {
   "cell_type": "code",
   "execution_count": 4,
   "metadata": {},
   "outputs": [],
   "source": [
    "X, y, class_names = Load_Dataset.load_smsspam()\n",
    "X_train, X_valid, y_train, y_valid =  train_test_split(X,y,test_size=0.2, stratify = y, random_state=0)"
   ]
  },
  {
   "cell_type": "markdown",
   "metadata": {},
   "source": [
    "We will also load our data without preprocessing to use them in the qualitative experiments"
   ]
  },
  {
   "cell_type": "code",
   "execution_count": 5,
   "metadata": {},
   "outputs": [],
   "source": [
    "X_r, y_r, class_names = Load_Dataset.load_smsspam(False)\n",
    "X_trainR, X_validR, y_trainR, y_validR =  train_test_split(X_r,y_r,test_size=0.2, stratify = y, random_state=0)"
   ]
  },
  {
   "cell_type": "markdown",
   "metadata": {},
   "source": [
    "Load few data to use them as unsupervised"
   ]
  },
  {
   "cell_type": "code",
   "execution_count": 6,
   "metadata": {},
   "outputs": [],
   "source": [
    "#X_unsup = Load_Dataset.load_unsupervised_data()"
   ]
  },
  {
   "cell_type": "markdown",
   "metadata": {},
   "source": [
    "Setting the TFIDF vectorizer, with 1K vocabulary "
   ]
  },
  {
   "cell_type": "code",
   "execution_count": 7,
   "metadata": {},
   "outputs": [],
   "source": [
    "vec = TfidfVectorizer(analyzer='word',max_features=1000)\n",
    "vec.fit(X_train)\n",
    "x_train = vec.transform(X_train)\n",
    "x_valid = vec.transform(X_valid)\n",
    "#x_unsup = vec.transform(X_unsup)"
   ]
  },
  {
   "cell_type": "markdown",
   "metadata": {},
   "source": [
    "Defining the input dimensions"
   ]
  },
  {
   "cell_type": "code",
   "execution_count": 8,
   "metadata": {},
   "outputs": [
    {
     "data": {
      "text/plain": [
       "1000"
      ]
     },
     "execution_count": 8,
     "metadata": {},
     "output_type": "execute_result"
    }
   ],
   "source": [
    "input_dim = len(vec.get_feature_names())\n",
    "input_dim"
   ]
  },
  {
   "cell_type": "markdown",
   "metadata": {},
   "source": [
    "Changing the format of the output from 0->0.1 and 1->0.9 in order to help the neural network with the sigmoid function"
   ]
  },
  {
   "cell_type": "code",
   "execution_count": 9,
   "metadata": {},
   "outputs": [],
   "source": [
    "train_y = [0.1 if i <=0.5 else 0.9 for i in y_train]\n",
    "valid_y = [0.1 if i <=0.5 else 0.9 for i in y_valid]"
   ]
  },
  {
   "cell_type": "markdown",
   "metadata": {},
   "source": [
    "We are setting the neural network architecture"
   ]
  },
  {
   "cell_type": "code",
   "execution_count": 10,
   "metadata": {},
   "outputs": [],
   "source": [
    "check_point = ModelCheckpoint(\"SMS_Predictor.hdf5\", monitor=\"val_loss\", verbose=2,save_best_only=True, mode=\"auto\")\n",
    "main_input = Input(shape=(input_dim,), dtype='float32', name='main_input')\n",
    "x = Reshape((1,input_dim))(main_input)\n",
    "x = LSTM(1000,activation='tanh')(x)\n",
    "x = Dropout(0.75)(x)\n",
    "x = Dense(500,activation='tanh')(x)\n",
    "output_lay = Dense(1, activation='sigmoid')(x)\n",
    "model = Model(inputs=[main_input], outputs=[output_lay])\n",
    "model.compile(optimizer=\"adam\",loss=['binary_crossentropy'])"
   ]
  },
  {
   "cell_type": "markdown",
   "metadata": {},
   "source": [
    "We train the model (we do not use unsupervised data yet)"
   ]
  },
  {
   "cell_type": "code",
   "execution_count": 11,
   "metadata": {
    "scrolled": true
   },
   "outputs": [],
   "source": [
    "#model.fit(x_train, train_y, epochs=150, batch_size=64, shuffle=True, validation_data=(x_valid, valid_y), verbose=2, callbacks=[check_point])"
   ]
  },
  {
   "cell_type": "markdown",
   "metadata": {},
   "source": [
    "We load the best model's weights"
   ]
  },
  {
   "cell_type": "code",
   "execution_count": 12,
   "metadata": {},
   "outputs": [],
   "source": [
    "weights_file = 'weights/SMS_Predictor.hdf5' # choose the best checkpoint few features\n",
    "model.load_weights(weights_file) # load it\n",
    "model.compile(loss=\"binary_crossentropy\", optimizer=Adam())"
   ]
  },
  {
   "cell_type": "markdown",
   "metadata": {},
   "source": [
    "We are testing the performance of the predictor"
   ]
  },
  {
   "cell_type": "code",
   "execution_count": 12,
   "metadata": {},
   "outputs": [
    {
     "name": "stdout",
     "output_type": "stream",
     "text": [
      "Train: 0.9990329453832201 0.9995509499720622 0.9983277591973244 0.9995512676688355\n",
      "Train: 0.9662090493075128 0.9845513065394857 0.9543054455514333 0.9847533632286996\n"
     ]
    }
   ],
   "source": [
    "temp_pred = model.predict(x_train)\n",
    "predictions = [0 if i[0] <=0.5 else 1 for i in temp_pred]\n",
    "print('Train:',f1_score(y_train,predictions, average='macro'),f1_score(y_train,predictions, average='weighted'),\n",
    "      balanced_accuracy_score(y_train,predictions),accuracy_score(y_train,predictions))\n",
    "\n",
    "temp_pred = model.predict(x_valid)\n",
    "predictions = [0 if i[0] <=0.5 else 1 for i in temp_pred]\n",
    "print('Train:',f1_score(y_valid,predictions, average='macro'),f1_score(y_valid,predictions, average='weighted'),\n",
    "      balanced_accuracy_score(y_valid,predictions), accuracy_score(y_valid,predictions))"
   ]
  },
  {
   "cell_type": "markdown",
   "metadata": {},
   "source": [
    "We extract the encoder from the predictor"
   ]
  },
  {
   "cell_type": "code",
   "execution_count": 13,
   "metadata": {},
   "outputs": [],
   "source": [
    "encoder = Model(input=model.input, output=[model.layers[-2].output])\n",
    "encoder.trainable = False\n",
    "encoder.compile(loss=\"binary_crossentropy\", optimizer=Adam(), metrics=[\"accuracy\"])"
   ]
  },
  {
   "cell_type": "code",
   "execution_count": 14,
   "metadata": {},
   "outputs": [],
   "source": [
    "output_layer = model.layers[-1]"
   ]
  },
  {
   "cell_type": "code",
   "execution_count": 15,
   "metadata": {},
   "outputs": [],
   "source": [
    "output_layer_weigts = output_layer.get_weights()[0]"
   ]
  },
  {
   "cell_type": "markdown",
   "metadata": {},
   "source": [
    "We encode our data, in order to build the decoder"
   ]
  },
  {
   "cell_type": "code",
   "execution_count": 16,
   "metadata": {},
   "outputs": [],
   "source": [
    "encoded_x_train = encoder.predict(x_train)\n",
    "encoded_x_valid = encoder.predict(x_valid)\n",
    "#encoded_x_unsup = encoder.predict(x_unsup)"
   ]
  },
  {
   "cell_type": "markdown",
   "metadata": {
    "collapsed": true
   },
   "source": [
    "We are building now the decoder"
   ]
  },
  {
   "cell_type": "code",
   "execution_count": 17,
   "metadata": {},
   "outputs": [],
   "source": [
    "def rmse(y_true, y_pred):\n",
    "    return K.sqrt(K.mean(K.square(y_pred - y_true))) "
   ]
  },
  {
   "cell_type": "code",
   "execution_count": 18,
   "metadata": {},
   "outputs": [],
   "source": [
    "encoded_input = Input(shape=(encoded_x_train[0].shape))\n",
    "\n",
    "x = Reshape((1,len(encoded_x_train[0])))(encoded_input)\n",
    "x = LSTM(600, activation='tanh')(x)\n",
    "x = Dropout(0.7)(x)\n",
    "x = Dense(800, activation='tanh')(x)\n",
    "decoded = Dense(input_dim, activation='sigmoid')(x)\n",
    "\n",
    "decoder = Model(encoded_input,decoded)\n",
    "decoder.compile(optimizer=\"Adam\",loss=['binary_crossentropy'],metrics=[rmse,'mae'])\n",
    "\n",
    "checkpoint_name = 'SMS_Decoder.hdf5' #or:'SMS_TFIDF_Decoder.hdf5' \n",
    "checkpoint = ModelCheckpoint(checkpoint_name, monitor='val_loss', verbose = 2, save_best_only = True, mode ='auto')"
   ]
  },
  {
   "cell_type": "markdown",
   "metadata": {},
   "source": [
    "We train the decoder, using some unsupervised data as well"
   ]
  },
  {
   "cell_type": "code",
   "execution_count": 19,
   "metadata": {
    "scrolled": true
   },
   "outputs": [],
   "source": [
    "#decoder.fit(np.concatenate((encoded_x_train,encoded_x_unsup[12000:13000])), np.concatenate((x_train.toarray(),x_unsup[12000:13000].toarray())), epochs=250, batch_size=250, shuffle=True, validation_data=(encoded_x_valid,x_valid), verbose=2, callbacks=[checkpoint])"
   ]
  },
  {
   "cell_type": "markdown",
   "metadata": {},
   "source": [
    "We load the best decoder"
   ]
  },
  {
   "cell_type": "code",
   "execution_count": 20,
   "metadata": {},
   "outputs": [],
   "source": [
    "weights_file = 'weights/SMS_Decoder.hdf5' # choose the best checkpoint few features\n",
    "decoder.load_weights(weights_file) # load it\n",
    "decoder.compile(optimizer=\"Adam\",loss=['binary_crossentropy'],metrics=[rmse,'mae'])"
   ]
  },
  {
   "cell_type": "code",
   "execution_count": 21,
   "metadata": {},
   "outputs": [
    {
     "name": "stdout",
     "output_type": "stream",
     "text": [
      "4457/4457 [==============================] - 1s 243us/step\n"
     ]
    },
    {
     "data": {
      "text/plain": [
       "[0.007369646236270379, 0.017966347563295508, 0.0019494198146824688]"
      ]
     },
     "execution_count": 21,
     "metadata": {},
     "output_type": "execute_result"
    }
   ],
   "source": [
    "decoder.evaluate(encoded_x_train,x_train)"
   ]
  },
  {
   "cell_type": "code",
   "execution_count": 22,
   "metadata": {},
   "outputs": [
    {
     "name": "stdout",
     "output_type": "stream",
     "text": [
      "1115/1115 [==============================] - 0s 231us/step\n"
     ]
    },
    {
     "data": {
      "text/plain": [
       "[0.009845408352066851, 0.02130000955788544, 0.0023977428607876525]"
      ]
     },
     "execution_count": 22,
     "metadata": {},
     "output_type": "execute_result"
    }
   ],
   "source": [
    "decoder.evaluate(encoded_x_valid,x_valid)"
   ]
  },
  {
   "cell_type": "code",
   "execution_count": 23,
   "metadata": {},
   "outputs": [
    {
     "name": "stdout",
     "output_type": "stream",
     "text": [
      "Train dec: 0.9966521447559124 0.9980574980574981\n",
      "Test dec: 0.9704458339212495 0.9071245421245422\n",
      "Train dec mae: 0.006007524\n",
      "Train dec mae: 0.023022097\n"
     ]
    }
   ],
   "source": [
    "temp_pred = model.predict(x_train)\n",
    "predictions1 = [0 if i[0] <=0.5 else 1 for i in temp_pred]\n",
    "predictions7 = [i[0] for i in temp_pred]\n",
    "\n",
    "temp_pred = model.predict(x_valid)\n",
    "predictions2 = [0 if i[0] <=0.5 else 1 for i in temp_pred]\n",
    "predictions8 = [i[0] for i in temp_pred]\n",
    "\n",
    "temp_pred = model.predict(decoder.predict(encoder.predict(x_train)))\n",
    "predictions3 = [0 if i[0] <=0.5 else 1 for i in temp_pred]\n",
    "print('Train dec:',f1_score(predictions1,predictions3, average='weighted'),balanced_accuracy_score(predictions1,predictions3),)\n",
    "\n",
    "temp_pred = model.predict(decoder.predict(encoder.predict(x_valid)))\n",
    "predictions4 = [0 if i[0] <=0.5 else 1 for i in temp_pred]\n",
    "print('Test dec:',f1_score(predictions2,predictions4, average='weighted'),balanced_accuracy_score(predictions2,predictions4))\n",
    "\n",
    "temp_pred = model.predict(decoder.predict(encoder.predict(x_train)))\n",
    "predictions5 = [i[0] for i in temp_pred]\n",
    "print('Train dec mae:',mean_absolute_error(predictions7,predictions5))\n",
    "temp_pred = model.predict(decoder.predict(encoder.predict(x_valid)))\n",
    "predictions6 = [i[0] for i in temp_pred]\n",
    "print('Train dec mae:',mean_absolute_error(predictions8,predictions6))"
   ]
  },
  {
   "cell_type": "markdown",
   "metadata": {},
   "source": [
    "We evaluate some decoded instances manually (The first 10 sentences from the train and test set)"
   ]
  },
  {
   "cell_type": "markdown",
   "metadata": {},
   "source": [
    "Train:"
   ]
  },
  {
   "cell_type": "code",
   "execution_count": 24,
   "metadata": {},
   "outputs": [],
   "source": [
    "instances_evaluation = decoder.predict(encoded_x_train[:5]) "
   ]
  },
  {
   "cell_type": "markdown",
   "metadata": {},
   "source": [
    "We will use a threshold to remove close to zero features"
   ]
  },
  {
   "cell_type": "code",
   "execution_count": 25,
   "metadata": {},
   "outputs": [
    {
     "name": "stdout",
     "output_type": "stream",
     "text": [
      "Original: also am but do have in onli pay to\n",
      " Decoded: also am but do have in not onli pay to\n",
      "\"\"\"\"\"\"\"\"\"\"\"\"\"\"\"\"\"\"\n",
      "Original: come got it me now ok or then thk wan wat\n",
      " Decoded: come got it me now ok or then thk wan wat\n",
      "\"\"\"\"\"\"\"\"\"\"\"\"\"\"\"\"\"\"\n",
      "Original: at be call club co credit enjoy help info must need or redeem uk video www you\n",
      " Decoded: at call club co credit enjoy help info must redeem uk video week www your\n",
      "\"\"\"\"\"\"\"\"\"\"\"\"\"\"\"\"\"\"\n",
      "Original: and gt help lt no wa\n",
      " Decoded: and gt help lt no wa\n",
      "\"\"\"\"\"\"\"\"\"\"\"\"\"\"\"\"\"\"\n",
      "Original: am colleg in\n",
      " Decoded: am colleg in\n",
      "\"\"\"\"\"\"\"\"\"\"\"\"\"\"\"\"\"\"\n"
     ]
    }
   ],
   "source": [
    "instances_evaluation_threshold = []\n",
    "for r_m in instances_evaluation:\n",
    "    a_t = [o if o > 0.045 else 0 for o in r_m]\n",
    "    instances_evaluation_threshold.append(a_t)\n",
    "inversed_decoded = vec.inverse_transform(instances_evaluation_threshold)\n",
    "inversed_original = vec.inverse_transform(x_train[:5])\n",
    "for i in range(len(inversed_original)):\n",
    "    print('Original:',' '.join(sorted(inversed_original[i])))\n",
    "    print(' Decoded:',' '.join(sorted(inversed_decoded[i])))\n",
    "    print('\"\"\"\"\"\"\"\"\"\"\"\"\"\"\"\"\"\"')"
   ]
  },
  {
   "cell_type": "markdown",
   "metadata": {},
   "source": [
    "Test:"
   ]
  },
  {
   "cell_type": "code",
   "execution_count": 26,
   "metadata": {},
   "outputs": [],
   "source": [
    "instances_evaluation = decoder.predict(encoded_x_valid[:5]) "
   ]
  },
  {
   "cell_type": "markdown",
   "metadata": {},
   "source": [
    "We will use a threshold to remove close to zero features"
   ]
  },
  {
   "cell_type": "code",
   "execution_count": 27,
   "metadata": {},
   "outputs": [
    {
     "name": "stdout",
     "output_type": "stream",
     "text": [
      "Original: anyth lar\n",
      " Decoded: anyth lar\n",
      "\"\"\"\"\"\"\"\"\"\"\"\"\"\"\"\"\"\"\n",
      "Original: been better day each even give god great more never reason thank to\n",
      " Decoded: been better day for give god great it more thank the to you\n",
      "\"\"\"\"\"\"\"\"\"\"\"\"\"\"\"\"\"\"\n",
      "Original: at cant haha how most so the they tmr what\n",
      " Decoded: at haha how just look so the they\n",
      "\"\"\"\"\"\"\"\"\"\"\"\"\"\"\"\"\"\"\n",
      "Original: am at be late there will\n",
      " Decoded: am at be late there will\n",
      "\"\"\"\"\"\"\"\"\"\"\"\"\"\"\"\"\"\"\n",
      "Original: angri be care coz da day dnt have is it luv most nice of serious show take true ur way wen wid\n",
      " Decoded: angri care coz da dnt feel in is it luv most nice of serious show some take the true way wen wid\n",
      "\"\"\"\"\"\"\"\"\"\"\"\"\"\"\"\"\"\"\n"
     ]
    }
   ],
   "source": [
    "instances_evaluation_threshold = []\n",
    "for r_m in instances_evaluation:\n",
    "    a_t = [o if o > 0.045 else 0 for o in r_m]\n",
    "    instances_evaluation_threshold.append(a_t)\n",
    "inversed_decoded = vec.inverse_transform(instances_evaluation_threshold)\n",
    "inversed_original = vec.inverse_transform(x_valid[:5])\n",
    "for i in range(len(inversed_original)):\n",
    "    print('Original:',' '.join(sorted(inversed_original[i])))\n",
    "    print(' Decoded:',' '.join(sorted(inversed_decoded[i])))\n",
    "    print('\"\"\"\"\"\"\"\"\"\"\"\"\"\"\"\"\"\"')"
   ]
  },
  {
   "cell_type": "markdown",
   "metadata": {},
   "source": [
    "## LioNets Experiments\n",
    "Having everything setted up, we are now ready to try our methodology. We first initialize LioNets. LioNets requires a predictor (the classifier itself), an encoder (extracted from the predictor), a decoder, as well as some data (for best results the training data, in order to push the neighbourhood generation through known distribution for the network)"
   ]
  },
  {
   "cell_type": "code",
   "execution_count": 28,
   "metadata": {},
   "outputs": [],
   "source": [
    "lionetWA = LioNets(model, decoder, encoder, x_train.A, decoder_lower_threshold=0.005, double_detector=True, word_apheresis=True)\n",
    "lionet = LioNets(model, decoder, encoder, x_train.A, decoder_lower_threshold=0.005, double_detector=True, word_apheresis=False)\n",
    "transparent_model = Ridge(alpha=0.01,fit_intercept=True,random_state=0)"
   ]
  },
  {
   "cell_type": "markdown",
   "metadata": {},
   "source": [
    "temp_instance.A[0] for a TFIDF array to be an array"
   ]
  },
  {
   "cell_type": "code",
   "execution_count": 13,
   "metadata": {},
   "outputs": [
    {
     "data": {
      "text/plain": [
       "((200,), (200,))"
      ]
     },
     "execution_count": 13,
     "metadata": {},
     "output_type": "execute_result"
    }
   ],
   "source": [
    "import random \n",
    "#random.seed(2000)\n",
    "random.seed(7777)\n",
    "train = np.array(random.sample(X_train,200))#200\n",
    "valid = np.array(random.sample(X_valid,200))\n",
    "train.shape, valid.shape"
   ]
  },
  {
   "cell_type": "markdown",
   "metadata": {},
   "source": [
    "Let's calculate the fidelity of Lime and LioNets"
   ]
  },
  {
   "cell_type": "code",
   "execution_count": 35,
   "metadata": {},
   "outputs": [],
   "source": [
    "split_expression = lambda s: re.split(r'\\W+', s)\n",
    "explainer = LimeTextExplainer(class_names=class_names, split_expression=split_expression)\n",
    "def lime_predict(text):\n",
    "    texts = vec.transform(text)\n",
    "    a = model.predict(texts)\n",
    "    b = 1 - a \n",
    "    return np.column_stack((b,a))"
   ]
  },
  {
   "cell_type": "code",
   "execution_count": null,
   "metadata": {},
   "outputs": [],
   "source": [
    "def lime(text):\n",
    "    explanation = explainer.explain_instance(text_instance=text, classifier_fn=lime_predict)\n",
    "    weights = OrderedDict(explanation.as_list())\n",
    "    lime_w = dict(zip(list(weights.keys()), list(weights.values())))\n",
    "    weights = []\n",
    "    keys = lime_w.keys()\n",
    "    for f in vec.get_feature_names():\n",
    "        if f in keys:\n",
    "            weights.append(lime_w[f])\n",
    "        else:\n",
    "            weights.append(0)\n",
    "    return np.array([weights]) #This is because lime interprets class with label 1"
   ]
  },
  {
   "cell_type": "code",
   "execution_count": null,
   "metadata": {},
   "outputs": [],
   "source": [
    "def fi_lime(text):\n",
    "    explanation = explainer.explain_instance(text_instance=text, classifier_fn=lime_predict)\n",
    "    local_pred = explanation.local_pred[0]\n",
    "    return local_pred #This is because lime interprets class with label 1\n",
    "def fi_lionets(text):\n",
    "    t_text = vec.transform(np.array([text]))[0].A[0]\n",
    "    weights, res, loc_res = lionet.explain_instance(t_text,10000,transparent_model)\n",
    "    return loc_res\n",
    "def fi_lionetsWA(text):\n",
    "    t_text = vec.transform(np.array([text]))[0].A[0]\n",
    "    weights, res, loc_res = lionetWA.explain_instance(t_text,7000,transparent_model)\n",
    "    return loc_res"
   ]
  },
  {
   "cell_type": "code",
   "execution_count": null,
   "metadata": {},
   "outputs": [],
   "source": [
    "evaluator = Evaluation(model.predict,None,vec.transform,True)"
   ]
  },
  {
   "cell_type": "code",
   "execution_count": null,
   "metadata": {},
   "outputs": [],
   "source": [
    "fidelity = evaluator.fidelity(train, [fi_lime, fi_lionets, fi_lionetsWA], class_n=0)\n",
    "print('Train:')\n",
    "print('  Lime fidelity:', fidelity[0][0])\n",
    "print('  LioNets fidelity:', fidelity[1][0])\n",
    "print('  LioNetsWA fidelity:', fidelity[2][0])"
   ]
  },
  {
   "cell_type": "code",
   "execution_count": null,
   "metadata": {},
   "outputs": [],
   "source": [
    "fidelity = evaluator.fidelity(valid, [fi_lime, fi_lionets, fi_lionetsWA], class_n=0)\n",
    "print('Valid:')\n",
    "print('  Lime fidelity:', fidelity[0][0])\n",
    "print('  LioNets fidelity:', fidelity[1][0])\n",
    "print('  LioNetsWA fidelity:', fidelity[2][0])"
   ]
  },
  {
   "cell_type": "markdown",
   "metadata": {},
   "source": [
    "Let's calculate non zero weights"
   ]
  },
  {
   "cell_type": "code",
   "execution_count": null,
   "metadata": {},
   "outputs": [],
   "source": [
    "Xs = iutils.to_list(model.outputs)\n",
    "softmax_found = False\n",
    "ret = []\n",
    "for x in Xs:\n",
    "    layer, node_index, tensor_index = x._keras_history\n",
    "    if checks.contains_activation(layer, activation=\"sigmoid\"):\n",
    "        softmax_found = True\n",
    "        if isinstance(layer, keras.layers.Activation):\n",
    "            ret.append(layer.get_input_at(node_index))\n",
    "        else:\n",
    "            layer_wo_act = innvestigate.utils.keras.graph.copy_layer_wo_activation(layer)\n",
    "            ret.append(layer_wo_act(layer.get_input_at(node_index)))"
   ]
  },
  {
   "cell_type": "code",
   "execution_count": null,
   "metadata": {},
   "outputs": [],
   "source": [
    "embedding_encoder = Sequential()\n",
    "for i in range(0,2):\n",
    "    print(model.layers[i])\n",
    "    embedding_encoder.add(model.layers[i])\n",
    "embedding_encoder.trainable = False"
   ]
  },
  {
   "cell_type": "code",
   "execution_count": null,
   "metadata": {},
   "outputs": [],
   "source": [
    "model2 = Model(input=model.input, output=ret)\n",
    "model2.trainable = False\n",
    "model2.compile(loss=\"binary_crossentropy\", optimizer=Adam(), metrics=[\"accuracy\"])"
   ]
  },
  {
   "cell_type": "code",
   "execution_count": null,
   "metadata": {},
   "outputs": [],
   "source": [
    "analyzer = innvestigate.create_analyzer('input_t_gradient',model2)\n",
    "analyzerLRP = innvestigate.create_analyzer('lrp.epsilon',model2)"
   ]
  },
  {
   "cell_type": "code",
   "execution_count": null,
   "metadata": {},
   "outputs": [],
   "source": [
    "feature_names = vec.get_feature_names()\n",
    "def fi_GxI(text):\n",
    "    t_text = vec.transform(np.array([text]))[0].A[0]\n",
    "    ooo = analyzer.analyze(np.array([t_text]))[0]\n",
    "    return [ooo][0]\n",
    "def fi_LRP(text):\n",
    "    t_text = vec.transform(np.array([text]))[0].A[0]\n",
    "    ooo = analyzerLRP.analyze(np.array([t_text]))[0]\n",
    "    ooo = ooo*t_text #only on lrp\n",
    "    return [ooo][0]\n",
    "def fi_lime(text):\n",
    "    return lime(text)[0] #This is because lime interprets class with label 1\n",
    "def fi_lionets(text):\n",
    "    t_text = vec.transform(np.array([text]))[0].A[0]\n",
    "    weights, res, loc_res = lionet.explain_instance(t_text,10000,transparent_model)\n",
    "    weights=weights*t_text\n",
    "    return weights\n",
    "def fi_lionetsWA(text):\n",
    "    t_text = vec.transform(np.array([text]))[0].A[0]\n",
    "    weights, res, loc_res = lionetWA.explain_instance(t_text,7000,transparent_model)\n",
    "    weights=weights*t_text\n",
    "    return weights"
   ]
  },
  {
   "cell_type": "code",
   "execution_count": null,
   "metadata": {},
   "outputs": [],
   "source": [
    "non_zero = evaluator.non_zero_weights(train, [fi_GxI, fi_LRP, fi_lime, fi_lionets, fi_lionetsWA])\n",
    "print('Train:')\n",
    "print('  GxI Non Zero:', non_zero[0][0])\n",
    "print('  LRP Non Zero:', non_zero[1][0])\n",
    "print('  Lime Non Zero:', non_zero[2][0])\n",
    "print('  LioNets Non Zero:', non_zero[3][0])\n",
    "print('  LioNetsWA Non Zero:', non_zero[4][0])"
   ]
  },
  {
   "cell_type": "code",
   "execution_count": null,
   "metadata": {},
   "outputs": [],
   "source": [
    "non_zero = evaluator.non_zero_weights(valid, [fi_GxI, fi_LRP, fi_lime, fi_lionets, fi_lionetsWA])\n",
    "print('Valid:')\n",
    "print('  GxI Non Zero:', non_zero[0][0])\n",
    "print('  LRP Non Zero:', non_zero[1][0])\n",
    "print('  Lime Non Zero:', non_zero[2][0])\n",
    "print('  LioNets Non Zero:', non_zero[3][0])\n",
    "print('  LioNetsWA Non Zero:', non_zero[4][0])"
   ]
  },
  {
   "cell_type": "markdown",
   "metadata": {},
   "source": [
    "Let's calculate robustness"
   ]
  },
  {
   "cell_type": "code",
   "execution_count": null,
   "metadata": {},
   "outputs": [],
   "source": [
    "robustness = evaluator.robustness(train,[fi_lime, fi_GxI, fi_LRP, fi_lionets, fi_lionetsWA], vec.get_feature_names())\n",
    "print('Train:')\n",
    "print('  Lime Robustness:', robustness[0])\n",
    "print('  GxI Robustness:', robustness[1])\n",
    "print('  LRP Robustness:', robustness[2])\n",
    "print('  LioNets Robustness:', robustness[3])\n",
    "print('  LioNetsWA Robustness:', robustness[4])"
   ]
  },
  {
   "cell_type": "code",
   "execution_count": null,
   "metadata": {},
   "outputs": [],
   "source": [
    "robustness = evaluator.robustness(valid,[fi_lime, fi_GxI, fi_LRP, fi_lionets, fi_lionetsWA], vec.get_feature_names())\n",
    "print('Valid:')\n",
    "print('  Lime Robustness:', robustness[0])\n",
    "print('  GxI Robustness:', robustness[1])\n",
    "print('  LRP Robustness:', robustness[2])\n",
    "print('  LioNets Robustness:', robustness[3])\n",
    "print('  LioNetsWA Robustness:', robustness[4])"
   ]
  },
  {
   "cell_type": "markdown",
   "metadata": {},
   "source": [
    "Let's calculate Altruist Score"
   ]
  },
  {
   "cell_type": "code",
   "execution_count": null,
   "metadata": {},
   "outputs": [],
   "source": [
    "def lime(text):\n",
    "    explanation = explainer.explain_instance(text_instance=text, classifier_fn=lime_predict)\n",
    "    weights = OrderedDict(explanation.as_list())\n",
    "    lime_w = dict(zip(list(weights.keys()), list(weights.values())))\n",
    "    weights = []\n",
    "    keys = lime_w.keys()\n",
    "    for f in vec.get_feature_names():\n",
    "        if f in keys:\n",
    "            weights.append(lime_w[f])\n",
    "        else:\n",
    "            weights.append(0)\n",
    "    return np.array([weights]) #This is because lime interprets class with label 1\n",
    "\n",
    "def fi_GxI(X_t, prediction, model):\n",
    "    ooo = analyzer.analyze(np.array([X_t]))[0]\n",
    "    return [ooo][0]\n",
    "def fi_LRP(X_t, prediction, model):\n",
    "    ooo = analyzerLRP.analyze(np.array([X_t]))[0]\n",
    "    ooo = ooo*X_t #only on lrp\n",
    "    return [ooo][0]\n",
    "global ccount\n",
    "ccount = 0\n",
    "def fi_lime(t, prediction, model):\n",
    "    global ccount\n",
    "    expl = lime(train[ccount])[0]\n",
    "    ccount = ccount+1\n",
    "    return expl\n",
    "def fi_lionets(X_t, prediction, model):\n",
    "    weights, res, loc_red = lionet.explain_instance(X_t,10000,transparent_model)\n",
    "    weights=weights*X_t\n",
    "    return weights\n",
    "def fi_lionetsWA(X_t, prediction, model):\n",
    "    weights, res, loc_red = lionetWA.explain_instance(X_t,7000,transparent_model)\n",
    "    weights=weights*X_t\n",
    "    return weights"
   ]
  },
  {
   "cell_type": "code",
   "execution_count": null,
   "metadata": {},
   "outputs": [],
   "source": [
    "print(\"*Please let it run, it will take time probably*\")\n",
    "fi_names = {fi_GxI:'GxI', fi_LRP:'LRP', fi_lime:'Lime', fi_lionets:'LioNets', fi_lionetsWA:'LioNetsWA'}\n",
    "fis = [fi_GxI, fi_LRP, fi_lime, fi_lionets, fi_lionetsWA]\n",
    "fis_scores = []\n",
    "for i in fis:\n",
    "    fis_scores.append([])\n",
    "count = 0\n",
    "feature_names = vec.get_feature_names()\n",
    "X_t = vec.transform(train)\n",
    "altruistino = Altruist(model, X_t.toarray(), fis, feature_names, None, True)\n",
    "for instance in X_t:\n",
    "    if (count + 1) % 25 == 0:\n",
    "        print(count+1,\"/\",len(train),\"..\",end=\", \")\n",
    "    #print(len(instance))\n",
    "    count = count + 1\n",
    "    untruthful_features = altruistino.find_untruthful_features(instance.toarray()[0])\n",
    "    for i in range(len(untruthful_features[0])):\n",
    "        fis_scores[i].append(len(untruthful_features[0][i]))\n",
    "count = 0\n",
    "print('Train:')\n",
    "for fis_score in fis_scores:\n",
    "    fi = fis[count]\n",
    "    count = count + 1\n",
    "    print(' ',fi_names[fi],np.array(fis_score).mean())\n",
    "fi_matrix = np.array(fis_scores)\n",
    "count = 0\n",
    "fi_all = []\n",
    "for instance in X_t:\n",
    "    fi_all.append(fi_matrix[:,count].min())\n",
    "    count = count + 1\n",
    "print(\"Altogether:\",np.array(fi_all).mean())"
   ]
  },
  {
   "cell_type": "code",
   "execution_count": null,
   "metadata": {},
   "outputs": [],
   "source": [
    "global ccount\n",
    "ccount = 0\n",
    "def fi_lime(t, prediction, model):\n",
    "    global ccount\n",
    "    expl = lime(valid[ccount])[0]\n",
    "    ccount = ccount+1\n",
    "    return expl"
   ]
  },
  {
   "cell_type": "code",
   "execution_count": null,
   "metadata": {
    "scrolled": true
   },
   "outputs": [],
   "source": [
    "print(\"*Please let it run, it will take time probably*\")\n",
    "fi_names = {fi_GxI:'GxI', fi_LRP:'LRP', fi_lime:'Lime', fi_lionets:'LioNets', fi_lionetsWA:'LioNetsWA'}\n",
    "fis = [fi_GxI, fi_LRP, fi_lime, fi_lionets, fi_lionetsWA]\n",
    "fis_scores = []\n",
    "for i in fis:\n",
    "    fis_scores.append([])\n",
    "count = 0\n",
    "\n",
    "X_v = vec.transform(valid)\n",
    "altruistino = Altruist(model, X_t.toarray(), fis, feature_names, None, True)\n",
    "for instance in X_v:\n",
    "    lionet.memory = {}\n",
    "    if (count + 1) % 25 == 0:\n",
    "        print(count+1,\"/\",len(train),\"..\",end=\", \")\n",
    "    #print(len(instance))\n",
    "    count = count + 1\n",
    "    untruthful_features = altruistino.find_untruthful_features(instance.toarray()[0])\n",
    "    for i in range(len(untruthful_features[0])):\n",
    "        fis_scores[i].append(len(untruthful_features[0][i]))\n",
    "count = 0\n",
    "print()\n",
    "print('valid:')\n",
    "for fis_score in fis_scores:\n",
    "    fi = fis[count]\n",
    "    count = count + 1\n",
    "    print(' ',fi_names[fi],np.array(fis_score).mean())\n",
    "print(\"Altogether:\",np.array(fi_all).mean())"
   ]
  },
  {
   "cell_type": "markdown",
   "metadata": {},
   "source": [
    "## Qualitative:\n",
    "Let's see an example manually:"
   ]
  },
  {
   "cell_type": "code",
   "execution_count": 53,
   "metadata": {},
   "outputs": [],
   "source": [
    "temp_instance = x_train[9].copy()\n",
    "weights, real_prediction, local_prediction = lionetWA.explain_instance(temp_instance.A[0],7000, transparent_model)"
   ]
  },
  {
   "cell_type": "code",
   "execution_count": 56,
   "metadata": {},
   "outputs": [
    {
     "data": {
      "text/plain": [
       "'Sentence: \"Congrats ! Treat pending.i am not on mail for 2 days.will mail once thru.Respect mother at home.check mails.\"   Class: 0.1'"
      ]
     },
     "execution_count": 56,
     "metadata": {},
     "output_type": "execute_result"
    }
   ],
   "source": [
    "str('Sentence: \"' + X_trainR[9] + '\"   Class: ' + str(train_y[9]))"
   ]
  },
  {
   "cell_type": "code",
   "execution_count": 57,
   "metadata": {},
   "outputs": [
    {
     "name": "stdout",
     "output_type": "stream",
     "text": [
      "Real prediction: 0.10271977 , Local prediction: 0.10271924104856242\n"
     ]
    }
   ],
   "source": [
    "weights, real_prediction, local_prediction = lionetWA.explain_instance(x_train[9].A[0], 7000, transparent_model)\n",
    "print(\"Real prediction:\",real_prediction,\", Local prediction:\",local_prediction)"
   ]
  },
  {
   "cell_type": "code",
   "execution_count": 58,
   "metadata": {},
   "outputs": [],
   "source": [
    "model_weights = pd.DataFrame({\"Features\": list(vec.get_feature_names()), \n",
    "                              \"Features' Weights\": list(weights*x_train[9].A[0])})\n",
    "model_weights = model_weights.sort_values(by=\"Features' Weights\", ascending=False)\n",
    "model_weights = model_weights[(model_weights[\"Features' Weights\"] != 0)]    \n",
    "#This step is not necessary, but we do it only to have understandable interpretations\n",
    "model_weights['Features'][175] = 'congrats'\n",
    "model_weights['Features'][955] = 'will'\n",
    "model_weights['Features'][594] = 'once'\n",
    "model_weights['Features'][502] = 'mails'"
   ]
  },
  {
   "cell_type": "code",
   "execution_count": 59,
   "metadata": {},
   "outputs": [
    {
     "data": {
      "image/png": "[encoded data removed]",
      "text/plain": [
       "<Figure size 800x600 with 1 Axes>"
      ]
     },
     "metadata": {},
     "output_type": "display_data"
    }
   ],
   "source": [
    "plt.figure(num=None, figsize=(4, 3), dpi=200, facecolor='w', edgecolor='k')\n",
    "sns.barplot(x=\"Features' Weights\", y=\"Features\", data=model_weights)\n",
    "#plt.xticks(rotation=90)\n",
    "#plt.title(str('Features not appearing in the instance'))\n",
    "plt.show()"
   ]
  },
  {
   "cell_type": "markdown",
   "metadata": {},
   "source": [
    "Let's see words that are not appearing in this sentence, but appeared in the neighbourhood."
   ]
  },
  {
   "cell_type": "code",
   "execution_count": 60,
   "metadata": {
    "scrolled": true
   },
   "outputs": [
    {
     "data": {
      "text/plain": [
       "(35, 22, 0.004302129464891401, -0.005810900541025956, 'all', 'ad')"
      ]
     },
     "execution_count": 60,
     "metadata": {},
     "output_type": "execute_result"
    }
   ],
   "source": [
    "np.argmax(weights),np.argmin(weights),np.max(weights),np.min(weights),vec.get_feature_names()[np.argmax(weights)],vec.get_feature_names()[np.argmin(weights)]"
   ]
  },
  {
   "cell_type": "code",
   "execution_count": 71,
   "metadata": {},
   "outputs": [
    {
     "name": "stdout",
     "output_type": "stream",
     "text": [
      "Original 0.10271975\n",
      "Without Congrats 0.10155333\n",
      "Without mails 0.10357514\n",
      "With reply 0.10305728\n",
      "With ad 0.0987237\n"
     ]
    }
   ],
   "source": [
    "print(\"Original\",lime_predict(['congrat treat pend am not on mail for day wil mail onc thru respect mother at home check mail'])[0][1])\n",
    "print(\"Without Congrats\",lime_predict(['treat pend am not on mail for day wil mail onc thru respect mother at home check mail'])[0][1])\n",
    "print(\"Without mails\",lime_predict(['congrat treat pend am not on for day wil onc thru respect mother at home check'])[0][1])\n",
    "print(\"With reply\",lime_predict(['congrat all treat pend am not on mail for day wil mail onc thru respect mother at home check mail'])[0][1])\n",
    "print(\"With ad\",lime_predict(['ad congrat treat pend am not on mail for day wil mail ad onc thru respect mother at home check'])[0][1])"
   ]
  },
  {
   "cell_type": "code",
   "execution_count": 65,
   "metadata": {},
   "outputs": [],
   "source": [
    "counter_weights = []\n",
    "counter_features = []\n",
    "for i in range(len(weights)):\n",
    "    if weights[i]!=0:\n",
    "        if vec.get_feature_names()[i] not in X_train[9]:\n",
    "            counter_weights.append(weights[i])\n",
    "            counter_features.append(vec.get_feature_names()[i])\n",
    "co_weights = pd.DataFrame({\"Counter Features\": list(counter_features), \n",
    "                                  \"Features' Weights\": list(counter_weights)})\n",
    "co_weights = co_weights.sort_values(by=\"Features' Weights\", ascending=False)\n",
    "co_weights = pd.concat([co_weights.head(5),co_weights.tail(5)])\n",
    "co_weights['Counter Features'][670]='reply'"
   ]
  },
  {
   "cell_type": "code",
   "execution_count": 66,
   "metadata": {},
   "outputs": [
    {
     "data": {
      "image/png": "[encoded data removed]",
      "text/plain": [
       "<Figure size 800x600 with 1 Axes>"
      ]
     },
     "metadata": {},
     "output_type": "display_data"
    }
   ],
   "source": [
    "plt.figure(num=None, figsize=(4, 3), dpi=200, facecolor='w', edgecolor='k')\n",
    "sns.barplot(x=\"Features' Weights\", y=\"Counter Features\", data=co_weights)\n",
    "#plt.xticks(rotation=90)\n",
    "#plt.title(str('Features not appearing in the instance'))\n",
    "plt.show()"
   ]
  },
  {
   "cell_type": "markdown",
   "metadata": {},
   "source": [
    "However, in another sentence, repli is contributing to the other class"
   ]
  },
  {
   "cell_type": "code",
   "execution_count": 82,
   "metadata": {},
   "outputs": [
    {
     "data": {
      "text/plain": [
       "(\"How did you find out in a way that didn't include all of these details\",\n",
       " 'how did you find out in way that did not includ all of these detail')"
      ]
     },
     "execution_count": 82,
     "metadata": {},
     "output_type": "execute_result"
    }
   ],
   "source": [
    "inde = 4249\n",
    "X_trainR[inde],X_train[inde]"
   ]
  },
  {
   "cell_type": "code",
   "execution_count": 83,
   "metadata": {},
   "outputs": [],
   "source": [
    "weights, real_prediction, local_prediction = lionetWA.explain_instance(x_train[inde].A[0], 7000, transparent_model)"
   ]
  },
  {
   "cell_type": "code",
   "execution_count": 84,
   "metadata": {},
   "outputs": [
    {
     "data": {
      "image/png": "[encoded data removed]",
      "text/plain": [
       "<Figure size 800x600 with 1 Axes>"
      ]
     },
     "metadata": {},
     "output_type": "display_data"
    }
   ],
   "source": [
    "model_weights = pd.DataFrame({\"Features\": list(vec.get_feature_names()), \n",
    "                              \"Features' Weights\": list(weights*x_train[inde].A[0])})\n",
    "model_weights = model_weights.sort_values(by=\"Features' Weights\", ascending=False)\n",
    "model_weights = model_weights[(model_weights[\"Features' Weights\"] != 0)]    \n",
    "#model_weights, lime_predict([text])[0][1], rd.predict(texts)[0], weights\n",
    "plt.figure(num=None, figsize=(4, 3), dpi=200, facecolor='w', edgecolor='k')\n",
    "sns.barplot(x=\"Features' Weights\", y=\"Features\", data=model_weights)\n",
    "plt.show()"
   ]
  },
  {
   "cell_type": "code",
   "execution_count": 85,
   "metadata": {},
   "outputs": [
    {
     "name": "stdout",
     "output_type": "stream",
     "text": [
      "Original 0.10125001\n",
      "Without all 0.102066\n"
     ]
    }
   ],
   "source": [
    "print(\"Original\",lime_predict(['how did you find out in way that did not includ all of these detail'])[0][1])\n",
    "print(\"Without all\",lime_predict(['how did you find out in way that did not includ of these detail'])[0][1])"
   ]
  },
  {
   "cell_type": "code",
   "execution_count": null,
   "metadata": {},
   "outputs": [],
   "source": []
  }
 ],
 "metadata": {
  "kernelspec": {
   "display_name": "Python 3",
   "language": "python",
   "name": "python3"
  },
  "language_info": {
   "codemirror_mode": {
    "name": "ipython",
    "version": 3
   },
   "file_extension": ".py",
   "mimetype": "text/x-python",
   "name": "python",
   "nbconvert_exporter": "python",
   "pygments_lexer": "ipython3",
   "version": "3.7.8"
  }
 },
 "nbformat": 4,
 "nbformat_minor": 2
}
