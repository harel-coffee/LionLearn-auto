{
 "cells": [
  {
   "cell_type": "markdown",
   "metadata": {},
   "source": [
    "# LioNets: HateSpeech Dataset with Neural Networks and Embeddings-> Classification Task\n",
    "\n",
    "In this notebook, we present how LioNets can be applied in predictive models using embeddings as inputs."
   ]
  },
  {
   "cell_type": "code",
   "execution_count": 1,
   "metadata": {
    "colab": {},
    "colab_type": "code",
    "id": "IlqliX9gdv8D",
    "scrolled": true
   },
   "outputs": [
    {
     "name": "stderr",
     "output_type": "stream",
     "text": [
      "Using TensorFlow backend.\n"
     ]
    }
   ],
   "source": [
    "import warnings\n",
    "warnings.filterwarnings(\"ignore\")\n",
    "import keras\n",
    "from keras.preprocessing.sequence import pad_sequences\n",
    "from keras.layers import GlobalAveragePooling1D, GlobalMaxPooling1D, SpatialDropout1D, CuDNNLSTM, Bidirectional, Dense, \\\n",
    "    LSTM, Conv1D, MaxPooling1D, Dropout, concatenate, Flatten, add, RepeatVector, ConvLSTM2D, TimeDistributed, Reshape\n",
    "from keras import initializers, regularizers, constraints\n",
    "from keras.models import model_from_json\n",
    "from keras import objectives, backend as K\n",
    "from keras.engine import Layer\n",
    "from keras.callbacks import ModelCheckpoint, EarlyStopping\n",
    "from keras import Input, Model\n",
    "from keras.optimizers import Adam\n",
    "from keras.models import Sequential, clone_model\n",
    "from keras.layers.embeddings import Embedding\n",
    "from keras.preprocessing.text import Tokenizer\n",
    "from sklearn.model_selection import StratifiedKFold, KFold, train_test_split\n",
    "from sklearn.preprocessing import MinMaxScaler\n",
    "from sklearn.feature_extraction.text import TfidfVectorizer, CountVectorizer\n",
    "from sklearn.metrics import confusion_matrix, f1_score, accuracy_score, precision_score, recall_score\n",
    "from sklearn.metrics import mean_absolute_error, mean_squared_error, r2_score, f1_score, balanced_accuracy_score, accuracy_score\n",
    "import tensorflow as tf\n",
    "tf.logging.set_verbosity(tf.logging.ERROR)\n",
    "\n",
    "import time\n",
    "import tensorflow as tf\n",
    "import numpy as np\n",
    "import matplotlib.pyplot as plt\n",
    "import re\n",
    "from collections import OrderedDict\n",
    "import pandas as pd\n",
    "pd.set_option('max_colwidth',400)\n",
    "\n",
    "import tensorflow as tf\n",
    "tf.logging.set_verbosity(tf.logging.ERROR)\n",
    "\n",
    "from lionets import LioNets\n",
    "from utilities.custom_attention import Attention\n",
    "from utilities.load_dataset import Load_Dataset\n",
    "from utilities.evaluation import Evaluation\n",
    "\n",
    "from altruist.altruist import Altruist\n",
    "\n",
    "from lime.lime_text import LimeTextExplainer\n",
    "import innvestigate\n",
    "import innvestigate.utils as iutils\n",
    "from innvestigate.utils.keras import checks"
   ]
  },
  {
   "cell_type": "code",
   "execution_count": 2,
   "metadata": {
    "colab": {
     "base_uri": "https://localhost:8080/",
     "height": 102
    },
    "colab_type": "code",
    "id": "sG8-UNmQAyrE",
    "outputId": "606dd583-084a-4d75-efab-81512dbe99c8"
   },
   "outputs": [
    {
     "name": "stdout",
     "output_type": "stream",
     "text": [
      "[nltk_data] Downloading package wordnet to /root/nltk_data...\n",
      "[nltk_data]   Package wordnet is already up-to-date!\n",
      "[nltk_data] Downloading package stopwords to /root/nltk_data...\n",
      "[nltk_data]   Package stopwords is already up-to-date!\n"
     ]
    },
    {
     "data": {
      "text/plain": [
       "True"
      ]
     },
     "execution_count": 2,
     "metadata": {},
     "output_type": "execute_result"
    }
   ],
   "source": [
    "import nltk\n",
    "nltk.download('wordnet')\n",
    "nltk.download('stopwords')"
   ]
  },
  {
   "cell_type": "code",
   "execution_count": 3,
   "metadata": {},
   "outputs": [],
   "source": [
    "X, y = Load_Dataset.load_hate_data(True,False)\n",
    "X_unsup,y_unsup = Load_Dataset.load_hate_unsupervised_data(True,False)"
   ]
  },
  {
   "cell_type": "code",
   "execution_count": 4,
   "metadata": {},
   "outputs": [],
   "source": [
    "from collections import Counter\n",
    "from imblearn.under_sampling import RandomUnderSampler \n",
    "rus = RandomUnderSampler(random_state=42)\n",
    "X_unsup,y_unsup = rus.fit_resample(np.array(X_unsup).reshape(-1, 1),y_unsup)"
   ]
  },
  {
   "cell_type": "code",
   "execution_count": 5,
   "metadata": {},
   "outputs": [],
   "source": [
    "class_names = ['noHateSpeech', 'hateSpeech']\n",
    "X_train, X_valid, y_train, y_valid =  train_test_split(X,y,test_size=0.2, stratify = y, random_state=0)"
   ]
  },
  {
   "cell_type": "code",
   "execution_count": 6,
   "metadata": {
    "colab": {
     "base_uri": "https://localhost:8080/",
     "height": 578
    },
    "colab_type": "code",
    "id": "xMD34FnoeN6H",
    "outputId": "e962fbe0-66ca-4ff5-8bec-198ca68a3145",
    "scrolled": false
   },
   "outputs": [
    {
     "data": {
      "text/plain": [
       "'\\nimport zipfile\\n!wget \\'https://nlp.stanford.edu/data/glove.twitter.27B.zip\\'\\nwith zipfile.ZipFile(\"glove.twitter.27B.zip\", \"r\") as zip_ref:\\n    zip_ref.extractall()\\n    print(zip_ref.filelist)\\ndel zip_ref\\n'"
      ]
     },
     "execution_count": 6,
     "metadata": {},
     "output_type": "execute_result"
    }
   ],
   "source": [
    "\"\"\"\n",
    "import zipfile\n",
    "!wget 'https://nlp.stanford.edu/data/glove.twitter.27B.zip'\n",
    "with zipfile.ZipFile(\"glove.twitter.27B.zip\", \"r\") as zip_ref:\n",
    "    zip_ref.extractall()\n",
    "    print(zip_ref.filelist)\n",
    "del zip_ref\n",
    "\"\"\""
   ]
  },
  {
   "cell_type": "code",
   "execution_count": 7,
   "metadata": {
    "colab": {},
    "colab_type": "code",
    "id": "mGSO0Vv1fcN4"
   },
   "outputs": [],
   "source": [
    "def get_coefs(word,*arr):\n",
    "    return word, np.asarray(arr, dtype='float32')"
   ]
  },
  {
   "cell_type": "code",
   "execution_count": 8,
   "metadata": {
    "colab": {},
    "colab_type": "code",
    "id": "SM-R5Y-7f10f"
   },
   "outputs": [],
   "source": [
    "def build_matrix(embedding_path, tk, max_features):\n",
    "    embedding_index = dict(get_coefs(*o.strip().split(\" \")) for o in open(embedding_path, encoding = \"utf-8\"))\n",
    "\n",
    "    word_index = tk.word_index\n",
    "    nb_words = max_features\n",
    "    embedding_matrix = np.zeros((nb_words + 1, 50))\n",
    "    for word, i in word_index.items():\n",
    "        if i >= max_features:\n",
    "            continue\n",
    "        embedding_vector = embedding_index.get(word)\n",
    "        if embedding_vector is not None:\n",
    "            embedding_matrix[i] = embedding_vector\n",
    "    return embedding_matrix  "
   ]
  },
  {
   "cell_type": "code",
   "execution_count": 9,
   "metadata": {
    "colab": {},
    "colab_type": "code",
    "id": "T3cVmRJwe4gE"
   },
   "outputs": [],
   "source": [
    "embedding_path1 = 'glove.twitter.27B.50d.txt' #GloveSmall\n",
    "embed_size = 50"
   ]
  },
  {
   "cell_type": "code",
   "execution_count": 10,
   "metadata": {
    "colab": {},
    "colab_type": "code",
    "id": "IcsGGos6hJ_0"
   },
   "outputs": [],
   "source": [
    "max_features = 1000\n",
    "max_len = 50"
   ]
  },
  {
   "cell_type": "code",
   "execution_count": 11,
   "metadata": {},
   "outputs": [
    {
     "data": {
      "text/plain": [
       "((798,), (2860, 1))"
      ]
     },
     "execution_count": 11,
     "metadata": {},
     "output_type": "execute_result"
    }
   ],
   "source": [
    "X_train.shape, X_unsup.shape"
   ]
  },
  {
   "cell_type": "code",
   "execution_count": 12,
   "metadata": {
    "scrolled": true
   },
   "outputs": [],
   "source": [
    "tk = Tokenizer(lower = True, filters='', num_words=max_features, oov_token = True)\n",
    "tk.fit_on_texts(np.concatenate((X_train,X_valid)))\n",
    "train_tokenized = tk.texts_to_sequences(X_train)\n",
    "valid_tokenized = tk.texts_to_sequences(X_valid)\n",
    "X_tr = pad_sequences(train_tokenized, maxlen=max_len)\n",
    "X_va = pad_sequences(valid_tokenized, maxlen=max_len)\n",
    "\n",
    "usnup_tokenized = tk.texts_to_sequences([i[0] for i in X_unsup])\n",
    "X_un = pad_sequences(usnup_tokenized, maxlen=max_len)"
   ]
  },
  {
   "cell_type": "code",
   "execution_count": 13,
   "metadata": {
    "colab": {
     "base_uri": "https://localhost:8080/",
     "height": 34
    },
    "colab_type": "code",
    "id": "_Bf1Jsmiqe5J",
    "outputId": "77253145-1446-4164-ba59-87b3ec466cd2"
   },
   "outputs": [
    {
     "data": {
      "text/plain": [
       "(1001, 50)"
      ]
     },
     "execution_count": 13,
     "metadata": {},
     "output_type": "execute_result"
    }
   ],
   "source": [
    "embedding_matrix = build_matrix(embedding_path1, tk, max_features)\n",
    "embedding_matrix.shape"
   ]
  },
  {
   "cell_type": "code",
   "execution_count": 14,
   "metadata": {
    "colab": {},
    "colab_type": "code",
    "id": "SuzKHET-uGsV"
   },
   "outputs": [],
   "source": [
    "train_y = [0.1 if i <=0.5 else 0.9 for i in y_train]\n",
    "valid_y = [0.1 if i <=0.5 else 0.9 for i in y_valid]\n",
    "unsup_y = [0.1 if i <=0.5 else 0.9 for i in y_unsup]"
   ]
  },
  {
   "cell_type": "code",
   "execution_count": 15,
   "metadata": {
    "colab": {},
    "colab_type": "code",
    "id": "6gKuchEVbJot"
   },
   "outputs": [],
   "source": [
    "file_path = \"Hate_Predictor.hdf5\"\n",
    "check_point = ModelCheckpoint(file_path, monitor=\"val_loss\", verbose=2,save_best_only=True, mode=\"auto\")\n",
    "main_input = Input(shape=(max_len,), dtype='int32', name='main_input')\n",
    "embedding_input = (Embedding(max_features + 1, 50, input_length=max_len,  weights=[embedding_matrix], trainable=False))(main_input)\n",
    "\n",
    "embedding_input2 = SpatialDropout1D(0.3)(embedding_input)\n",
    "\n",
    "x = Bidirectional(LSTM(50, dropout=0.7, return_sequences=True))(embedding_input2)\n",
    "encoder_x = concatenate([\n",
    "    Attention(max_len)(x),\n",
    "    GlobalMaxPooling1D()(x),\n",
    "])\n",
    "\n",
    "y = Conv1D(filters=50,kernel_size=3,activation='tanh')(embedding_input2)\n",
    "encoder_y = GlobalMaxPooling1D()(y)\n",
    "\n",
    "hidden = concatenate([encoder_x,encoder_y])\n",
    "\n",
    "hidden = Dropout(0.7)(hidden)\n",
    "hidden = Dense(500, activation='tanh')(hidden)\n",
    "output_lay = Dense(1, activation='sigmoid')(hidden)\n",
    "model = Model(inputs=[main_input], outputs=[output_lay])"
   ]
  },
  {
   "cell_type": "code",
   "execution_count": 16,
   "metadata": {},
   "outputs": [],
   "source": [
    "model.compile(loss=\"binary_crossentropy\", optimizer=Adam())"
   ]
  },
  {
   "cell_type": "code",
   "execution_count": 17,
   "metadata": {
    "scrolled": true
   },
   "outputs": [],
   "source": [
    "#model.fit(X_un, unsup_y, batch_size=128, epochs=50, verbose=2, shuffle=True) #warm start"
   ]
  },
  {
   "cell_type": "code",
   "execution_count": 18,
   "metadata": {
    "colab": {
     "base_uri": "https://localhost:8080/",
     "height": 1000
    },
    "colab_type": "code",
    "id": "wLKVVlb7lQE6",
    "outputId": "fc9c0a35-d279-4947-dd52-2887f5a65fdc",
    "scrolled": true
   },
   "outputs": [],
   "source": [
    "#model.fit(X_tr, train_y, batch_size=128, \n",
    "#        epochs=100, validation_data=(X_va, valid_y), verbose=1, callbacks=[check_point], shuffle=True) #Fine tune"
   ]
  },
  {
   "cell_type": "code",
   "execution_count": 19,
   "metadata": {
    "colab": {},
    "colab_type": "code",
    "id": "LJd3cKmevH9x"
   },
   "outputs": [],
   "source": [
    "weights_file = 'weights/Hate_Predictor.hdf5' # choose the best checkpoint few features\n",
    "model.load_weights(weights_file) # load it\n",
    "model.compile(loss=\"binary_crossentropy\", optimizer=Adam())"
   ]
  },
  {
   "cell_type": "code",
   "execution_count": 20,
   "metadata": {},
   "outputs": [
    {
     "name": "stdout",
     "output_type": "stream",
     "text": [
      "Train: 0.7787692208503917 0.7834828520642375 0.7768619878254642 0.7844611528822055\n",
      "Train: 0.7229064039408867 0.7286699507389162 0.7213915166310649 0.73\n"
     ]
    }
   ],
   "source": [
    "from sklearn.metrics import mean_absolute_error, mean_squared_error, r2_score, f1_score, balanced_accuracy_score, accuracy_score\n",
    "\n",
    "temp_predo1 = model.predict(X_tr)\n",
    "predictions = [0 if i[0] <=0.5 else 1 for i in temp_predo1]\n",
    "print('Train:',f1_score(y_train,predictions, average='macro'),f1_score(y_train,predictions, average='weighted'),\n",
    "      balanced_accuracy_score(y_train,predictions),accuracy_score(y_train,predictions))\n",
    "\n",
    "temp_predo2 = model.predict(X_va)\n",
    "predictions = [0 if i[0] <=0.5 else 1 for i in temp_predo2]\n",
    "print('Train:',f1_score(y_valid,predictions, average='macro'),f1_score(y_valid,predictions, average='weighted'),\n",
    "      balanced_accuracy_score(y_valid,predictions), accuracy_score(y_valid,predictions))"
   ]
  },
  {
   "cell_type": "code",
   "execution_count": 21,
   "metadata": {
    "colab": {
     "base_uri": "https://localhost:8080/",
     "height": 598
    },
    "colab_type": "code",
    "id": "flIxO3vf1ziN",
    "outputId": "b21919ac-a6cd-4dd9-f6bb-4eca01a2f8a6",
    "scrolled": true
   },
   "outputs": [],
   "source": [
    "encoder = Model(input=model.input, output=[model.layers[-2].output])\n",
    "encoder.trainable = False\n",
    "encoder.compile(loss=\"binary_crossentropy\", optimizer=Adam(), metrics=[\"accuracy\"])"
   ]
  },
  {
   "cell_type": "code",
   "execution_count": 22,
   "metadata": {
    "colab": {},
    "colab_type": "code",
    "id": "6OoKuusf173A"
   },
   "outputs": [],
   "source": [
    "predictor_for_encoded = Sequential()\n",
    "predictor_for_encoded.add(model.layers[len(model.layers)-1])"
   ]
  },
  {
   "cell_type": "code",
   "execution_count": 23,
   "metadata": {
    "colab": {},
    "colab_type": "code",
    "id": "7mEfpHTe2CJi"
   },
   "outputs": [],
   "source": [
    "encoded_x_train = encoder.predict(X_tr)\n",
    "encoded_x_valid = encoder.predict(X_va)\n",
    "encoded_x_unsup = encoder.predict(X_un)"
   ]
  },
  {
   "cell_type": "code",
   "execution_count": 24,
   "metadata": {},
   "outputs": [],
   "source": [
    "iw = tk.index_word.copy()\n",
    "iw[1]='UKN'\n",
    "X_T = []\n",
    "for i in X_tr:\n",
    "    X_T.append(' '.join([iw[o] for o in i if o !=0]))\n",
    "X_V = []\n",
    "for i in X_va:\n",
    "    X_V.append(' '.join([iw[o] for o in i if o !=0]))\n",
    "X_U = []\n",
    "for i in X_un:\n",
    "    X_U.append(' '.join([iw[o] for o in i if o !=0]))"
   ]
  },
  {
   "cell_type": "code",
   "execution_count": 25,
   "metadata": {},
   "outputs": [
    {
     "data": {
      "text/plain": [
       "('comments likes and no views gg youtube',\n",
       " 'comments UKN and no views UKN youtube',\n",
       " 'all my white school teachers back in elementary knew not to give me no pussy am telling all of my niggas',\n",
       " 'all my white school UKN back in UKN knew not to give me no UKN am UKN all of my UKN')"
      ]
     },
     "execution_count": 25,
     "metadata": {},
     "output_type": "execute_result"
    }
   ],
   "source": [
    "X_train[5],X_T[5], X_unsup[5][0], X_U[5]"
   ]
  },
  {
   "cell_type": "code",
   "execution_count": 26,
   "metadata": {},
   "outputs": [],
   "source": [
    "max_features_2 = max_features + 1\n",
    "temp = np.zeros((X_tr.shape[0], max_len, max_features_2))\n",
    "temp[np.expand_dims(np.arange(X_tr.shape[0]), axis=0).reshape(X_tr.shape[0], 1), \n",
    "     np.repeat(np.array([np.arange(max_len)]), X_tr.shape[0], axis=0), X_tr] = 1\n",
    "X_train_one_hot = temp\n",
    "\n",
    "temp = np.zeros((X_va.shape[0], max_len, max_features_2))\n",
    "temp[np.expand_dims(np.arange(X_va.shape[0]), axis=0).reshape(X_va.shape[0], 1), \n",
    "     np.repeat(np.array([np.arange(max_len)]), X_va.shape[0], axis=0), X_va] = 1\n",
    "X_valid_one_hot = temp\n",
    "\n",
    "temp = np.zeros((X_un.shape[0], max_len, max_features_2))\n",
    "temp[np.expand_dims(np.arange(X_un.shape[0]), axis=0).reshape(X_un.shape[0], 1), \n",
    "     np.repeat(np.array([np.arange(max_len)]), X_un.shape[0], axis=0), X_un] = 1\n",
    "X_unsup_one_hot = temp"
   ]
  },
  {
   "cell_type": "code",
   "execution_count": 27,
   "metadata": {},
   "outputs": [
    {
     "data": {
      "text/plain": [
       "(798, 50, 1001)"
      ]
     },
     "execution_count": 27,
     "metadata": {},
     "output_type": "execute_result"
    }
   ],
   "source": [
    "X_train_one_hot.shape"
   ]
  },
  {
   "cell_type": "code",
   "execution_count": 28,
   "metadata": {},
   "outputs": [],
   "source": [
    "encoded_input = Input(shape=(encoded_x_train[0].shape))\n",
    "main_inp = Dense(1000, activation='tanh')(encoded_input)\n",
    "repres = []\n",
    "for i in range(50):\n",
    "    hidden = Dense(1001, activation='softmax')(main_inp)\n",
    "    repres.append(hidden)\n",
    "con = concatenate(repres)\n",
    "con = Reshape((50,1001),input_shape=(50050,))(con)\n",
    "#con = LSTM(1001, dropout=0.7, activation='softmax',return_sequences=True)(con)\n",
    "decoder = Model(encoded_input,con)\n",
    "#decoder.summary()\n",
    "decoder.compile(optimizer=\"Adam\",loss=['categorical_crossentropy'],metrics=['mae'])\n",
    "\n",
    "checkpoint_name = 'Hate_Decoder.hdf5' \n",
    "checkpoint = ModelCheckpoint(checkpoint_name, monitor='val_loss', verbose = 2, save_best_only = True, mode ='auto')"
   ]
  },
  {
   "cell_type": "code",
   "execution_count": 29,
   "metadata": {},
   "outputs": [],
   "source": [
    "#decoder.fit(encoded_x_unsup, X_unsup_one_hot,\n",
    "#             epochs=100, batch_size=256, shuffle=True,\n",
    "#             verbose=2, callbacks=[checkpoint])"
   ]
  },
  {
   "cell_type": "code",
   "execution_count": 30,
   "metadata": {
    "scrolled": true
   },
   "outputs": [],
   "source": [
    "#decoder.fit(encoded_x_train, X_train_one_hot, \n",
    "#             epochs=200, batch_size=128, shuffle=True, \n",
    "#             validation_data=(encoded_x_valid, X_valid_one_hot), \n",
    "#             verbose=1, callbacks=[checkpoint])"
   ]
  },
  {
   "cell_type": "code",
   "execution_count": 31,
   "metadata": {},
   "outputs": [],
   "source": [
    "wights_file = 'weights/Hate_Decoder.hdf5' # choose the best checkpoint few features\n",
    "decoder.load_weights(wights_file) # load it\n",
    "decoder.compile(optimizer=\"Adam\",loss=['categorical_crossentropy'],metrics=['mae'])"
   ]
  },
  {
   "cell_type": "code",
   "execution_count": 32,
   "metadata": {},
   "outputs": [
    {
     "name": "stdout",
     "output_type": "stream",
     "text": [
      "798/798 [==============================] - 2s 3ms/step\n"
     ]
    },
    {
     "data": {
      "text/plain": [
       "[0.07357196041142433, 0.00010854411888622532]"
      ]
     },
     "execution_count": 32,
     "metadata": {},
     "output_type": "execute_result"
    }
   ],
   "source": [
    "decoder.evaluate(encoded_x_train,X_train_one_hot)"
   ]
  },
  {
   "cell_type": "code",
   "execution_count": 33,
   "metadata": {},
   "outputs": [
    {
     "name": "stdout",
     "output_type": "stream",
     "text": [
      "200/200 [==============================] - 0s 2ms/step\n"
     ]
    },
    {
     "data": {
      "text/plain": [
       "[0.07654393821954728, 0.00011106041754828766]"
      ]
     },
     "execution_count": 33,
     "metadata": {},
     "output_type": "execute_result"
    }
   ],
   "source": [
    "decoder.evaluate(encoded_x_valid,X_valid_one_hot)"
   ]
  },
  {
   "cell_type": "code",
   "execution_count": 34,
   "metadata": {},
   "outputs": [],
   "source": [
    "tk.index_word[1]='UKN'"
   ]
  },
  {
   "cell_type": "code",
   "execution_count": 35,
   "metadata": {},
   "outputs": [],
   "source": [
    "tk.word_index['UKN'] = 1"
   ]
  },
  {
   "cell_type": "code",
   "execution_count": 36,
   "metadata": {},
   "outputs": [],
   "source": [
    "decoded_x_train = decoder.predict(encoded_x_train) \n",
    "temp = []\n",
    "for j in range(len(decoded_x_train)):\n",
    "    tempo = decoded_x_train[j]\n",
    "    tempo_ind = []\n",
    "    for i in tempo:\n",
    "        tempo_ind.append(np.argmax(i))\n",
    "    temp.append(tempo_ind)\n",
    "decoded_x_train = np.array(temp)\n",
    "\n",
    "decoded_x_valid = decoder.predict(encoded_x_valid) \n",
    "temp = []\n",
    "for j in range(len(decoded_x_valid)):\n",
    "    tempo = decoded_x_valid[j]\n",
    "    tempo_ind = []\n",
    "    for i in tempo:\n",
    "\n",
    "        tempo_ind.append(np.argmax(i))\n",
    "    temp.append(tempo_ind)\n",
    "decoded_x_valid = np.array(temp)"
   ]
  },
  {
   "cell_type": "code",
   "execution_count": 37,
   "metadata": {},
   "outputs": [
    {
     "name": "stdout",
     "output_type": "stream",
     "text": [
      "Train dec: 0.9937296472786397 0.9927723081731521\n",
      "Test dec: 0.99 0.9896254798215582\n",
      "Train dec mae: 0.0064623\n",
      "Train dec mae: 0.006024531\n"
     ]
    }
   ],
   "source": [
    "temp_pred = model.predict(X_tr)\n",
    "predictions1 = [0 if i[0] <=0.5 else 1 for i in temp_pred]\n",
    "predictions7 = [i[0] for i in temp_pred]\n",
    "\n",
    "temp_pred = model.predict(X_va)\n",
    "predictions2 = [0 if i[0] <=0.5 else 1 for i in temp_pred]\n",
    "predictions8 = [i[0] for i in temp_pred]\n",
    "\n",
    "temp_pred = model.predict(decoded_x_train)\n",
    "predictions3 = [0 if i[0] <=0.5 else 1 for i in temp_pred]\n",
    "print('Train dec:',f1_score(predictions1,predictions3, average='weighted'),balanced_accuracy_score(predictions1,predictions3))\n",
    "temp_pred = model.predict(decoded_x_valid)\n",
    "predictions4 = [0 if i[0] <=0.5 else 1 for i in temp_pred]\n",
    "print('Test dec:',f1_score(predictions2,predictions4, average='weighted'),balanced_accuracy_score(predictions2,predictions4))\n",
    "\n",
    "temp_pred = model.predict(decoded_x_train)\n",
    "predictions5 = [i[0] for i in temp_pred]\n",
    "print('Train dec mae:',mean_absolute_error(predictions7,predictions5))\n",
    "temp_pred = model.predict(decoded_x_valid)\n",
    "predictions6 = [i[0] for i in temp_pred]\n",
    "print('Train dec mae:',mean_absolute_error(predictions8,predictions6))"
   ]
  },
  {
   "cell_type": "code",
   "execution_count": 38,
   "metadata": {},
   "outputs": [],
   "source": [
    "instances_evaluation = decoder.predict(encoded_x_train[40:46]) "
   ]
  },
  {
   "cell_type": "code",
   "execution_count": 39,
   "metadata": {},
   "outputs": [
    {
     "name": "stdout",
     "output_type": "stream",
     "text": [
      " Original: if were you would UKN lethal UKN to my sick child UKN \n",
      "  Decoded: if were you would UKN lethal UKN UKN my sick child UKN \n",
      "\"\"\"\"\"\"\"\"\"\"\"\"\"\"\"\"\"\"\n",
      " Original: UKN UKN asians UKN less crime than us well this is because they are UKN UKN UKN white power \n",
      "  Decoded: UKN asians UKN less crime than us well this is because they are UKN UKN UKN white power \n",
      "\"\"\"\"\"\"\"\"\"\"\"\"\"\"\"\"\"\"\n",
      " Original: maybe it is because you are autistic wish you death \n",
      "  Decoded: maybe it UKN because you are autistic wish you death \n",
      "\"\"\"\"\"\"\"\"\"\"\"\"\"\"\"\"\"\"\n",
      " Original: if they are so much like family why don they treat them like family and UKN thier UKN \n",
      "  Decoded: if they are so much like family why don they treat them like family and UKN thier UKN \n",
      "\"\"\"\"\"\"\"\"\"\"\"\"\"\"\"\"\"\"\n",
      " Original: my parents are UKN \n",
      "  Decoded: my parents are UKN \n",
      "\"\"\"\"\"\"\"\"\"\"\"\"\"\"\"\"\"\"\n",
      " Original: disgusting sick UKN kill yourself \n",
      "  Decoded: disgusting sick UKN kill yourself \n",
      "\"\"\"\"\"\"\"\"\"\"\"\"\"\"\"\"\"\"\n"
     ]
    }
   ],
   "source": [
    "for j in range(len(instances_evaluation)):\n",
    "    tempo = X_train_one_hot[j+40]\n",
    "    tempo_ind = []\n",
    "    tempo_str = \"\"\n",
    "    for i in tempo:\n",
    "        tempo_ind.append(np.argmax(i))\n",
    "        if np.argmax(i) != 0 and np.argmax(i)!=True:\n",
    "            tempo_str = tempo_str + tk.index_word[np.argmax(i)]+\" \"\n",
    "        elif np.argmax(i) == True:\n",
    "            tempo_str = tempo_str + 'UKN'+ \" \"\n",
    "    print(\" Original:\",tempo_str)\n",
    "\n",
    "    tempo = instances_evaluation[j]\n",
    "    tempo_ind = []\n",
    "    tempo_str = \"\"\n",
    "    for i in tempo:\n",
    "        tempo_ind.append(np.argmax(i))\n",
    "        if np.argmax(i) != 0 and np.argmax(i)!=True:\n",
    "            #print(sorted(i,reverse=True)[:5])\n",
    "            #print(i.max(),tk.index_word[np.argmax(i)])\n",
    "            tempo_str = tempo_str + tk.index_word[np.argmax(i)]+\" \"\n",
    "        elif np.argmax(i) == True:\n",
    "            tempo_str = tempo_str + 'UKN'+ \" \"\n",
    "    print(\"  Decoded:\",tempo_str)\n",
    "    print('\"\"\"\"\"\"\"\"\"\"\"\"\"\"\"\"\"\"')"
   ]
  },
  {
   "cell_type": "code",
   "execution_count": 40,
   "metadata": {},
   "outputs": [],
   "source": [
    "instances_evaluation = decoder.predict(encoded_x_valid[11:17]) "
   ]
  },
  {
   "cell_type": "code",
   "execution_count": 41,
   "metadata": {},
   "outputs": [
    {
     "name": "stdout",
     "output_type": "stream",
     "text": [
      " Original as black person think that UKN should stop UKN the word in the song UKN you should be proud of being white am proud of being black so \n",
      "  Decoded: as black person think that UKN should stop UKN the word in the song UKN you should be proud of being white am proud of being black so \n",
      "\"\"\"\"\"\"\"\"\"\"\"\"\"\"\"\"\"\"\n",
      " Original homo so you fuck your brother instead of your UKN \n",
      "  Decoded: homo so you fuck your brother instead of your UKN \n",
      "\"\"\"\"\"\"\"\"\"\"\"\"\"\"\"\"\"\"\n",
      " Original indian UKN UKN you look like you UKN UKN UKN women on UKN \n",
      "  Decoded: indian UKN UKN you look like UKN UKN UKN UKN women on UKN \n",
      "\"\"\"\"\"\"\"\"\"\"\"\"\"\"\"\"\"\"\n",
      " Original UKN is the UKN that comes out of UKN dream UKN \n",
      "  Decoded: is UKN that comes out of of dream UKN \n",
      "\"\"\"\"\"\"\"\"\"\"\"\"\"\"\"\"\"\"\n",
      " Original what the fuck stupid people \n",
      "  Decoded: what the fuck stupid people \n",
      "\"\"\"\"\"\"\"\"\"\"\"\"\"\"\"\"\"\"\n",
      " Original islam is the true religion believe it UKN \n",
      "  Decoded: islam is the true religion believe it UKN \n",
      "\"\"\"\"\"\"\"\"\"\"\"\"\"\"\"\"\"\"\n"
     ]
    }
   ],
   "source": [
    "for j in range(len(instances_evaluation)):\n",
    "    tempo = X_valid_one_hot[j+11]\n",
    "    tempo_ind = []\n",
    "    tempo_str = \"\"\n",
    "    for i in tempo:\n",
    "        tempo_ind.append(np.argmax(i))\n",
    "        if np.argmax(i) != 0 and np.argmax(i)!=True:\n",
    "            tempo_str = tempo_str + tk.index_word[np.argmax(i)]+\" \"\n",
    "        elif np.argmax(i) == True:\n",
    "            tempo_str = tempo_str + 'UKN'+ \" \"\n",
    "    print(\" Original\",tempo_str)\n",
    "\n",
    "    tempo = instances_evaluation[j]\n",
    "    tempo_ind = []\n",
    "    tempo_str = \"\"\n",
    "    for i in tempo:\n",
    "        tempo_ind.append(np.argmax(i))\n",
    "        if np.argmax(i) != 0 and np.argmax(i)!=True:\n",
    "            tempo_str = tempo_str + tk.index_word[np.argmax(i)]+\" \"\n",
    "        elif np.argmax(i) == True:\n",
    "            tempo_str = tempo_str + 'UKN'+ \" \"\n",
    "    print(\"  Decoded:\",tempo_str)\n",
    "    print('\"\"\"\"\"\"\"\"\"\"\"\"\"\"\"\"\"\"')"
   ]
  },
  {
   "cell_type": "markdown",
   "metadata": {
    "collapsed": true
   },
   "source": [
    "## LioNets Experiments\n",
    "Having everything setted up, we are now ready to try our methodology, Gradient x Input and LIME."
   ]
  },
  {
   "cell_type": "code",
   "execution_count": 42,
   "metadata": {},
   "outputs": [],
   "source": [
    "from sklearn.linear_model import Ridge\n",
    "transparent_model = Ridge(alpha=0.01,fit_intercept=True,random_state=0)\n",
    "\n",
    "lionet = LioNets(model, decoder, encoder, X_tr, decoder_lower_threshold=0, double_detector=True, \n",
    "                 embeddings=True, tk=tk, word_apheresis=False)\n",
    "lionetWA = LioNets(model, decoder, encoder, X_tr, decoder_lower_threshold=0, double_detector=True, \n",
    "                 embeddings=True, tk=tk, word_apheresis=True)"
   ]
  },
  {
   "cell_type": "code",
   "execution_count": 43,
   "metadata": {},
   "outputs": [
    {
     "data": {
      "text/plain": [
       "((200, 50), (200, 50))"
      ]
     },
     "execution_count": 43,
     "metadata": {},
     "output_type": "execute_result"
    }
   ],
   "source": [
    "import random \n",
    "random.seed(2000)\n",
    "train = np.array(random.sample(list(X_tr),200))\n",
    "valid = np.array(X_va[:200]) #X_V is 200 already\n",
    "train.shape, valid.shape"
   ]
  },
  {
   "cell_type": "markdown",
   "metadata": {},
   "source": [
    "Let's calculate the fidelity of Lime and LioNets"
   ]
  },
  {
   "cell_type": "code",
   "execution_count": 44,
   "metadata": {},
   "outputs": [],
   "source": [
    "split_expression = lambda s: re.split(r'\\W+', s)\n",
    "explainer = LimeTextExplainer(class_names=class_names, split_expression=split_expression)\n",
    "def lime_predict(text):\n",
    "    i = tk.texts_to_sequences(text)\n",
    "    i = pad_sequences(i, maxlen=max_len)\n",
    "    a = model.predict(i)\n",
    "    b = 1 - a \n",
    "    return np.column_stack((b,a))"
   ]
  },
  {
   "cell_type": "code",
   "execution_count": 45,
   "metadata": {},
   "outputs": [],
   "source": [
    "def tts(text):\n",
    "    sent = ''\n",
    "    for i in text:    \n",
    "        if i != 0:\n",
    "            sent = sent + tk.index_word[i] + ' '\n",
    "    sent = sent[:-1]\n",
    "    return sent"
   ]
  },
  {
   "cell_type": "code",
   "execution_count": 46,
   "metadata": {},
   "outputs": [],
   "source": [
    "def fi_lime(text):\n",
    "    explanation = explainer.explain_instance(text_instance=tts(text), classifier_fn=lime_predict)\n",
    "    local_pred = explanation.local_pred[0]\n",
    "    return local_pred #This is because lime interprets class with label 1\n",
    "def fi_lionets(text):\n",
    "    _, _, loc_res, _, _ = lionet.explain_instance(text,8000,transparent_model)\n",
    "    return loc_res[0]\n",
    "def fi_lionetsWA(text):\n",
    "    _, _, loc_res, _, _ = lionetWA.explain_instance(text,6500,transparent_model)\n",
    "    return loc_res[0]"
   ]
  },
  {
   "cell_type": "code",
   "execution_count": 47,
   "metadata": {},
   "outputs": [],
   "source": [
    "evaluator = Evaluation(model.predict,None,None,True)"
   ]
  },
  {
   "cell_type": "code",
   "execution_count": 49,
   "metadata": {},
   "outputs": [
    {
     "name": "stdout",
     "output_type": "stream",
     "text": [
      "Train:\n",
      "  Lime fidelity: 0.019238350909563256\n",
      "  LioNets fidelity: 0.002254678248197535\n",
      "  LioNetsWA fidelity: 0.002040795748711755\n",
      "Valid:\n",
      "  Lime fidelity: 0.022016530893771803\n",
      "  LioNets fidelity: 0.0025515270719612365\n",
      "  LioNetsWA fidelity: 0.0020900368210683682\n"
     ]
    }
   ],
   "source": [
    "fidelity = evaluator.fidelity(train, [fi_lime, fi_lionets, fi_lionetsWA], class_n=0)\n",
    "print('Train:')\n",
    "print('  Lime fidelity:', fidelity[0][0])\n",
    "print('  LioNets fidelity:', fidelity[1][0])\n",
    "print('  LioNetsWA fidelity:', fidelity[2][0])\n",
    "fidelity = evaluator.fidelity(valid, [fi_lime, fi_lionets, fi_lionetsWA], class_n=0)\n",
    "print('Valid:')\n",
    "print('  Lime fidelity:', fidelity[0][0])\n",
    "print('  LioNets fidelity:', fidelity[1][0])\n",
    "print('  LioNetsWA fidelity:', fidelity[2][0])"
   ]
  },
  {
   "cell_type": "markdown",
   "metadata": {},
   "source": [
    "Let's calculate the non zero weights"
   ]
  },
  {
   "cell_type": "code",
   "execution_count": 50,
   "metadata": {},
   "outputs": [],
   "source": [
    "Xs = iutils.to_list(model.outputs)\n",
    "softmax_found = False\n",
    "ret = []\n",
    "for x in Xs:\n",
    "    layer, node_index, tensor_index = x._keras_history\n",
    "    if checks.contains_activation(layer, activation=\"sigmoid\"):\n",
    "        softmax_found = True\n",
    "        if isinstance(layer, keras.layers.Activation):\n",
    "            ret.append(layer.get_input_at(node_index))\n",
    "        else:\n",
    "            layer_wo_act = innvestigate.utils.keras.graph.copy_layer_wo_activation(layer)\n",
    "            ret.append(layer_wo_act(layer.get_input_at(node_index)))"
   ]
  },
  {
   "cell_type": "code",
   "execution_count": 51,
   "metadata": {},
   "outputs": [],
   "source": [
    "model2 = Model(input=model.input, output=ret)\n",
    "model2.trainable = False\n",
    "model2.compile(loss=\"binary_crossentropy\", optimizer=Adam(), metrics=[\"accuracy\"])\n",
    "analyzer = innvestigate.create_analyzer('lrp.epsilon', model2, neuron_selection_mode='max_activation', **{'epsilon': 1})"
   ]
  },
  {
   "cell_type": "code",
   "execution_count": 52,
   "metadata": {},
   "outputs": [],
   "source": [
    "def fi_LRP(X_t):\n",
    "    ooo = analyzer.analyze(np.array([X_t]))[0]\n",
    "    ooo = ooo*np.array([0 if i == 0 else 1 for i in X_t]) #only on lrp\n",
    "    return [ooo][0]"
   ]
  },
  {
   "cell_type": "code",
   "execution_count": 53,
   "metadata": {},
   "outputs": [],
   "source": [
    "def fi_lime(text):\n",
    "    sent=tts(text)\n",
    "    explanation = explainer.explain_instance(text_instance=sent, classifier_fn=lime_predict)\n",
    "    weights = OrderedDict(explanation.as_list())\n",
    "    lime_w = {}\n",
    "    for k,v in weights.items():\n",
    "        lime_w[tk.word_index[k]] = v\n",
    "    interpretation = []\n",
    "    for i in text:\n",
    "        if i == 0:\n",
    "            interpretation.append(0)\n",
    "        else:\n",
    "            if i in lime_w.keys():\n",
    "                interpretation.append(lime_w[i])\n",
    "            else:\n",
    "                interpretation.append(0)\n",
    "    return np.array([interpretation])[0]"
   ]
  },
  {
   "cell_type": "code",
   "execution_count": 54,
   "metadata": {},
   "outputs": [],
   "source": [
    "def fi_lionets(text):\n",
    "    weights, _, _, names, instance = lionet.explain_instance(text,8000,transparent_model)\n",
    "    weights = weights\n",
    "    lionets_w = {}\n",
    "    for i in range(len(list(weights[0]))):\n",
    "        v = weights[0][i]\n",
    "        k = names[i]\n",
    "        if k == 'ukn':\n",
    "            lionets_w[tk.word_index['UKN']] = v\n",
    "        else:\n",
    "            lionets_w[tk.word_index[k]] = v\n",
    "    interpretation = []\n",
    "    for i in text:\n",
    "        if i == 0:\n",
    "            interpretation.append(0)\n",
    "        else:\n",
    "            if i in lionets_w:\n",
    "                interpretation.append(lionets_w[i])\n",
    "            else:\n",
    "                interpretation.append(0)\n",
    "    return np.array([interpretation])[0]"
   ]
  },
  {
   "cell_type": "code",
   "execution_count": 55,
   "metadata": {},
   "outputs": [],
   "source": [
    "def fi_lionetsWA(text):\n",
    "    weights, _, _, names, instance = lionetWA.explain_instance(text,6500,transparent_model)\n",
    "    weights = weights \n",
    "    lionets_w = {}\n",
    "    for i in range(len(list(weights[0]))):\n",
    "        v = weights[0][i]\n",
    "        k = names[i]\n",
    "        if k == 'ukn':\n",
    "            lionets_w[tk.word_index['UKN']] = v\n",
    "        else:\n",
    "            lionets_w[tk.word_index[k]] = v\n",
    "    interpretation = []\n",
    "    for i in text:\n",
    "        if i == 0:\n",
    "            interpretation.append(0)\n",
    "        else:\n",
    "            if i in lionets_w:\n",
    "                interpretation.append(lionets_w[i])\n",
    "            else:\n",
    "                interpretation.append(0)\n",
    "    return np.array([interpretation])[0]"
   ]
  },
  {
   "cell_type": "code",
   "execution_count": 56,
   "metadata": {},
   "outputs": [
    {
     "name": "stdout",
     "output_type": "stream",
     "text": [
      "in EmbeddingReverseLayer.init: Embedding -> Dedicated ReverseLayer class\n",
      "[<tf.Tensor 'gradient_wrt_12/gradients/AddN:0' shape=(?, 50, 50) dtype=float32>]\n",
      "Train:\n",
      "  LRP Non Zero: 17.43\n",
      "  Lime Non Zero: 11.49\n",
      "  LioNets Non Zero: 14.665\n",
      "  LioNetsWA Non Zero: 17.43\n",
      "Valid:\n",
      "  LRP Non Zero: 15.61\n",
      "  Lime Non Zero: 10.625\n",
      "  LioNets Non Zero: 14.04\n",
      "  LioNetsWA Non Zero: 15.61\n"
     ]
    }
   ],
   "source": [
    "non_zero = evaluator.non_zero_weights(train, [fi_LRP, fi_lime, fi_lionets, fi_lionetsWA])\n",
    "print('Train:')\n",
    "print('  LRP Non Zero:', non_zero[0][0])\n",
    "print('  Lime Non Zero:', non_zero[1][0])\n",
    "print('  LioNets Non Zero:', non_zero[2][0])\n",
    "print('  LioNetsWA Non Zero:', non_zero[3][0])\n",
    "non_zero = evaluator.non_zero_weights(valid, [fi_LRP, fi_lime, fi_lionets, fi_lionetsWA])\n",
    "print('Valid:')\n",
    "print('  LRP Non Zero:', non_zero[0][0])\n",
    "print('  Lime Non Zero:', non_zero[1][0])\n",
    "print('  LioNets Non Zero:', non_zero[2][0])\n",
    "print('  LioNetsWA Non Zero:', non_zero[3][0])"
   ]
  },
  {
   "cell_type": "markdown",
   "metadata": {},
   "source": [
    "Let's calculate the robustness"
   ]
  },
  {
   "cell_type": "code",
   "execution_count": 59,
   "metadata": {},
   "outputs": [
    {
     "name": "stdout",
     "output_type": "stream",
     "text": [
      "Train:\n",
      "  Lime Robustness: 0.015046410415427895\n",
      "  LRP Robustness: 0.011387657223302278\n",
      "  LioNets Robustness: 0.04347145226588844\n",
      "  LioNetsWA Robustness: 0.02609949411069894\n",
      "Valid:\n",
      "  Lime Robustness: 0.013570505676064078\n",
      "  LRP Robustness: 0.011255281901008782\n",
      "  LioNets Robustness: 0.03805127550239647\n",
      "  LioNetsWA Robustness: 0.02351208629261814\n"
     ]
    }
   ],
   "source": [
    "robustness = evaluator.robustness_embeddings(train,[fi_lime, fi_LRP, fi_lionets, fi_lionetsWA])\n",
    "print('Train:')\n",
    "print('  Lime Robustness:', robustness[0])\n",
    "print('  LRP Robustness:', robustness[1])\n",
    "print('  LioNets Robustness:', robustness[2])\n",
    "print('  LioNetsWA Robustness:', robustness[3])\n",
    "robustness = evaluator.robustness_embeddings(valid,[fi_lime, fi_LRP, fi_lionets, fi_lionetsWA])\n",
    "print('Valid:')\n",
    "print('  Lime Robustness:', robustness[0])\n",
    "print('  LRP Robustness:', robustness[1])\n",
    "print('  LioNets Robustness:', robustness[2])\n",
    "print('  LioNetsWA Robustness:', robustness[3])"
   ]
  },
  {
   "cell_type": "markdown",
   "metadata": {},
   "source": [
    "Altruist"
   ]
  },
  {
   "cell_type": "code",
   "execution_count": null,
   "metadata": {},
   "outputs": [],
   "source": [
    "features = []\n",
    "for i in range(50):\n",
    "    features.append(str('f'+str(i)))"
   ]
  },
  {
   "cell_type": "code",
   "execution_count": null,
   "metadata": {},
   "outputs": [],
   "source": [
    "def fi_LRP(X_t,prediction,model):\n",
    "    ooo = analyzer.analyze(np.array([X_t]))[0]\n",
    "    ooo = ooo*np.array([0 if i == 0 else 1 for i in X_t]) #only on lrp\n",
    "    return [ooo][0]\n",
    "def fi_lime(text,prediction,model):\n",
    "    sent=tts(text)\n",
    "    explanation = explainer.explain_instance(text_instance=sent, classifier_fn=lime_predict)\n",
    "    weights = OrderedDict(explanation.as_list())\n",
    "    lime_w = {}\n",
    "    for k,v in weights.items():\n",
    "        lime_w[tk.word_index[k]] = v\n",
    "    interpretation = []\n",
    "    for i in text:\n",
    "        if i == 0:\n",
    "            interpretation.append(0)\n",
    "        else:\n",
    "            if i in lime_w.keys():\n",
    "                interpretation.append(lime_w[i])\n",
    "            else:\n",
    "                interpretation.append(0)\n",
    "    return np.array([interpretation])[0]\n",
    "def fi_lionets(text,prediction,model):\n",
    "    weights, _, _, names, _ = lionet.explain_instance(text,8000,transparent_model)\n",
    "    lionets_w = {}\n",
    "    for i in range(len(list(weights[0]))):\n",
    "        v = weights[0][i]\n",
    "        k = names[i]\n",
    "        if k == 'ukn':\n",
    "            lionets_w[tk.word_index['UKN']] = v\n",
    "        else:\n",
    "            lionets_w[tk.word_index[k]] = v\n",
    "    interpretation = []\n",
    "    for i in text:\n",
    "        if i == 0:\n",
    "            interpretation.append(0)\n",
    "        else:\n",
    "            if i in lionets_w:\n",
    "                interpretation.append(lionets_w[i])\n",
    "            else:\n",
    "                interpretation.append(0)\n",
    "    return np.array([interpretation])[0]\n",
    "def fi_lionetsWA(text,prediction,model):\n",
    "    weights, _, _, names, _ = lionetWA.explain_instance(text,6500,transparent_model)\n",
    "    lionets_w = {}\n",
    "    for i in range(len(list(weights[0]))):\n",
    "        v = weights[0][i]\n",
    "        k = names[i]\n",
    "        if k == 'ukn':\n",
    "            lionets_w[tk.word_index['UKN']] = v\n",
    "        else:\n",
    "            lionets_w[tk.word_index[k]] = v\n",
    "    interpretation = []\n",
    "    for i in text:\n",
    "        if i == 0:\n",
    "            interpretation.append(0)\n",
    "        else:\n",
    "            if i in lionets_w:\n",
    "                interpretation.append(lionets_w[i])\n",
    "            else:\n",
    "                interpretation.append(0)\n",
    "    return np.array([interpretation])[0]"
   ]
  },
  {
   "cell_type": "code",
   "execution_count": null,
   "metadata": {
    "scrolled": true
   },
   "outputs": [],
   "source": [
    "print(\"*Please let it run, it will take time probably*\")\n",
    "fi_names = {fi_LRP:'LRP',fi_lime:'Lime', fi_lionets:'LioNets', fi_lionetsWA:'LioNetsWA'}\n",
    "fis = [fi_LRP, fi_lime, fi_lionets, fi_lionetsWA]\n",
    "\n",
    "fis_scores = []\n",
    "for i in fis:\n",
    "    fis_scores.append([])\n",
    "count = 0\n",
    "\n",
    "altruistino = Altruist(model, train, fis, features, None, True, None, True)\n",
    "\n",
    "for instance in train:            \n",
    "    if (count + 1) % 25 == 0:\n",
    "        print(count+1,\"/\",len(valid),\"..\",end=\", \")\n",
    "    #print(len(instance))\n",
    "    count = count + 1\n",
    "    untruthful_features = altruistino.find_untruthful_features(instance)\n",
    "    for i in range(len(untruthful_features[0])):\n",
    "        fis_scores[i].append(len(untruthful_features[0][i]))\n",
    "count = 0\n",
    "print()\n",
    "print('Train:')\n",
    "for fis_score in fis_scores:\n",
    "    fi = fis[count]\n",
    "    count = count + 1\n",
    "    print(' ',fi_names[fi],np.array(fis_score).mean())"
   ]
  },
  {
   "cell_type": "code",
   "execution_count": null,
   "metadata": {},
   "outputs": [],
   "source": [
    "print(\"*Please let it run, it will take time probably*\")\n",
    "fi_names = {fi_LRP:'LRP',fi_lime:'Lime', fi_lionets:'LioNets', fi_lionetsWA:'LioNetsWA'}\n",
    "fis = [fi_LRP, fi_lime, fi_lionets, fi_lionetsWA]\n",
    "fis_scores = []\n",
    "for i in fis:\n",
    "    fis_scores.append([])\n",
    "count = 0\n",
    "\n",
    "for instance in valid:            \n",
    "    if (count + 1) % 25 == 0:\n",
    "        print(count+1,\"/\",len(valid),\"..\",end=\", \")\n",
    "    #print(len(instance))\n",
    "    count = count + 1\n",
    "    untruthful_features = altruistino.find_untruthful_features(instance)\n",
    "    for i in range(len(untruthful_features[0])):\n",
    "        fis_scores[i].append(len(untruthful_features[0][i]))\n",
    "count = 0\n",
    "print()\n",
    "print('Valid:')\n",
    "for fis_score in fis_scores:\n",
    "    fi = fis[count]\n",
    "    count = count + 1\n",
    "    print(' ',fi_names[fi],np.array(fis_score).mean())"
   ]
  },
  {
   "cell_type": "markdown",
   "metadata": {},
   "source": [
    "## Qualitative:"
   ]
  },
  {
   "cell_type": "markdown",
   "metadata": {},
   "source": [
    "Now we will test an instance and its explanations"
   ]
  },
  {
   "cell_type": "code",
   "execution_count": 56,
   "metadata": {
    "scrolled": true
   },
   "outputs": [
    {
     "data": {
      "text/plain": [
       "'or maybe just do not follow UKN UKN religions from the middle UKN'"
      ]
     },
     "execution_count": 56,
     "metadata": {},
     "output_type": "execute_result"
    }
   ],
   "source": [
    "X_T[22]"
   ]
  },
  {
   "cell_type": "code",
   "execution_count": 59,
   "metadata": {},
   "outputs": [
    {
     "name": "stdout",
     "output_type": "stream",
     "text": [
      "Or maybe just don't follow degenerate sandnigger religions from the middle east?\n"
     ]
    }
   ],
   "source": [
    "Xreal, _ = Load_Dataset.load_hate_data(False,False)\n",
    "for xrel in Xreal:\n",
    "    if 'ayb' in xrel and 'ollow' in xrel:\n",
    "        print(xrel)"
   ]
  },
  {
   "cell_type": "code",
   "execution_count": 96,
   "metadata": {},
   "outputs": [],
   "source": [
    "weights, a, b, names, c = lionetWA.explain_instance(X_tr[22],6500,transparent_model)"
   ]
  },
  {
   "cell_type": "code",
   "execution_count": 97,
   "metadata": {},
   "outputs": [],
   "source": [
    "lionets_w = {}\n",
    "for v,k in dict(zip(list(weights[0]), list(names))).items():\n",
    "    if k == 'ukn':\n",
    "        lionets_w[tk.word_index['UKN']] = v\n",
    "    else:\n",
    "        lionets_w[tk.word_index[k]] = v\n",
    "interpretation = []\n",
    "for i in X_tr[22]:\n",
    "    if i != 0:\n",
    "        interpretation.append([tk.index_word[i],lionets_w[i]])"
   ]
  },
  {
   "cell_type": "code",
   "execution_count": 98,
   "metadata": {},
   "outputs": [
    {
     "data": {
      "text/plain": [
       "([['or', -0.0013547213141519084],\n",
       "  ['maybe', -0.0005801693509350953],\n",
       "  ['just', -0.019182554157719838],\n",
       "  ['do', 0.009960080109836443],\n",
       "  ['not', -7.265478265681303e-30],\n",
       "  ['follow', 4.4686165888387454e-07],\n",
       "  ['UKN', -0.003628904163403668],\n",
       "  ['UKN', -0.003628904163403668],\n",
       "  ['religions', 0.00042983227201239216],\n",
       "  ['from', -0.010532765061780856],\n",
       "  ['the', -0.01690129474145001],\n",
       "  ['middle', 0.021194400084367297],\n",
       "  ['UKN', -0.003628904163403668]],\n",
       " array([0.73036736], dtype=float32),\n",
       " array([0.72908424]))"
      ]
     },
     "execution_count": 98,
     "metadata": {},
     "output_type": "execute_result"
    }
   ],
   "source": [
    "interpretation, a, b"
   ]
  },
  {
   "cell_type": "code",
   "execution_count": 106,
   "metadata": {},
   "outputs": [
    {
     "data": {
      "image/png": "[encoded data removed]",
      "text/plain": [
       "<Figure size 800x600 with 1 Axes>"
      ]
     },
     "metadata": {},
     "output_type": "display_data"
    }
   ],
   "source": [
    "import seaborn as sns\n",
    "plt.figure(num=None, figsize=(4, 3), dpi=200, facecolor='w', edgecolor='k')\n",
    "i_weights = pd.DataFrame({\"Features\": [o[0] for o in np.array(interpretation)[:,:1]], \n",
    "                                  \"Features' Weights\": [float(o[0]) for o in np.array(interpretation)[:,1:]]})\n",
    "i_weights = i_weights.sort_values(by=\"Features' Weights\", ascending=False)\n",
    "i_weights = i_weights[(i_weights[\"Features' Weights\"] != 0)]   \n",
    "i_weights = i_weights.drop_duplicates()\n",
    "sns.barplot(x=\"Features' Weights\", y=\"Features\", data=i_weights)\n",
    "plt.show()"
   ]
  },
  {
   "cell_type": "code",
   "execution_count": 107,
   "metadata": {},
   "outputs": [
    {
     "data": {
      "text/plain": [
       "0.7303675"
      ]
     },
     "execution_count": 107,
     "metadata": {},
     "output_type": "execute_result"
    }
   ],
   "source": [
    "lime_predict(['or maybe just do not follow UKN UKN religions from the middle UKN'])[0][1]"
   ]
  },
  {
   "cell_type": "code",
   "execution_count": 108,
   "metadata": {},
   "outputs": [
    {
     "data": {
      "text/plain": [
       "0.70300514"
      ]
     },
     "execution_count": 108,
     "metadata": {},
     "output_type": "execute_result"
    }
   ],
   "source": [
    "lime_predict(['or maybe just do not follow UKN UKN religions from the UKN'])[0][1]"
   ]
  },
  {
   "cell_type": "code",
   "execution_count": 109,
   "metadata": {},
   "outputs": [
    {
     "data": {
      "image/png": "[encoded data removed]",
      "text/plain": [
       "<Figure size 2500x2000 with 1 Axes>"
      ]
     },
     "metadata": {},
     "output_type": "display_data"
    }
   ],
   "source": [
    "plt.figure(num=None, figsize=(10, 8), dpi=250, facecolor='w', edgecolor='k')\n",
    "i_weights = pd.DataFrame({\"Features\": names, \n",
    "                                  \"Features' Weights\":weights[0]})\n",
    "i_weights = i_weights.sort_values(by=\"Features' Weights\", ascending=False)\n",
    "i_weights = i_weights.drop_duplicates()\n",
    "sns.barplot(x=\"Features' Weights\", y=\"Features\", data=i_weights)\n",
    "plt.show()"
   ]
  },
  {
   "cell_type": "code",
   "execution_count": 110,
   "metadata": {},
   "outputs": [
    {
     "data": {
      "image/png": "[encoded data removed]",
      "text/plain": [
       "<Figure size 800x600 with 1 Axes>"
      ]
     },
     "metadata": {},
     "output_type": "display_data"
    }
   ],
   "source": [
    "counter_weights = []\n",
    "counter_features = []\n",
    "for i in range(len(weights[0])):\n",
    "    if weights[0][i]!=0:\n",
    "        if names[i] not in X_T[22].lower():\n",
    "            counter_weights.append(weights[0][i])\n",
    "            counter_features.append(names[i])\n",
    "co_weights = pd.DataFrame({\"Counter Features\": list(counter_features), \n",
    "                                  \"Features' Weights\": list(counter_weights)})\n",
    "co_weights = co_weights.sort_values(by=\"Features' Weights\", ascending=False)\n",
    "co_weights = pd.concat([co_weights.head(3),co_weights.tail(3)])\n",
    "plt.figure(num=None, figsize=(4, 3), dpi=200, facecolor='w', edgecolor='k')\n",
    "sns.barplot(x=\"Features' Weights\", y=\"Counter Features\", data=co_weights)\n",
    "#plt.xticks(rotation=90)\n",
    "#plt.title(str('Features not appearing in the instance'))\n",
    "plt.show()"
   ]
  },
  {
   "cell_type": "code",
   "execution_count": 117,
   "metadata": {},
   "outputs": [
    {
     "data": {
      "text/plain": [
       "0.699709"
      ]
     },
     "execution_count": 117,
     "metadata": {},
     "output_type": "execute_result"
    }
   ],
   "source": [
    "lime_predict(['or maybe just do not follow they UKN religions from the middle UKN'])[0][1]"
   ]
  },
  {
   "cell_type": "code",
   "execution_count": null,
   "metadata": {},
   "outputs": [],
   "source": []
  }
 ],
 "metadata": {
  "accelerator": "GPU",
  "colab": {
   "collapsed_sections": [],
   "machine_shape": "hm",
   "name": "setC.ipynb",
   "provenance": []
  },
  "kernelspec": {
   "display_name": "Python 3",
   "language": "python",
   "name": "python3"
  },
  "language_info": {
   "codemirror_mode": {
    "name": "ipython",
    "version": 3
   },
   "file_extension": ".py",
   "mimetype": "text/x-python",
   "name": "python",
   "nbconvert_exporter": "python",
   "pygments_lexer": "ipython3",
   "version": "3.7.8"
  }
 },
 "nbformat": 4,
 "nbformat_minor": 1
}
