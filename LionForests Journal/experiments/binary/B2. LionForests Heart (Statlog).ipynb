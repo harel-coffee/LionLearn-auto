{
 "cells": [
  {
   "cell_type": "markdown",
   "metadata": {},
   "source": [
    "# Heart Statlog dataset with LionForests V2"
   ]
  },
  {
   "cell_type": "code",
   "execution_count": 1,
   "metadata": {},
   "outputs": [],
   "source": [
    "import sys\n",
    "cpath = !pwd\n",
    "sys.path.append('C:\\\\Users\\\\iamollas\\\\Downloads\\\\LionForests Journal\\\\')"
   ]
  },
  {
   "cell_type": "code",
   "execution_count": 2,
   "metadata": {},
   "outputs": [],
   "source": [
    "from lionforests import LionForests\n",
    "from datasets.dataset import Dataset\n",
    "from sklearn.preprocessing import StandardScaler, MinMaxScaler\n",
    "import numpy as np\n",
    "np.seterr(invalid='ignore')\n",
    "import warnings\n",
    "warnings.filterwarnings(\"ignore\")\n",
    "import time\n",
    "import urllib"
   ]
  },
  {
   "cell_type": "markdown",
   "metadata": {},
   "source": [
    "Firstly, we load the dataset and we set the feature and class names"
   ]
  },
  {
   "cell_type": "code",
   "execution_count": 3,
   "metadata": {},
   "outputs": [],
   "source": [
    "heart = Dataset()\n",
    "X, y, feature_names, class_names = heart.load_heart()"
   ]
  },
  {
   "cell_type": "markdown",
   "metadata": {},
   "source": [
    "Which has 270 instances"
   ]
  },
  {
   "cell_type": "code",
   "execution_count": 4,
   "metadata": {},
   "outputs": [
    {
     "data": {
      "text/plain": [
       "270"
      ]
     },
     "execution_count": 4,
     "metadata": {},
     "output_type": "execute_result"
    }
   ],
   "source": [
    "len(X)"
   ]
  },
  {
   "cell_type": "markdown",
   "metadata": {},
   "source": [
    "Then we initiate LionForests"
   ]
  },
  {
   "cell_type": "code",
   "execution_count": 5,
   "metadata": {},
   "outputs": [],
   "source": [
    "parameters = [{\n",
    "    'max_depth': [5],\n",
    "    'max_features': ['sqrt'],\n",
    "    'bootstrap': [False],\n",
    "    'min_samples_leaf' : [5],\n",
    "    'n_estimators': [500]\n",
    "}]\n",
    "scaler = MinMaxScaler(feature_range=(-1,1))\n",
    "lf = LionForests(None, False, scaler, feature_names, class_names)\n",
    "lf.fit(X, y, params=parameters)"
   ]
  },
  {
   "cell_type": "markdown",
   "metadata": {},
   "source": [
    "The model achieves very high performance, based on F1-Weighted score"
   ]
  },
  {
   "cell_type": "code",
   "execution_count": 6,
   "metadata": {},
   "outputs": [
    {
     "data": {
      "text/plain": [
       "0.8460024945441493"
      ]
     },
     "execution_count": 6,
     "metadata": {},
     "output_type": "execute_result"
    }
   ],
   "source": [
    "lf.accuracy"
   ]
  },
  {
   "cell_type": "markdown",
   "metadata": {},
   "source": [
    "## Qualitative\n",
    "Then we examine the rule interpretation of an example"
   ]
  },
  {
   "cell_type": "code",
   "execution_count": 7,
   "metadata": {},
   "outputs": [
    {
     "data": {
      "text/plain": [
       "'if 6.5<=reversable defect<=7.0 & 3.5<=chest pain<=4.0 & 0.0<=number of major vessels<=0.5 & 0.0<=oldpeak<=0.05 & 0.0<=exercise induced angina<=0.5 & 177.5<=maximum heart rate achieved<=181.5 & 1.0<=the slope of the peak exercise<=1.5 & 29.0<=age<=42.5 & 222.5<=serum cholestoral<=224.5 & 0.5<=sex<=1.0 & 151.0<=resting blood pressure<=156.5 & 0.0<=resting electrocardiographic results<=0.5 & 0.0<=fasting blood sugar<=0.5 then absence'"
      ]
     },
     "execution_count": 7,
     "metadata": {},
     "output_type": "execute_result"
    }
   ],
   "source": [
    "lf.explain(X[40], True, 'apriori', 'kmedoids')[0]"
   ]
  },
  {
   "cell_type": "markdown",
   "metadata": {},
   "source": [
    "Moreover, we can present a UI tool to explore the interpretation visually"
   ]
  },
  {
   "cell_type": "code",
   "execution_count": 8,
   "metadata": {},
   "outputs": [
    {
     "name": "stdout",
     "output_type": "stream",
     "text": [
      "Prediction rule: if 6.5<=reversable defect<=7.0 & 3.5<=chest pain<=4.0 & 0.0<=number of major vessels<=0.5 & 0.0<=oldpeak<=0.05 & 0.0<=exercise induced angina<=0.5 & 177.5<=maximum heart rate achieved<=181.5 & 1.0<=the slope of the peak exercise<=1.5 & 29.0<=age<=42.5 & 222.5<=serum cholestoral<=224.5 & 0.5<=sex<=1.0 & 151.0<=resting blood pressure<=156.5 & 0.0<=resting electrocardiographic results<=0.5 & 0.0<=fasting blood sugar<=0.5 then absence\n"
     ]
    },
    {
     "data": {
      "application/vnd.jupyter.widget-view+json": {
       "model_id": "84a7ae9a6cd64524845fe33c4955093f",
       "version_major": 2,
       "version_minor": 0
      },
      "text/plain": [
       "HBox(children=(IntSlider(value=1, continuous_update=False, description='Feature: ', max=13, min=1), ToggleButt…"
      ]
     },
     "metadata": {},
     "output_type": "display_data"
    },
    {
     "data": {
      "application/vnd.jupyter.widget-view+json": {
       "model_id": "acb7ca6caba345b3be59894d828f27b9",
       "version_major": 2,
       "version_minor": 0
      },
      "text/plain": [
       "Output()"
      ]
     },
     "metadata": {},
     "output_type": "display_data"
    }
   ],
   "source": [
    "lf.visualize(lf.explain(X[40], True, 'apriori', 'kmedoids', to_vis=True))"
   ]
  },
  {
   "cell_type": "code",
   "execution_count": 9,
   "metadata": {},
   "outputs": [
    {
     "data": {
      "text/plain": [
       "[('age', 40.0),\n",
       " ('sex', 1.0),\n",
       " ('chest pain', 4.0),\n",
       " ('resting blood pressure', 152.0),\n",
       " ('serum cholestoral', 223.0),\n",
       " ('fasting blood sugar', 0.0),\n",
       " ('resting electrocardiographic results', 0.0),\n",
       " ('maximum heart rate achieved', 181.0),\n",
       " ('exercise induced angina', 0.0),\n",
       " ('oldpeak', 0.0),\n",
       " ('the slope of the peak exercise', 1.0),\n",
       " ('number of major vessels', 0.0),\n",
       " ('reversable defect', 7.0)]"
      ]
     },
     "execution_count": 9,
     "metadata": {},
     "output_type": "execute_result"
    }
   ],
   "source": [
    "list(zip(feature_names, X[40]))"
   ]
  },
  {
   "cell_type": "markdown",
   "metadata": {},
   "source": [
    "We can change ourselves an instances values and see if and how the outcome will change! We will change age's value to 35"
   ]
  },
  {
   "cell_type": "code",
   "execution_count": 10,
   "metadata": {},
   "outputs": [
    {
     "data": {
      "text/plain": [
       "'if 6.5<=reversable defect<=7.0 & 3.5<=chest pain<=4.0 & 0.0<=number of major vessels<=0.5 & 0.0<=oldpeak<=0.05 & 0.0<=exercise induced angina<=0.5 & 177.5<=maximum heart rate achieved<=181.5 & 1.0<=the slope of the peak exercise<=1.5 & 29.0<=age<=42.5 & 222.5<=serum cholestoral<=224.5 & 0.5<=sex<=1.0 & 151.0<=resting blood pressure<=156.5 & 0.0<=resting electrocardiographic results<=0.5 & 0.0<=fasting blood sugar<=0.5 then absence'"
      ]
     },
     "execution_count": 10,
     "metadata": {},
     "output_type": "execute_result"
    }
   ],
   "source": [
    "temp = X[40].copy()\n",
    "temp[0] = 35\n",
    "lf.explain(temp, True, 'apriori', 'kmedoids')[0]"
   ]
  },
  {
   "cell_type": "markdown",
   "metadata": {},
   "source": [
    "The outcome remained the same!"
   ]
  },
  {
   "cell_type": "markdown",
   "metadata": {},
   "source": [
    "# Sensitivity analysis!\n",
    "We will now test how the random forest's parameters are affecting the reduction of paths and features"
   ]
  },
  {
   "cell_type": "code",
   "execution_count": null,
   "metadata": {},
   "outputs": [],
   "source": [
    "from tqdm import tqdm\n",
    "import time  \n",
    "results = []\n",
    "iterr = 100\n",
    "with tqdm(total=4*4*4*24) as pbar:\n",
    "    for i in [1, 5, 7, 10]:\n",
    "        for j in [10, 100, 500, 1000]:\n",
    "            for o in ['sqrt','log2', 0.75, None]:\n",
    "                parameters = [{\n",
    "                    'max_depth': [i],\n",
    "                    'max_features': [o],\n",
    "                    'bootstrap': [False],\n",
    "                    'min_samples_leaf' : [5],\n",
    "                    'n_estimators': [j]\n",
    "                }]\n",
    "                lf = LionForests(class_names=class_names)\n",
    "                scaler = MinMaxScaler(feature_range=(-1,1))\n",
    "                lf.fit(X, y, scaler, feature_names, parameters)\n",
    "                tlf = 0\n",
    "                fr = 0\n",
    "                pr = 0\n",
    "                for inde in range(iterr):\n",
    "                    t_a = time.time()\n",
    "                    a, b, c, d, e, f = lf.explain(X[inde], False, None, None, False)\n",
    "                    fr = fr + c - e\n",
    "                    pr = pr + b - d\n",
    "                    tlf = tlf + time.time() - t_a\n",
    "                results.append([str(i),str(j),str(o),'NoRed','_','_', tlf/iterr, fr/iterr, pr/iterr])\n",
    "                pbar.update(1)\n",
    "                for k in ['1','2','3','12','13','23','123']:\n",
    "                        if '1' in k and '2' in k:\n",
    "                            for ara in ['apriori','fpgrowth']:\n",
    "                                for cla in ['kmedoids','OPTICS','SC']:\n",
    "                                    tlf = 0\n",
    "                                    fr = 0\n",
    "                                    pr = 0\n",
    "                                    for inde in range(iterr):\n",
    "                                        t_a = time.time()\n",
    "                                        a, b, c, d, e, f = lf.explain(X[inde], True, ara, cla, method=k)\n",
    "                                        fr = fr + c - e\n",
    "                                        pr = pr + b - d\n",
    "                                        tlf = tlf + time.time() - t_a\n",
    "                                    results.append([str(i),str(j),str(o),k,ara,cla, tlf/iterr, fr/iterr, pr/iterr])\n",
    "                                    pbar.update(1)\n",
    "                        elif '1' in k:\n",
    "                            for ara in ['apriori','fpgrowth']:\n",
    "                                tlf = 0\n",
    "                                fr = 0\n",
    "                                pr = 0\n",
    "                                for inde in range(iterr):\n",
    "                                    t_a = time.time()\n",
    "                                    a, b, c, d, e, f = lf.explain(X[inde], True, ara, None, method=k)\n",
    "                                    fr = fr + c - e\n",
    "                                    pr = pr + b - d\n",
    "                                    tlf = tlf + time.time() - t_a\n",
    "                                results.append([str(i),str(j),str(o),k,ara,'_', tlf/iterr, fr/iterr, pr/iterr])\n",
    "                                pbar.update(1)\n",
    "                        elif '2' in k:\n",
    "                            for cla in ['kmedoids','OPTICS','SC']: \n",
    "                                tlf = 0\n",
    "                                fr = 0\n",
    "                                pr = 0\n",
    "                                for inde in range(iterr):\n",
    "                                    t_a = time.time()\n",
    "                                    a, b, c, d, e, f = lf.explain(X[inde], True, None, cla, method=k)\n",
    "                                    fr = fr + c - e\n",
    "                                    pr = pr + b - d\n",
    "                                    tlf = tlf + time.time() - t_a\n",
    "                                results.append([str(i),str(j),str(o),k,'_',cla, tlf/iterr, fr/iterr, pr/iterr])\n",
    "                                pbar.update(1)\n",
    "                        else:\n",
    "                                tlf = 0\n",
    "                                fr = 0\n",
    "                                pr = 0\n",
    "                                for inde in range(iterr):\n",
    "                                    t_a = time.time()\n",
    "                                    a, b, c, d, e, f = lf.explain(X[inde], True, None, None, method=k)\n",
    "                                    fr = fr + c - e\n",
    "                                    pr = pr + b - d\n",
    "                                    tlf = tlf + time.time() - t_a\n",
    "                                results.append([str(i),str(j),str(o),k,'_','_', tlf/iterr, fr/iterr, pr/iterr])\n",
    "                                pbar.update(1)"
   ]
  },
  {
   "cell_type": "code",
   "execution_count": null,
   "metadata": {},
   "outputs": [],
   "source": [
    "for i in results:\n",
    "    print(i)"
   ]
  },
  {
   "cell_type": "markdown",
   "metadata": {},
   "source": [
    "Another test we are going to make concerns the speed of LionForests V2 to original LionForests!"
   ]
  },
  {
   "cell_type": "code",
   "execution_count": null,
   "metadata": {},
   "outputs": [],
   "source": [
    "results = []\n",
    "iterr = 100\n",
    "with tqdm(total=4*4*4*2) as pbar:\n",
    "    for i in [1,5,7,10]:\n",
    "        for j in [10, 100, 500, 1000]:\n",
    "            for o in ['sqrt','log2', 0.75, None]:\n",
    "                parameters = [{\n",
    "                    'max_depth': [i],\n",
    "                    'max_features': [o],\n",
    "                    'bootstrap': [False],\n",
    "                    'min_samples_leaf' : [5],\n",
    "                    'n_estimators': [j]\n",
    "                }]\n",
    "                lf = LionForests(class_names=class_names)\n",
    "                scaler = MinMaxScaler(feature_range=(-1,1))\n",
    "                lf.fit(X, y, scaler, feature_names, parameters)\n",
    "                tlf = 0\n",
    "                fr = 0\n",
    "                pr = 0\n",
    "                for inde in range(iterr):\n",
    "                    t_a = time.time()\n",
    "                    a, b, c, d, e, f = lf.explain(X[inde], False, None, None, True)\n",
    "                    fr = fr + c - e\n",
    "                    pr = pr + b - d\n",
    "                    tlf = tlf + time.time() - t_a\n",
    "                results.append([str(i),str(j),str(o),'NoRed_Old','_','_', tlf/iterr, fr/iterr, pr/iterr])\n",
    "                pbar.update(1)\n",
    "                for inde in range(iterr):\n",
    "                    t_a = time.time()\n",
    "                    a, b, c, d, e, f = lf.explain(X[inde], True, 'apriori', 'kmedoids', True)\n",
    "                    fr = fr + c - e\n",
    "                    pr = pr + b - d\n",
    "                    tlf = tlf + time.time() - t_a\n",
    "                results.append([str(i),str(j),str(o),'123_Old','_','_', tlf/iterr, fr/iterr, pr/iterr])\n",
    "                pbar.update(1)"
   ]
  },
  {
   "cell_type": "code",
   "execution_count": null,
   "metadata": {},
   "outputs": [],
   "source": [
    "for i in results:\n",
    "    print(i)"
   ]
  }
 ],
 "metadata": {
  "kernelspec": {
   "display_name": "lionets",
   "language": "python",
   "name": "lionets"
  },
  "language_info": {
   "codemirror_mode": {
    "name": "ipython",
    "version": 3
   },
   "file_extension": ".py",
   "mimetype": "text/x-python",
   "name": "python",
   "nbconvert_exporter": "python",
   "pygments_lexer": "ipython3",
   "version": "3.7.6"
  }
 },
 "nbformat": 4,
 "nbformat_minor": 4
}
