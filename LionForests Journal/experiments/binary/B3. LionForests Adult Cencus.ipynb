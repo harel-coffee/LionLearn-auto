{
 "cells": [
  {
   "cell_type": "markdown",
   "metadata": {},
   "source": [
    "# This notebook contains the experiments on Adult Census dataset with LionForests"
   ]
  },
  {
   "cell_type": "code",
   "execution_count": 1,
   "metadata": {},
   "outputs": [],
   "source": [
    "import sys\n",
    "cpath = !pwd\n",
    "sys.path.append(cpath[0][:-18])\n",
    "sys.path.append('C:\\\\Users\\\\iamollas\\\\Downloads\\\\LionForests Journal\\\\')\n",
    "sys.path.append('C:\\\\Users\\\\iamollas\\\\Downloads\\\\LionForests Journal\\\\algorithms\\\\')"
   ]
  },
  {
   "cell_type": "code",
   "execution_count": 2,
   "metadata": {},
   "outputs": [],
   "source": [
    "import pandas as pd \n",
    "import numpy as np\n",
    "from sklearn.pipeline import Pipeline\n",
    "from sklearn.base import TransformerMixin\n",
    "from sklearn.preprocessing import MinMaxScaler,StandardScaler, LabelEncoder\n",
    "from sklearn import preprocessing\n",
    "from lionforests import LionForests\n",
    "from datasets.dataset import Dataset"
   ]
  },
  {
   "cell_type": "markdown",
   "metadata": {},
   "source": [
    "Feature Engineering from:\n",
    "https://github.com/pooja2512/Adult-Census-Income/blob/master/Adult%20Census%20Income.ipynb. So run and skip the next code block"
   ]
  },
  {
   "cell_type": "code",
   "execution_count": 3,
   "metadata": {},
   "outputs": [
    {
     "name": "stderr",
     "output_type": "stream",
     "text": [
      "C:\\Users\\iamollas\\Downloads\\LionForests Journal\\datasets\\dataset.py:164: ParserWarning: Falling back to the 'python' engine because the 'c' engine does not support regex separators (separators > 1 char and different from '\\s+' are interpreted as regex); you can avoid this warning by specifying engine='python'.\n",
      "  names=feature_names, delimiter=', ')\n",
      "C:\\Users\\iamollas\\Downloads\\LionForests Journal\\datasets\\dataset.py:166: ParserWarning: Falling back to the 'python' engine because the 'c' engine does not support regex separators (separators > 1 char and different from '\\s+' are interpreted as regex); you can avoid this warning by specifying engine='python'.\n",
      "  names=feature_names, delimiter=', ')\n",
      "C:\\Users\\iamollas\\anaconda3\\lib\\site-packages\\pandas\\core\\ops\\__init__.py:1115: FutureWarning: elementwise comparison failed; returning scalar instead, but in the future will perform elementwise comparison\n",
      "  result = method(y)\n"
     ]
    }
   ],
   "source": [
    "adult = Dataset()\n",
    "X, y, feature_names, class_names, categorical_features = adult.load_adult()"
   ]
  },
  {
   "cell_type": "code",
   "execution_count": 4,
   "metadata": {},
   "outputs": [
    {
     "data": {
      "text/plain": [
       "(45167, 33970, 11197)"
      ]
     },
     "execution_count": 4,
     "metadata": {},
     "output_type": "execute_result"
    }
   ],
   "source": [
    "len(X),len(y)-sum(y),sum(y)"
   ]
  },
  {
   "cell_type": "code",
   "execution_count": 5,
   "metadata": {},
   "outputs": [],
   "source": [
    "class_names=['<=50K','>50K']"
   ]
  },
  {
   "cell_type": "markdown",
   "metadata": {},
   "source": [
    "We declare the name of the categorical features in order LionForests to extract more compact explanations"
   ]
  },
  {
   "cell_type": "code",
   "execution_count": 6,
   "metadata": {},
   "outputs": [],
   "source": [
    "parameters = [{\n",
    "    'max_depth': [10],\n",
    "    'max_features': [0.75],\n",
    "    'bootstrap': [True],\n",
    "    'min_samples_leaf' : [2],\n",
    "    'n_estimators': [1000]\n",
    "}]\n",
    "lf = LionForests(None, False, None, feature_names, class_names, categorical_features)\n",
    "lf.fit(X, y, parameters) #Please do not scale data before training"
   ]
  },
  {
   "cell_type": "code",
   "execution_count": 7,
   "metadata": {},
   "outputs": [
    {
     "name": "stdout",
     "output_type": "stream",
     "text": [
      "Accuracy: 0.848365548341777 , Number of estimators: 1000\n",
      "RandomForestClassifier(max_depth=10, max_features=0.75, min_samples_leaf=2,\n",
      "                       n_estimators=1000, n_jobs=-1, random_state=0)\n"
     ]
    }
   ],
   "source": [
    "number_of_estimators = lf.model.n_estimators\n",
    "print(\"Accuracy:\",lf.accuracy,\", Number of estimators:\",lf.number_of_estimators)\n",
    "print(lf.model)"
   ]
  },
  {
   "cell_type": "markdown",
   "metadata": {},
   "source": [
    "# Qualitative"
   ]
  },
  {
   "cell_type": "markdown",
   "metadata": {},
   "source": [
    "Now we are ready to extract explanations about an instance. We choose the eleventh instance:"
   ]
  },
  {
   "cell_type": "code",
   "execution_count": 13,
   "metadata": {},
   "outputs": [
    {
     "data": {
      "text/plain": [
       "'if marital-status_Married & 5119.0<=capital-gain<=5316.5 & 31.5<=age<=49.5 & 108326.999<=fnlwgt<=379670.501 then >50K'"
      ]
     },
     "execution_count": 13,
     "metadata": {},
     "output_type": "execute_result"
    }
   ],
   "source": [
    "a = lf.explain(X[9], True)\n",
    "a[0]"
   ]
  },
  {
   "cell_type": "code",
   "execution_count": 12,
   "metadata": {},
   "outputs": [
    {
     "data": {
      "text/plain": [
       "('Original prediction:', '>50K')"
      ]
     },
     "execution_count": 12,
     "metadata": {},
     "output_type": "execute_result"
    }
   ],
   "source": [
    "\"Original prediction:\", class_names[np.argmax(lf.model.predict_proba(lf.utilizer.transform([X[9]]))[0])]"
   ]
  },
  {
   "cell_type": "markdown",
   "metadata": {},
   "source": [
    "The feature capital value is not present in the rule. Thus we will check to put two extreme values to see if the result will change"
   ]
  },
  {
   "cell_type": "code",
   "execution_count": 24,
   "metadata": {},
   "outputs": [
    {
     "name": "stdout",
     "output_type": "stream",
     "text": [
      "Changing native country from: native-country_United-States to: native-country_Japan\n",
      "New prediction: >50K\n",
      "Changing native country from: native-country_United-States to: native-country_Greece\n",
      "New prediction: >50K\n"
     ]
    }
   ],
   "source": [
    "for v in ['native-country_Japan', 'native-country_Greece']:\n",
    "    temp = X[9].copy()\n",
    "    print('Changing native country from:', feature_names[77], 'to:',v)\n",
    "    temp[77] = 0\n",
    "    temp[feature_names.index(v)] = 1\n",
    "    print(\"New prediction:\", class_names[np.argmax(lf.model.predict_proba(lf.utilizer.transform([X[9]]))[0])])"
   ]
  },
  {
   "cell_type": "markdown",
   "metadata": {},
   "source": [
    "We will also change the value of the feature native country"
   ]
  },
  {
   "cell_type": "code",
   "execution_count": 26,
   "metadata": {},
   "outputs": [
    {
     "name": "stdout",
     "output_type": "stream",
     "text": [
      "Changing capital loss from: 0.0 to: -10000000\n",
      "New prediction: >50K\n",
      "Changing capital loss from: 0.0 to: 10000000\n",
      "New prediction: >50K\n"
     ]
    }
   ],
   "source": [
    "for v in [-10000000, 10000000]:\n",
    "    temp = X[9].copy()\n",
    "    print('Changing capital loss from:', temp[-2], 'to:',v)\n",
    "    temp[-2] = v\n",
    "    print(\"New prediction:\", class_names[np.argmax(lf.model.predict_proba(lf.utilizer.transform([X[9]]))[0])])"
   ]
  },
  {
   "cell_type": "markdown",
   "metadata": {},
   "source": [
    "Testing age feature as well"
   ]
  },
  {
   "cell_type": "code",
   "execution_count": 27,
   "metadata": {},
   "outputs": [
    {
     "name": "stdout",
     "output_type": "stream",
     "text": [
      "Changing age from: 42.0 to: 32\n",
      "New prediction: >50K\n",
      "Changing age from: 42.0 to: 48\n",
      "New prediction: >50K\n"
     ]
    }
   ],
   "source": [
    "for v in [32, 48]:\n",
    "    temp = X[9].copy()\n",
    "    print('Changing age from:', temp[80], 'to:',v)\n",
    "    temp[80] =v\n",
    "    print(\"New prediction:\", class_names[np.argmax(lf.model.predict_proba(lf.utilizer.transform([X[9]]))[0])])"
   ]
  },
  {
   "cell_type": "markdown",
   "metadata": {},
   "source": [
    "# Sensitivity analysis\n",
    "We will now test how the random forest's parameters are affecting the reduction of paths and features"
   ]
  },
  {
   "cell_type": "code",
   "execution_count": null,
   "metadata": {},
   "outputs": [],
   "source": [
    "from tqdm import tqdm\n",
    "import time\n",
    "\n",
    "results = []\n",
    "iterr = 100\n",
    "with tqdm(total=4*4*4*24) as pbar:\n",
    "    for i in [1, 5, 7, 10]:\n",
    "        for j in [10, 100, 500, 1000]:\n",
    "            for o in ['sqrt', 'log2', 0.75, None]:\n",
    "                parameters = [{\n",
    "                    'max_depth': [i],\n",
    "                    'max_features': [o],\n",
    "                    'bootstrap': [True],\n",
    "                    'min_samples_leaf': [2],\n",
    "                    'n_estimators': [j]\n",
    "                }]\n",
    "                lf = LionForests(class_names=class_names)\n",
    "                scaler = MinMaxScaler(feature_range=(-1, 1))\n",
    "                lf.fit(X, y, scaler, feature_names, parameters)\n",
    "                tlf = 0\n",
    "                fr = 0\n",
    "                pr = 0\n",
    "                for inde in range(iterr):\n",
    "                    t_a = time.time()\n",
    "                    a, b, c, d, e, f = lf.explain(\n",
    "                        X[inde], False, None, None, False)\n",
    "                    fr = fr + c - e\n",
    "                    pr = pr + b - d\n",
    "                    tlf = tlf + time.time() - t_a\n",
    "                results.append([str(i), str(j), str(o), 'NoRed',\n",
    "                                '_', '_', tlf/iterr, fr/iterr, pr/iterr])\n",
    "                pbar.update(1)\n",
    "                for k in ['1', '2', '3', '12', '13', '23', '123']:\n",
    "                    if '1' in k and '2' in k:\n",
    "                        for ara in ['apriori', 'fpgrowth']:\n",
    "                            for cla in ['kmedoids', 'OPTICS', 'SC']:\n",
    "                                tlf = 0\n",
    "                                fr = 0\n",
    "                                pr = 0\n",
    "                                for inde in range(iterr):\n",
    "                                    t_a = time.time()\n",
    "                                    a, b, c, d, e, f = lf.explain(\n",
    "                                        X[inde], True, ara, cla, method=k)\n",
    "                                    fr = fr + c - e\n",
    "                                    pr = pr + b - d\n",
    "                                    tlf = tlf + time.time() - t_a\n",
    "                                results.append([str(i), str(j), str(\n",
    "                                    o), k, ara, cla, tlf/iterr, fr/iterr, pr/iterr])\n",
    "                                pbar.update(1)\n",
    "                    elif '1' in k:\n",
    "                        for ara in ['apriori', 'fpgrowth']:\n",
    "                            tlf = 0\n",
    "                            fr = 0\n",
    "                            pr = 0\n",
    "                            for inde in range(iterr):\n",
    "                                t_a = time.time()\n",
    "                                a, b, c, d, e, f = lf.explain(\n",
    "                                    X[inde], True, ara, None, method=k)\n",
    "                                fr = fr + c - e\n",
    "                                pr = pr + b - d\n",
    "                                tlf = tlf + time.time() - t_a\n",
    "                            results.append([str(i), str(j), str(\n",
    "                                o), k, ara, '_', tlf/iterr, fr/iterr, pr/iterr])\n",
    "                            pbar.update(1)\n",
    "                    elif '2' in k:\n",
    "                        for cla in ['kmedoids', 'OPTICS', 'SC']:\n",
    "                            tlf = 0\n",
    "                            fr = 0\n",
    "                            pr = 0\n",
    "                            for inde in range(iterr):\n",
    "                                t_a = time.time()\n",
    "                                a, b, c, d, e, f = lf.explain(\n",
    "                                    X[inde], True, None, cla, method=k)\n",
    "                                fr = fr + c - e\n",
    "                                pr = pr + b - d\n",
    "                                tlf = tlf + time.time() - t_a\n",
    "                            results.append([str(i), str(j), str(\n",
    "                                o), k, '_', cla, tlf/iterr, fr/iterr, pr/iterr])\n",
    "                            pbar.update(1)\n",
    "                    else:\n",
    "                        tlf = 0\n",
    "                        fr = 0\n",
    "                        pr = 0\n",
    "                        for inde in range(iterr):\n",
    "                            t_a = time.time()\n",
    "                            a, b, c, d, e, f = lf.explain(\n",
    "                                X[inde], True, None, None, method=k)\n",
    "                            fr = fr + c - e\n",
    "                            pr = pr + b - d\n",
    "                            tlf = tlf + time.time() - t_a\n",
    "                        results.append([str(i), str(j), str(\n",
    "                            o), k, '_', '_', tlf/iterr, fr/iterr, pr/iterr])\n",
    "                        pbar.update(1)"
   ]
  },
  {
   "cell_type": "code",
   "execution_count": null,
   "metadata": {},
   "outputs": [],
   "source": [
    "for i in results:\n",
    "    print(i)"
   ]
  },
  {
   "cell_type": "markdown",
   "metadata": {},
   "source": [
    "We are not performing time-related experiments because the old version of LD was not able to finish in a relatively normal period."
   ]
  }
 ],
 "metadata": {
  "kernelspec": {
   "display_name": "lionets",
   "language": "python",
   "name": "lionets"
  },
  "language_info": {
   "codemirror_mode": {
    "name": "ipython",
    "version": 3
   },
   "file_extension": ".py",
   "mimetype": "text/x-python",
   "name": "python",
   "nbconvert_exporter": "python",
   "pygments_lexer": "ipython3",
   "version": "3.7.6"
  }
 },
 "nbformat": 4,
 "nbformat_minor": 4
}
