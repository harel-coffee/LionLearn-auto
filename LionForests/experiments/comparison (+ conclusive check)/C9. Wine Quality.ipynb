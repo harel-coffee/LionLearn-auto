{
 "cells": [
  {
   "cell_type": "code",
   "execution_count": 1,
   "metadata": {},
   "outputs": [],
   "source": [
    "import sys\n",
    "cpath = !pwd\n",
    "sys.path.append('/usr/src/app/algorithms/')\n",
    "sys.path.append('/usr/src/app/')"
   ]
  },
  {
   "cell_type": "code",
   "execution_count": 2,
   "metadata": {},
   "outputs": [],
   "source": [
    "from lionforests import LionForests\n",
    "from algorithms.simpleSurrogate import GlobalSurrogateTree, LocalSurrogateTree\n",
    "from algorithms.DefragTrees.defragTrees import DefragModel\n",
    "from IPython.display import clear_output\n",
    "\n",
    "from scipy import sparse\n",
    "\n",
    "from datasets.dataset import Dataset\n",
    "from sklearn.preprocessing import StandardScaler, MinMaxScaler\n",
    "import pandas as pd \n",
    "import numpy as np\n",
    "np.seterr(invalid='ignore')\n",
    "import warnings\n",
    "warnings.filterwarnings(\"ignore\")\n",
    "import time\n",
    "\n",
    "from sklearn.model_selection import train_test_split, LeaveOneOut\n",
    "from sklearn.metrics import f1_score, precision_score, mean_absolute_error"
   ]
  },
  {
   "cell_type": "code",
   "execution_count": 3,
   "metadata": {},
   "outputs": [],
   "source": [
    "wine_q = Dataset()\n",
    "X, y, feature_names, class_names = wine_q.load_wine_quality()"
   ]
  },
  {
   "cell_type": "code",
   "execution_count": 4,
   "metadata": {},
   "outputs": [
    {
     "data": {
      "text/plain": [
       "0.8731880644450568"
      ]
     },
     "execution_count": 4,
     "metadata": {},
     "output_type": "execute_result"
    }
   ],
   "source": [
    "y.std()"
   ]
  },
  {
   "cell_type": "code",
   "execution_count": 5,
   "metadata": {},
   "outputs": [
    {
     "data": {
      "text/plain": [
       "['fixed_acidity',\n",
       " 'volatile_acidity',\n",
       " 'citric_acid',\n",
       " 'residual_sugar',\n",
       " 'chlorides',\n",
       " 'free_sulfur_dioxide',\n",
       " 'total_sulfur_dioxide',\n",
       " 'density',\n",
       " 'pH',\n",
       " 'sulphates',\n",
       " 'alcohol']"
      ]
     },
     "execution_count": 5,
     "metadata": {},
     "output_type": "execute_result"
    }
   ],
   "source": [
    "y = np.array(y)\n",
    "#one_h_percent = int(min(10*len(X)/100,100))\n",
    "#print(\"Instances:\",one_h_percent)\n",
    "new_fn = []\n",
    "for i in feature_names:\n",
    "    new_fn.append(i.replace(' ','_'))\n",
    "feature_names = new_fn\n",
    "feature_names"
   ]
  },
  {
   "cell_type": "code",
   "execution_count": 6,
   "metadata": {},
   "outputs": [],
   "source": [
    "from IPython.display import clear_output\n",
    "def measure(X_train, X_test, y_train, y_test, feature_names, class_names, random_state=10):\n",
    "    parameters = [{\n",
    "            'max_depth': [5],\n",
    "            'max_features': [None],\n",
    "            'bootstrap': [True],\n",
    "            'min_samples_leaf' : [5],\n",
    "            'n_estimators': [500]#1000\n",
    "    }]\n",
    "    lf = LionForests(None, False, None, feature_names, class_names)\n",
    "    lf.fit(X_train, y_train, params=parameters)    \n",
    "    train = lf.utilizer.transform(X_train)\n",
    "    test = lf.utilizer.transform(X_test)\n",
    "\n",
    "    predictions = lf.model.predict(train)\n",
    "    test_predictions = lf.model.predict(test)\n",
    "\n",
    "    def techniques(model, train, y_train, predictions, test, feature_names, class_names, lf, task, random_state=10):\n",
    "\n",
    "        #BaselineTechnique ==============================================================================\n",
    "        \n",
    "        gt = GlobalSurrogateTree(train, predictions, feature_names, task, random_state)\n",
    "        lt = LocalSurrogateTree(train, predictions, feature_names, task, 50, random_state)\n",
    "        #print('    GT and LT Ready')\n",
    "\n",
    "        #DefragTechnique ================================================================================\n",
    "        Kmax = 10\n",
    "        splitter = DefragModel.parseSLtrees(model) # parse sklearn tree ensembles into the array of (feature index, threshold)\n",
    "        #print('    Done Splitting Starting Defrag')\n",
    "        #mdl = DefragModel(modeltype=task, maxitr=10, qitr=0, tol=1e-6, restart=2, verbose=0, njobs=7)\n",
    "        mdl = DefragModel(modeltype=task, maxitr=4, qitr=0, tol=1e-6, restart=2, njobs=7, seed=random_state)\n",
    "        mdl.fit(train, predictions, splitter, Kmax, fittype='FAB', featurename=feature_names)\n",
    "        def def_cov(instances):\n",
    "            ts = time.time()\n",
    "            score, cover, coll = mdl.evaluate(instances[1:],lf.model.predict(instances[1:]))\n",
    "            def_predictions = mdl.predict(instances[1:])\n",
    "            length, nodes = mdl.find_rule_length(instances[0])\n",
    "            max_len = len(length)\n",
    "            comp = {1:'>',0:'<='}\n",
    "            rules = {}\n",
    "            for f in feature_names:\n",
    "                rules[f] = []\n",
    "            counter = 0\n",
    "            for rule, node in list(zip(mdl.rule_,nodes)):\n",
    "                for conj in range(len(node)):\n",
    "                    if node[conj] and counter<=max_len-1:\n",
    "                        rules[feature_names[int(rule[conj][0]-1)]].append([comp[int(rule[conj][1])],rule[conj][2]])\n",
    "                        counter += 1\n",
    "            new_rules = {}\n",
    "            for k, v in rules.items():\n",
    "                if len(v) == 1:\n",
    "                    new_rules[k] = v\n",
    "                else:\n",
    "                    mmin = None\n",
    "                    mmax = None\n",
    "                    for value in v:\n",
    "                        if value[0]=='<=':\n",
    "                            if mmin is None or mmin > value[1]:\n",
    "                                mmin = value[1]\n",
    "                        if value[0]=='>':\n",
    "                            if mmax is None or mmax < value[1]:\n",
    "                                mmax = value[1]\n",
    "                    if mmin is not None:\n",
    "                        new_rules[k] = [['<=', mmin]]\n",
    "                    if mmax is not None:\n",
    "                        new_rules[k] = [['>', mmax]]\n",
    "            te = time.time()\n",
    "            #print(mdl)\n",
    "            return length, cover, def_predictions, te-ts, new_rules\n",
    "    \n",
    "        #LionForests\n",
    "        def lf_rule(instance):\n",
    "            temp = lf.explain(instance, instance_qe=0.4, method='R1', instance_random_state=random_state)\n",
    "            error = temp[-1]\n",
    "            rule = {}\n",
    "            for key,value in temp[5].items():\n",
    "                rule[key] = [['<=',value[1]],['>',value[0]]]\n",
    "            return rule, error\n",
    "        print('    LF Ready')\n",
    "\n",
    "        return {'gs':gt.rule,'ls':lt.rule,'lf':lf_rule, 'df': def_cov}\n",
    "        \n",
    "    interpretation = techniques(lf.model, train, y_train, predictions, test, feature_names, class_names, lf, 'regression', random_state)\n",
    "    def rule_cov(instance, feature_names, rule):\n",
    "        covered = True\n",
    "        for k in range(len(instance)):\n",
    "            feature = feature_names[k]\n",
    "            if feature in rule.keys():\n",
    "                if len(rule[feature]) == 2:\n",
    "                    if instance[k] > rule[feature][0][1]: #<=\n",
    "                        return 0\n",
    "                    if instance[k] <= rule[feature][1][1]:#THIS <=\n",
    "                        #covered = False\n",
    "                        return 0\n",
    "                elif rule[feature][0][0] == '>':\n",
    "                    if instance[k] <= rule[feature][0][1]:\n",
    "                        #covered = False\n",
    "                        return 0\n",
    "                else:\n",
    "                    if instance[k] > rule[feature][0][1]: #<=\n",
    "                        #covered = False\n",
    "                        return 0\n",
    "        \n",
    "        return 1\n",
    "    def rule_cov_LF(instance, feature_names, rule):\n",
    "        covered = True\n",
    "        for k in range(len(instance)):\n",
    "            feature = feature_names[k]\n",
    "            if feature in rule.keys():\n",
    "                if len(rule[feature]) == 2:\n",
    "                    if instance[k] > rule[feature][0][1]: #<=\n",
    "                        return 0\n",
    "                    if instance[k] < rule[feature][1][1]:#THIS <=\n",
    "                        return 0\n",
    "                elif rule[feature][0][0] == '>':\n",
    "                    if instance[k] <= rule[feature][0][1]:\n",
    "                        return 0\n",
    "                else:\n",
    "                    if instance[k] > rule[feature][0][1]: #<=\n",
    "                        return 0\n",
    "        return 1\n",
    "\n",
    "    rule_generator = interpretation\n",
    "    full_coverage = {'gs':0, 'ls':0, 'lf':0, 'df':0}\n",
    "    rule_length = {'gs':0, 'ls':0, 'lf':0, 'df':0}\n",
    "    f_mae = {'gs':[], 'ls':[], 'lf':[], 'df':[]}\n",
    "    time_response = {'gs':[], 'ls':[], 'lf':[], 'df':[]}\n",
    "    rules = {'gs':[], 'ls':[], 'lf':[], 'df':[]}\n",
    "\n",
    "    x_train_temp = train\n",
    "    x_test_temp = test\n",
    "\n",
    "    y_train_temp = predictions\n",
    "    y_test_temp = test_predictions\n",
    "    \n",
    "    x_train_temp_lf = lf.utilizer.inverse_transform(x_train_temp)\n",
    "    x_test_temp_lf = lf.utilizer.inverse_transform(x_test_temp)    \n",
    "    ktime = time.time()\n",
    "    for test_ind in range(len(test)):\n",
    "        if test_ind % 10 == 0:\n",
    "            print(round(test_ind/(len(test))*100,2),'in:', time.time()-ktime)\n",
    "        for name, method in rule_generator.items():\n",
    "            if name == 'df':\n",
    "                #FIX RULE LENGTH!\n",
    "                rule, cover, predictions, te, new_rules = method(np.concatenate((x_test_temp[test_ind:test_ind+1],x_test_temp)))\n",
    "                f_mae[name].append(mean_absolute_error(predictions,y_test_temp))\n",
    "                full_coverage[name] = full_coverage[name] + cover\n",
    "                rules['df'].append(new_rules)\n",
    "            elif name == 'lf':\n",
    "                ts = time.time()\n",
    "                rule, error = method(x_test_temp_lf[test_ind])\n",
    "                te = time.time() - ts\n",
    "                coverage = 0\n",
    "                mae = []\n",
    "                co = 0\n",
    "                for i in x_test_temp_lf:\n",
    "                    res = rule_cov_LF(i, feature_names, rule)\n",
    "                    coverage = coverage + res\n",
    "                    if res == 1:\n",
    "                        if str(error) != 'nan' and str(error) != 'None':\n",
    "                            mae.append(error)\n",
    "                    co = co + 1\n",
    "                if len(mae) >= 1:\n",
    "                    mae = np.array(mae)\n",
    "                    f_mae[name].append(mae.mean())\n",
    "                full_coverage[name] = full_coverage[name] + coverage/len(x_test_temp_lf)\n",
    "                rules['lf'].append(rule)\n",
    "            else:\n",
    "                ts = time.time()\n",
    "                rule, prediction = method(x_test_temp[test_ind])\n",
    "                te = time.time() - ts\n",
    "                coverage = 0\n",
    "                error = []\n",
    "                co = 0 \n",
    "                for i in x_test_temp:\n",
    "                    res = rule_cov(i, feature_names, rule)\n",
    "                    coverage = coverage + res\n",
    "                    error.append([prediction, y_test_temp[co]])\n",
    "                    co = co + 1\n",
    "                if len(error) >= 1:\n",
    "                    error = np.array(error)\n",
    "                    f_mae[name].append(mean_absolute_error(error[:,:1],error[:,1:]))\n",
    "                full_coverage[name] = full_coverage[name] + coverage/len(x_test_temp)\n",
    "                rules[name].append(rule)\n",
    "                #clear_output()\n",
    "            time_response[name].append(te)\n",
    "            rule_length[name] = rule_length[name] + len(rule)\n",
    "        #clear_output\n",
    "    return rule_generator, full_coverage, rule_length, f_mae, time_response, rules"
   ]
  },
  {
   "cell_type": "code",
   "execution_count": 7,
   "metadata": {
    "scrolled": true
   },
   "outputs": [],
   "source": [
    "from IPython.display import clear_output\n",
    "total_results2 = []\n",
    "test_size_2 = []\n",
    "for rand in [7, 10, 77]: #7\n",
    "    total_results = []\n",
    "    test_size = []\n",
    "    X_train, X_test, y_train, y_test = train_test_split(X, y, test_size=0.2, stratify=y, random_state=7)\n",
    "    results = measure(X_train, X_test[:500], y_train, y_test[:500], feature_names, class_names, random_state=rand)\n",
    "    total_results.append(results)\n",
    "    test_size.append(len(X_test[:500]))\n",
    "    test_size_2.append(test_size)\n",
    "    total_results2.append(total_results)\n",
    "    clear_output()"
   ]
  },
  {
   "cell_type": "code",
   "execution_count": 8,
   "metadata": {},
   "outputs": [],
   "source": [
    "from utilities.lionforests_utility import path_similarity\n",
    "rule_variance = {'gs':[], 'ls':[],'lf':[], 'df':[]}\n",
    "\n",
    "\n",
    "folds = 0\n",
    "test_size = []\n",
    "X_train, X_test, y_train, y_test = train_test_split(X, y, test_size=0.3, stratify=y, random_state=7)\n",
    "\n",
    "min_max_feature_values = {}\n",
    "for i in range(len(feature_names)):\n",
    "        min_max_feature_values[feature_names[i]] = [min(X_train[:, i]), max(X_train[:, i])] \n",
    "for name in ['gs', 'ls', 'lf', 'df']:\n",
    "    for k in range(len(total_results2[0][folds][-1][name])):\n",
    "        r1 = total_results2[0][0][-1][name][k]\n",
    "        r2 = total_results2[1][0][-1][name][k]\n",
    "        r3 = total_results2[2][0][-1][name][k]\n",
    "        #try:\n",
    "        rule_variance[name].append((path_similarity(r1, r2, feature_names, min_max_feature_values)+\n",
    "                                       path_similarity(r1, r3, feature_names, min_max_feature_values)+\n",
    "                                       path_similarity(r2, r3, feature_names, min_max_feature_values))/3)"
   ]
  },
  {
   "cell_type": "code",
   "execution_count": 9,
   "metadata": {},
   "outputs": [
    {
     "name": "stdout",
     "output_type": "stream",
     "text": [
      "gs | 0.0635  0.000 | 2.8880 0.000 | 0.5426  0.000 | 0.0004  0.000 | 0.9435  0.060\n",
      "ls | 0.0785  0.002 | 3.1640 0.025 | 0.5409  0.001 | 0.9941  0.017 | 0.2785  2.868\n",
      "lf | 0.0021  0.000 | 8.4280 0.000 | 0.2530  0.000 | 0.3941  0.002 | 1.0000  0.000\n",
      "df | 0.9993  0.001 | 9.9613 1.685 | 0.2678  0.029 | 0.4035  0.028 | 0.4982  0.102\n"
     ]
    }
   ],
   "source": [
    "f_full_coverage = {'gs':[], 'ls':[], 'lf':[], 'df':[]}\n",
    "f_rule_length = {'gs':[], 'ls':[], 'lf':[], 'df':[]}\n",
    "f_f_precision = {'gs':[], 'ls':[], 'lf':[], 'df':[]}\n",
    "f_f_time = {'gs':[], 'ls':[], 'lf':[], 'df':[]}\n",
    "for b in range(3):\n",
    "    full_coverage = {'gs':[], 'ls':[], 'lf':[], 'df':[]}\n",
    "    rule_length = {'gs':[], 'ls':[], 'lf':[], 'df':[]}\n",
    "    f_precision = {'gs':[], 'ls':[], 'lf':[], 'df':[]}\n",
    "    f_time = {'gs':[], 'ls':[], 'lf':[], 'df':[]}\n",
    "    k = 0\n",
    "    for i in total_results2[b]:\n",
    "        for name, method in i[0].items():\n",
    "            full_coverage[name].append(i[1][name]/test_size_2[b][k])\n",
    "            rule_length[name].append(i[2][name]/test_size_2[b][k])\n",
    "            f_precision[name].append(np.array(i[3][name]).mean())\n",
    "            f_time[name].append(np.array(i[4][name]).mean())\n",
    "        k = + 1\n",
    "    for name, method in i[0].items():\n",
    "        f_full_coverage[name].append(np.array(full_coverage[name]).mean())\n",
    "        f_rule_length[name].append(np.array(rule_length[name]).mean())\n",
    "        f_f_precision[name].append(np.array(f_precision[name]).mean())\n",
    "        f_f_time[name].append(np.array(f_time[name]).mean())\n",
    "for name, method in i[0].items():\n",
    "    print(name,  '| %5.4f  %5.3f | %5.4f %5.3f | %5.4f  %5.3f | %5.4f  %5.3f | %5.4f  %5.3f' \n",
    "          % (np.array(f_full_coverage[name]).mean(),np.array(f_full_coverage[name]).std(),\n",
    "             np.array(f_rule_length[name]).mean(),np.array(f_rule_length[name]).std(),\n",
    "             np.array(f_f_precision[name]).mean(),np.array(f_f_precision[name]).std(),\n",
    "             np.array(f_f_time[name]).mean(),np.array(f_f_time[name]).std(),\n",
    "             np.array(rule_variance[name]).mean(),np.array(rule_variance[name]).std()))"
   ]
  },
  {
   "cell_type": "code",
   "execution_count": 10,
   "metadata": {},
   "outputs": [],
   "source": [
    "import csv\n",
    "\n",
    "with open('wine.csv', 'w', encoding='UTF8') as f:\n",
    "    writer = csv.writer(f)\n",
    "    for name, method in i[0].items():\n",
    "        writer.writerow([name, np.array(f_full_coverage[name]).mean(),np.array(f_full_coverage[name]).std(),\n",
    "             np.array(f_rule_length[name]).mean(),np.array(f_rule_length[name]).std(),\n",
    "             np.array(f_f_precision[name]).mean(),np.array(f_f_precision[name]).std(),\n",
    "             np.array(f_f_time[name]).mean(),np.array(f_f_time[name]).std(),\n",
    "             np.array(rule_variance[name]).mean(),np.array(rule_variance[name]).std()])"
   ]
  },
  {
   "cell_type": "code",
   "execution_count": 3,
   "metadata": {},
   "outputs": [],
   "source": [
    "import re\n",
    "import pickle\n",
    "with open('hoc', 'rb') as handle:\n",
    "    hoc_dict = pickle.load(handle)\n",
    "    X= hoc_dict['x']"
   ]
  },
  {
   "cell_type": "code",
   "execution_count": 16,
   "metadata": {},
   "outputs": [
    {
     "data": {
      "text/plain": [
       "'Aberrant glucose metabolism characterized by high levels of glycolysis , even in the presence of oxygen , is an important hallmark of cancer . This metabolic reprogramming referred to as the Warburg effect is essential to the survival of tumor cells and provides them with substrates required for biomass generation . Molecular mechanisms responsible for this shift in glucose metabolism remain elusive . As described herein , we found that aberrant expression of the proinflammatory protein transglutaminase 2 ( TG2 ) is an important regulator of the Warburg effect in mammary epithelial cells . Mechanistically , TG2 regulated metabolic reprogramming by constitutively activating nuclear factor ( NF)-κB , which binds to the hypoxia-inducible factor ( HIF)-1α promoter and induces its expression even under normoxic conditions . TG2/NF-κB-induced increase in HIF-1α expression was associated with increased glucose uptake , increased lactate production and decreased oxygen consumption by mitochondria . Experimental suppression of TG2 attenuated HIF-1α expression and reversed downstream events in mammary epithelial cells . Moreover , downregulation of p65/RelA or HIF-1α expression in these cells restored normal glucose uptake , lactate production , mitochondrial respiration and glycolytic protein expression . Our results suggest that aberrant expression of TG2 is a master regulator of metabolic reprogramming and facilitates metabolic alterations in epithelial cells even under normoxic conditions . A TG2-induced shift in glucose metabolism helps breast cancer cells to survive under stressful conditions and promotes their metastatic competence .'"
      ]
     },
     "execution_count": 16,
     "metadata": {},
     "output_type": "execute_result"
    }
   ],
   "source": [
    "temp = X[-1]\n",
    "temp.encode().decode('unicode_escape')"
   ]
  },
  {
   "cell_type": "code",
   "execution_count": 90,
   "metadata": {},
   "outputs": [],
   "source": [
    "text = ' piceatannol has potent anti a-inflammatory , immuno.modulatory , anticancer and antiproliferative effects . however , little is known about the mechanism by which piceatannol inhibits invasion and metastasis . the aim of the current study was to investigate the effects of piceatannol on the expression of matrix metalloproteinase 9 ( mmp 9 ) in du145 human prostate cancer cells . the results revealed that mmp 9 activity was significantly increased in response to tumor necrosis factor !\\u03b1 ( tnf a\\u03b1 ) . however , treatment with piceatannol reversed tnf \\u03b1  and mmp 9 induced gelatin zymography and its gene expression . in addition , a matrigel invasion assay determined that piceatannol reduces the tnf \\u03b1 induced invasion of du145 cells . nuclear factor \\u03ba b ( nf \\u03bab ) is a significant transcription factor that regulates numerous genes involved in tumor cell invasion and metastasis . therefore , whether piceatannol acts on nf \\u03bab to regulate mmp 9 gene expression was analyzed . the results revealed that piceatannol attenuates mmp 9 gene expression via the suppression of nf \\u03bab activity . using a specific nf \\u03bab inhibitor , pyrrolidine dithiocarbamate , it was confirmed that tnf \\u03b1 induced mmp 9 gene expression is primarily regulated by nf \\u03bab activation . piceatannol inhibited nf \\u03bab activity by suppressing nuclear translocation of the nf \\u03bab p65 and p50 subunits . furthermore , tnf \\u03b1 induced akt phosphorylation was significantly downregulated in the presence of piceatannol . the akt inhibitor ly294002 caused a significant decrease in tnf \\u03b1 induced nf \\u03bab activity and mmp 9 gene expression . overall , these data suggest that piceatannol inhibits tnf \\u03b1 induced invasion by suppression of mmp 9 activation via the akt mediated nf \\u03bab pathway in du145 prostate cancer cells .'\n",
    "#text = text.encode()\n",
    "#text.tostring()"
   ]
  },
  {
   "cell_type": "code",
   "execution_count": 108,
   "metadata": {},
   "outputs": [
    {
     "name": "stdout",
     "output_type": "stream",
     "text": [
      " piceatannol has potent anti a-inflammatory , immuno.modulatory , anticancer and antiproliferative effects . however , little is known about the mechanism by which piceatannol inhibits invasion and metastasis . the aim of the current study was to investigate the effects of piceatannol on the expression of matrix metalloproteinase 9 ( mmp 9 ) in du145 human prostate cancer cells . the results revealed that mmp 9 activity was significantly increased in response to tumor necrosis factor !α ( tnf aα ) . however , treatment with piceatannol reversed tnf α  and mmp 9 induced gelatin zymography and its gene expression . in addition , a matrigel invasion assay determined that piceatannol reduces the tnf α induced invasion of du145 cells . nuclear factor κ b ( nf κb ) is a significant transcription factor that regulates numerous genes involved in tumor cell invasion and metastasis . therefore , whether piceatannol acts on nf κb to regulate mmp 9 gene expression was analyzed . the results revealed that piceatannol attenuates mmp 9 gene expression via the suppression of nf κb activity . using a specific nf κb inhibitor , pyrrolidine dithiocarbamate , it was confirmed that tnf α induced mmp 9 gene expression is primarily regulated by nf κb activation . piceatannol inhibited nf κb activity by suppressing nuclear translocation of the nf κb p65 and p50 subunits . furthermore , tnf α induced akt phosphorylation was significantly downregulated in the presence of piceatannol . the akt inhibitor ly294002 caused a significant decrease in tnf α induced nf κb activity and mmp 9 gene expression . overall , these data suggest that piceatannol inhibits tnf α induced invasion by suppression of mmp 9 activation via the akt mediated nf κb pathway in du145 prostate cancer cells .\n",
      "b' piceatannol has potent anti a-inflammatory , immuno.modulatory , anticancer and antiproliferative effects . however , little is known about the mechanism by which piceatannol inhibits invasion and metastasis . the aim of the current study was to investigate the effects of piceatannol on the expression of matrix metalloproteinase 9 ( mmp 9 ) in du145 human prostate cancer cells . the results revealed that mmp 9 activity was significantly increased in response to tumor necrosis factor !\\xce\\xb1 ( tnf a\\xce\\xb1 ) . however , treatment with piceatannol reversed tnf \\xce\\xb1  and mmp 9 induced gelatin zymography and its gene expression . in addition , a matrigel invasion assay determined that piceatannol reduces the tnf \\xce\\xb1 induced invasion of du145 cells . nuclear factor \\xce\\xba b ( nf \\xce\\xbab ) is a significant transcription factor that regulates numerous genes involved in tumor cell invasion and metastasis . therefore , whether piceatannol acts on nf \\xce\\xbab to regulate mmp 9 gene expression was analyzed . the results revealed that piceatannol attenuates mmp 9 gene expression via the suppression of nf \\xce\\xbab activity . using a specific nf \\xce\\xbab inhibitor , pyrrolidine dithiocarbamate , it was confirmed that tnf \\xce\\xb1 induced mmp 9 gene expression is primarily regulated by nf \\xce\\xbab activation . piceatannol inhibited nf \\xce\\xbab activity by suppressing nuclear translocation of the nf \\xce\\xbab p65 and p50 subunits . furthermore , tnf \\xce\\xb1 induced akt phosphorylation was significantly downregulated in the presence of piceatannol . the akt inhibitor ly294002 caused a significant decrease in tnf \\xce\\xb1 induced nf \\xce\\xbab activity and mmp 9 gene expression . overall , these data suggest that piceatannol inhibits tnf \\xce\\xb1 induced invasion by suppression of mmp 9 activation via the akt mediated nf \\xce\\xbab pathway in du145 prostate cancer cells .'\n"
     ]
    },
    {
     "data": {
      "text/plain": [
       "' piceatannol has potent anti a inflammatory , immuno,modulatory , anticancer and antiproliferative effects . however , little is known about the mechanism by which piceatannol inhibits invasion and metastasis . the aim of the current study was to investigate the effects of piceatannol on the expression of matrix metalloproteinase 9 ( mmp 9 ) in du145 human prostate cancer cells . the results revealed that mmp 9 activity was significantly increased in response to tumor necrosis factor ! ( tnf a ) . however , treatment with piceatannol reversed tnf   and mmp 9 induced gelatin zymography and its gene expression . in addition , a matrigel invasion assay determined that piceatannol reduces the tnf  induced invasion of du145 cells . nuclear factor  b ( nf b ) is a significant transcription factor that regulates numerous genes involved in tumor cell invasion and metastasis . therefore , whether piceatannol acts on nf b to regulate mmp 9 gene expression was analyzed . the results revealed that piceatannol attenuates mmp 9 gene expression via the suppression of nf b activity . using a specific nf b inhibitor , pyrrolidine dithiocarbamate , it was confirmed that tnf  induced mmp 9 gene expression is primarily regulated by nf b activation . piceatannol inhibited nf b activity by suppressing nuclear translocation of the nf b p65 and p50 subunits . furthermore , tnf  induced akt phosphorylation was significantly downregulated in the presence of piceatannol . the akt inhibitor ly294002 caused a significant decrease in tnf  induced nf b activity and mmp 9 gene expression . overall , these data suggest that piceatannol inhibits tnf  induced invasion by suppression of mmp 9 activation via the akt mediated nf b pathway in du145 prostate cancer cells .'"
      ]
     },
     "execution_count": 108,
     "metadata": {},
     "output_type": "execute_result"
    }
   ],
   "source": [
    "text = ' piceatannol has potent anti a-inflammatory , immuno.modulatory , anticancer and antiproliferative effects . however , little is known about the mechanism by which piceatannol inhibits invasion and metastasis . the aim of the current study was to investigate the effects of piceatannol on the expression of matrix metalloproteinase 9 ( mmp 9 ) in du145 human prostate cancer cells . the results revealed that mmp 9 activity was significantly increased in response to tumor necrosis factor !\\u03b1 ( tnf a\\u03b1 ) . however , treatment with piceatannol reversed tnf \\u03b1  and mmp 9 induced gelatin zymography and its gene expression . in addition , a matrigel invasion assay determined that piceatannol reduces the tnf \\u03b1 induced invasion of du145 cells . nuclear factor \\u03ba b ( nf \\u03bab ) is a significant transcription factor that regulates numerous genes involved in tumor cell invasion and metastasis . therefore , whether piceatannol acts on nf \\u03bab to regulate mmp 9 gene expression was analyzed . the results revealed that piceatannol attenuates mmp 9 gene expression via the suppression of nf \\u03bab activity . using a specific nf \\u03bab inhibitor , pyrrolidine dithiocarbamate , it was confirmed that tnf \\u03b1 induced mmp 9 gene expression is primarily regulated by nf \\u03bab activation . piceatannol inhibited nf \\u03bab activity by suppressing nuclear translocation of the nf \\u03bab p65 and p50 subunits . furthermore , tnf \\u03b1 induced akt phosphorylation was significantly downregulated in the presence of piceatannol . the akt inhibitor ly294002 caused a significant decrease in tnf \\u03b1 induced nf \\u03bab activity and mmp 9 gene expression . overall , these data suggest that piceatannol inhibits tnf \\u03b1 induced invasion by suppression of mmp 9 activation via the akt mediated nf \\u03bab pathway in du145 prostate cancer cells .'\n",
    "print(text)\n",
    "text = text.lower()\n",
    "text = text.encode('UTF-8','replace')\n",
    "print(text)\n",
    "text = re.sub(rb'[^\\x00-\\x7F]+', rb'', text)\n",
    "text = re.sub(rb\"\\s's\\b\", rb\"'s\", text)\n",
    "text = re.sub(rb'(\\S)\\.', rb'\\g<1>,', text)\n",
    "text = re.sub(rb'\\.(\\S)', rb',\\g<1>', text)\n",
    "text = re.sub(rb'\\-', rb' ', text)\n",
    "text = text.decode()\n",
    "text"
   ]
  },
  {
   "cell_type": "code",
   "execution_count": 45,
   "metadata": {},
   "outputs": [
    {
     "ename": "AttributeError",
     "evalue": "'str' object has no attribute 'copy'",
     "output_type": "error",
     "traceback": [
      "\u001b[0;31m---------------------------------------------------------------------------\u001b[0m",
      "\u001b[0;31mAttributeError\u001b[0m                            Traceback (most recent call last)",
      "\u001b[0;32m/tmp/ipykernel_1199/4184098249.py\u001b[0m in \u001b[0;36m<module>\u001b[0;34m\u001b[0m\n\u001b[0;32m----> 1\u001b[0;31m \u001b[0mtext\u001b[0m\u001b[0;34m.\u001b[0m\u001b[0mcopy\u001b[0m\u001b[0;34m(\u001b[0m\u001b[0;34m)\u001b[0m\u001b[0;34m\u001b[0m\u001b[0;34m\u001b[0m\u001b[0m\n\u001b[0m",
      "\u001b[0;31mAttributeError\u001b[0m: 'str' object has no attribute 'copy'"
     ]
    }
   ],
   "source": [
    "text.copy()"
   ]
  },
  {
   "cell_type": "code",
   "execution_count": null,
   "metadata": {},
   "outputs": [],
   "source": []
  }
 ],
 "metadata": {
  "kernelspec": {
   "display_name": "Python 3 (ipykernel)",
   "language": "python",
   "name": "python3"
  },
  "language_info": {
   "codemirror_mode": {
    "name": "ipython",
    "version": 3
   },
   "file_extension": ".py",
   "mimetype": "text/x-python",
   "name": "python",
   "nbconvert_exporter": "python",
   "pygments_lexer": "ipython3",
   "version": "3.7.8"
  },
  "toc": {
   "base_numbering": 1,
   "nav_menu": {},
   "number_sections": true,
   "sideBar": true,
   "skip_h1_title": false,
   "title_cell": "Table of Contents",
   "title_sidebar": "Contents",
   "toc_cell": false,
   "toc_position": {},
   "toc_section_display": true,
   "toc_window_display": false
  },
  "varInspector": {
   "cols": {
    "lenName": 16,
    "lenType": 16,
    "lenVar": 40
   },
   "kernels_config": {
    "python": {
     "delete_cmd_postfix": "",
     "delete_cmd_prefix": "del ",
     "library": "var_list.py",
     "varRefreshCmd": "print(var_dic_list())"
    },
    "r": {
     "delete_cmd_postfix": ") ",
     "delete_cmd_prefix": "rm(",
     "library": "var_list.r",
     "varRefreshCmd": "cat(var_dic_list()) "
    }
   },
   "types_to_exclude": [
    "module",
    "function",
    "builtin_function_or_method",
    "instance",
    "_Feature"
   ],
   "window_display": false
  }
 },
 "nbformat": 4,
 "nbformat_minor": 2
}
