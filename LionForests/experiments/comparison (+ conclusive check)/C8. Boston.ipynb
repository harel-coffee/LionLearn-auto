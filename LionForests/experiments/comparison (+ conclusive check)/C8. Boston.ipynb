{
 "cells": [
  {
   "cell_type": "code",
   "execution_count": 1,
   "metadata": {},
   "outputs": [],
   "source": [
    "import sys\n",
    "cpath = !pwd\n",
    "sys.path.append(cpath[0][:-43]) \n",
    "sys.path.append(cpath[0][:-43]+'/algorithms')"
   ]
  },
  {
   "cell_type": "code",
   "execution_count": 2,
   "metadata": {},
   "outputs": [],
   "source": [
    "from lionforests import LionForests\n",
    "from algorithms.simpleSurrogate import GlobalSurrogateTree, LocalSurrogateTree\n",
    "from algorithms.DefragTrees.defragTrees import DefragModel\n",
    "\n",
    "from scipy import sparse\n",
    "\n",
    "from datasets.dataset import Dataset\n",
    "from sklearn.preprocessing import StandardScaler, MinMaxScaler\n",
    "import pandas as pd \n",
    "import numpy as np\n",
    "np.seterr(invalid='ignore')\n",
    "import warnings\n",
    "warnings.filterwarnings(\"ignore\")\n",
    "import time\n",
    "\n",
    "from sklearn.model_selection import train_test_split, LeaveOneOut\n",
    "from sklearn.metrics import f1_score, precision_score, mean_absolute_error"
   ]
  },
  {
   "cell_type": "code",
   "execution_count": 3,
   "metadata": {
    "ExecuteTime": {
     "end_time": "2020-10-14T14:29:44.405846Z",
     "start_time": "2020-10-14T14:29:42.622875Z"
    }
   },
   "outputs": [],
   "source": [
    "from sklearn.datasets import load_boston\n",
    "import matplotlib.pyplot as plt\n",
    "data = load_boston()\n",
    "X = data['data']\n",
    "y = data['target']\n",
    "feature_names = list(data['feature_names'])\n",
    "class_names=[\"House Price\"]"
   ]
  },
  {
   "cell_type": "code",
   "execution_count": 4,
   "metadata": {},
   "outputs": [],
   "source": [
    "#one_h_percent = int(min(10*len(X)/100,100))\n",
    "#print(\"Instances:\",one_h_percent)"
   ]
  },
  {
   "cell_type": "code",
   "execution_count": 26,
   "metadata": {},
   "outputs": [],
   "source": [
    "def measure(X_train, X_test, y_train, y_test, feature_names, class_names):\n",
    "    parameters = [{\n",
    "        'max_depth': [10], #10\n",
    "        'max_features': [0.75],\n",
    "        'bootstrap': [True],\n",
    "        'min_samples_leaf' : [1],\n",
    "        'n_estimators': [1000]\n",
    "    }]\n",
    "    lf = LionForests(None, False, None, feature_names, class_names)\n",
    "    lf.fit(X_train, y_train, params=parameters)    \n",
    "    train = lf.utilizer.transform(X_train)\n",
    "    test = lf.utilizer.transform(X_test)\n",
    "\n",
    "    predictions = lf.model.predict(train)\n",
    "    test_predictions = lf.model.predict(test)\n",
    "\n",
    "    def techniques(model, train, y_train, predictions, test, feature_names, class_names, lf, task):\n",
    "\n",
    "        #BaselineTechnique ==============================================================================\n",
    "        gt = GlobalSurrogateTree(train, predictions, feature_names, task)\n",
    "        lt = LocalSurrogateTree(train, predictions, feature_names, task, 150)\n",
    "        #print('    GT and LT Trained')\n",
    "        #DefragTechnique ================================================================================\n",
    "        Kmax = 15\n",
    "        splitter = DefragModel.parseSLtrees(model) # parse sklearn tree ensembles into the array of (feature index, threshold)\n",
    "        mdl = DefragModel(modeltype=task, maxitr=15, qitr=0, tol=1e-6, restart=2, verbose=0, njobs=7)\n",
    "        mdl.fit(train, predictions, splitter, Kmax, fittype='FAB', featurename=feature_names)\n",
    "        def def_cov(instances):\n",
    "            ts = time.time()\n",
    "            score, cover, coll = mdl.evaluate(instances[1:],lf.model.predict(instances[1:]))\n",
    "            def_predictions = mdl.predict(instances[1:])\n",
    "            rule = mdl.find_rule_length(instances[0])\n",
    "            return rule, cover, def_predictions, time.time()-ts\n",
    "        #print('    Defrag Trained')\n",
    "\n",
    "        #LionForests\n",
    "        def lf_rule(instance):\n",
    "            temp = lf.explain(instance, instance_qe=5.9, method='R1')\n",
    "            error = temp[-1]\n",
    "            rule = {}\n",
    "            for key,value in temp[5].items():\n",
    "                rule[key] = [['<=',value[1]],['>',value[0]]]\n",
    "            return rule, error\n",
    "        print('    LF Ready')\n",
    "\n",
    "        return {'gs':gt.rule,'ls':lt.rule,'lf':lf_rule, 'df': def_cov}        \n",
    "        \n",
    "    interpretation = techniques(lf.model, train, y_train, predictions, test, feature_names, class_names, lf, 'regression')\n",
    "    def rule_cov(instance, feature_names, rule):\n",
    "        covered = True\n",
    "        for k in range(len(instance)):\n",
    "            feature = feature_names[k]\n",
    "            if feature in rule.keys():\n",
    "                if len(rule[feature]) == 2:\n",
    "                    if instance[k] > rule[feature][0][1]: #<=\n",
    "                        return 0\n",
    "                    if instance[k] <= rule[feature][1][1]:#THIS <=\n",
    "                        return 0\n",
    "                elif rule[feature][0][0] == '>':\n",
    "                    if instance[k] <= rule[feature][0][1]:\n",
    "                        return 0\n",
    "                else:\n",
    "                    if instance[k] > rule[feature][0][1]: #<=\n",
    "                        return 0\n",
    "        return 1\n",
    "    def rule_cov_LF(instance, feature_names, rule):\n",
    "        covered = True\n",
    "        for k in range(len(instance)):\n",
    "            feature = feature_names[k]\n",
    "            if feature in rule.keys():\n",
    "                if len(rule[feature]) == 2:\n",
    "                    if instance[k] > rule[feature][0][1]: #<=\n",
    "                        return 0\n",
    "                    if instance[k] < rule[feature][1][1]:#THIS <=\n",
    "                        return 0\n",
    "                elif rule[feature][0][0] == '>':\n",
    "                    if instance[k] <= rule[feature][0][1]:\n",
    "                        return 0\n",
    "                else:\n",
    "                    if instance[k] > rule[feature][0][1]: #<=\n",
    "                        return 0\n",
    "        return 1\n",
    "\n",
    "\n",
    "    rule_generator = interpretation\n",
    "    full_coverage = {'gs':0, 'ls':0, 'lf':0, 'df':0}\n",
    "    rule_length = {'gs':0, 'ls':0, 'lf':0, 'df':0}\n",
    "    f_mae = {'gs':[], 'ls':[], 'lf':[], 'df':[]}\n",
    "    time_response = {'gs':[], 'ls':[], 'lf':[], 'df':[]}\n",
    "\n",
    "    x_train_temp = train\n",
    "    x_test_temp = test\n",
    "\n",
    "    y_train_temp = predictions\n",
    "    y_test_temp = test_predictions\n",
    "    \n",
    "    x_train_temp_lf = lf.utilizer.inverse_transform(x_train_temp)\n",
    "    x_test_temp_lf = lf.utilizer.inverse_transform(x_test_temp)   \n",
    "\n",
    "    for test_ind in range(len(test)):\n",
    "        for name, method in rule_generator.items():\n",
    "            if name == 'df':\n",
    "                #FIX RULE LENGTH!\n",
    "                rule, cover, predictions, te = method(np.concatenate((x_test_temp[test_ind:test_ind+1],x_test_temp)))\n",
    "                f_mae[name].append(mean_absolute_error(predictions,y_test_temp))\n",
    "                full_coverage[name] = full_coverage[name] + cover\n",
    "            elif name == 'lf':\n",
    "                ts = time.time()\n",
    "                rule, error = method(x_test_temp_lf[test_ind])\n",
    "                te = time.time() - ts\n",
    "                coverage = 0\n",
    "                mae = []\n",
    "                co = 0\n",
    "                for i in x_test_temp_lf:\n",
    "                    res = rule_cov_LF(i, feature_names, rule)\n",
    "                    coverage = coverage + res\n",
    "                    if res == 1:\n",
    "                        if str(error) != 'nan' and str(error) != 'None':\n",
    "                            mae.append(error)\n",
    "                    co = co + 1\n",
    "                if len(mae) >= 1:\n",
    "                    mae = np.array(mae)\n",
    "                    f_mae[name].append(mae.mean())\n",
    "                full_coverage[name] = full_coverage[name] + coverage/len(x_test_temp_lf)\n",
    "            else:\n",
    "                ts = time.time()\n",
    "                rule, prediction = method(x_test_temp[test_ind])\n",
    "                te = time.time() - ts\n",
    "                coverage = 0\n",
    "                error = []\n",
    "                co = 0 \n",
    "                for i in x_test_temp:\n",
    "                    res = rule_cov(i, feature_names, rule)\n",
    "                    coverage = coverage + res\n",
    "                    error.append([prediction, y_test_temp[co]])\n",
    "                    co = co + 1\n",
    "                if len(error) >= 1:\n",
    "                    error = np.array(error)\n",
    "                    f_mae[name].append(mean_absolute_error(error[:,:1],error[:,1:]))\n",
    "                full_coverage[name] = full_coverage[name] + coverage/len(x_test_temp)\n",
    "            time_response[name].append(te)\n",
    "            rule_length[name] = rule_length[name] + len(rule)\n",
    "    return rule_generator, full_coverage, rule_length, f_mae, time_response"
   ]
  },
  {
   "cell_type": "code",
   "execution_count": 27,
   "metadata": {
    "scrolled": true
   },
   "outputs": [
    {
     "name": "stdout",
     "output_type": "stream",
     "text": [
      "# of Fold: 1, size of test: 51\n",
      "    LF Ready\n",
      "# of Fold: 2, size of test: 51\n",
      "    LF Ready\n",
      "# of Fold: 3, size of test: 51\n",
      "    LF Ready\n",
      "# of Fold: 4, size of test: 51\n",
      "    LF Ready\n",
      "# of Fold: 5, size of test: 51\n",
      "    LF Ready\n",
      "# of Fold: 6, size of test: 51\n",
      "    LF Ready\n",
      "# of Fold: 7, size of test: 50\n",
      "    LF Ready\n",
      "# of Fold: 8, size of test: 50\n",
      "    LF Ready\n",
      "# of Fold: 9, size of test: 50\n",
      "    LF Ready\n",
      "# of Fold: 10, size of test: 50\n",
      "    LF Ready\n"
     ]
    }
   ],
   "source": [
    "from sklearn.model_selection import KFold\n",
    "total_results = []\n",
    "kf = KFold(n_splits=10, random_state=77)\n",
    "folds = 0\n",
    "test_size = []\n",
    "for train_index, test_index in kf.split(X):\n",
    "    X_train, X_test = X[train_index], X[test_index]\n",
    "    y_train, y_test = y[train_index], y[test_index]\n",
    "    test_size.append(len(X_test))\n",
    "    print('# of Fold: ' + str(folds+1) + ', size of test: ' + str(len(X_test)))    \n",
    "    results = measure(X_train, X_test, y_train, y_test, feature_names, class_names)\n",
    "    folds=folds+1\n",
    "    total_results.append(results)"
   ]
  },
  {
   "cell_type": "code",
   "execution_count": 28,
   "metadata": {},
   "outputs": [
    {
     "name": "stdout",
     "output_type": "stream",
     "text": [
      "gs 0.09432218377547097 , 4.315686274509804 , 6.065150799921204 , 0.00019103739308375938\n",
      "ls 0.0923429450211457 , 4.141176470588235 , 6.0572074419406965 , 2.743038597686618\n",
      "lf 0.018361399461745496 , 10.545098039215686 , 5.643175438989966 , 0.8673101750542136\n",
      "df 0.9882352941176471 , 0.5823529411764705 , 5.811773819718651 , 0.9181597727700777\n"
     ]
    }
   ],
   "source": [
    "full_coverage = {'gs':[], 'ls':[], 'lf':[], 'df':[]}\n",
    "rule_length = {'gs':[], 'ls':[], 'lf':[], 'df':[]}\n",
    "f_mae = {'gs':[], 'ls':[], 'lf':[], 'df':[]}\n",
    "f_time = {'gs':[], 'ls':[], 'lf':[], 'df':[]}\n",
    "k = 0\n",
    "for i in total_results:\n",
    "    for name, method in i[0].items():\n",
    "        full_coverage[name].append(i[1][name]/test_size[k])\n",
    "        rule_length[name].append(i[2][name]/test_size[k])\n",
    "        f_mae[name].append(np.array(i[3][name]).mean())\n",
    "        f_time[name].append(np.array(i[4][name]).mean())\n",
    "    k = + 1\n",
    "for name, method in i[0].items():\n",
    "    print(name,np.array(full_coverage[name]).mean(),',',\n",
    "          np.array(rule_length[name]).mean(),',',\n",
    "          np.array(f_mae[name]).mean(),',',\n",
    "          np.array(f_time[name]).mean())"
   ]
  },
  {
   "cell_type": "code",
   "execution_count": null,
   "metadata": {},
   "outputs": [],
   "source": []
  }
 ],
 "metadata": {
  "kernelspec": {
   "display_name": "lionets",
   "language": "python",
   "name": "lionets"
  },
  "language_info": {
   "codemirror_mode": {
    "name": "ipython",
    "version": 3
   },
   "file_extension": ".py",
   "mimetype": "text/x-python",
   "name": "python",
   "nbconvert_exporter": "python",
   "pygments_lexer": "ipython3",
   "version": "3.7.6"
  },
  "toc": {
   "base_numbering": 1,
   "nav_menu": {},
   "number_sections": true,
   "sideBar": true,
   "skip_h1_title": false,
   "title_cell": "Table of Contents",
   "title_sidebar": "Contents",
   "toc_cell": false,
   "toc_position": {},
   "toc_section_display": true,
   "toc_window_display": false
  },
  "varInspector": {
   "cols": {
    "lenName": 16,
    "lenType": 16,
    "lenVar": 40
   },
   "kernels_config": {
    "python": {
     "delete_cmd_postfix": "",
     "delete_cmd_prefix": "del ",
     "library": "var_list.py",
     "varRefreshCmd": "print(var_dic_list())"
    },
    "r": {
     "delete_cmd_postfix": ") ",
     "delete_cmd_prefix": "rm(",
     "library": "var_list.r",
     "varRefreshCmd": "cat(var_dic_list()) "
    }
   },
   "types_to_exclude": [
    "module",
    "function",
    "builtin_function_or_method",
    "instance",
    "_Feature"
   ],
   "window_display": false
  }
 },
 "nbformat": 4,
 "nbformat_minor": 2
}
