{
 "cells": [
  {
   "cell_type": "markdown",
   "metadata": {},
   "source": [
    "# This notebook contains the experiments on Banknote dataset with LionForests"
   ]
  },
  {
   "cell_type": "code",
   "execution_count": 1,
   "metadata": {},
   "outputs": [],
   "source": [
    "import sys\n",
    "cpath = !pwd\n",
    "sys.path.append(cpath[0][:-18])\n",
    "sys.path.append('C:\\\\Users\\\\iamollas\\\\Downloads\\\\LionForests Journal\\\\')\n",
    "sys.path.append('C:\\\\Users\\\\iamollas\\\\Downloads\\\\LionForests Journal\\\\algorithms\\\\')"
   ]
  },
  {
   "cell_type": "code",
   "execution_count": 2,
   "metadata": {},
   "outputs": [],
   "source": [
    "from lionforests import LionForests\n",
    "from algorithms.simpleSurrogate import GlobalSurrogateTree, LocalSurrogateTree\n",
    "from algorithms.DefragTrees.defragTrees import DefragModel\n",
    "from CHIRPS.structures import data_container\n",
    "import CHIRPS.routines as rt\n",
    "import CHIRPS.structures as strcts\n",
    "\n",
    "from scipy import sparse\n",
    "\n",
    "from datasets.dataset import Dataset\n",
    "from sklearn.preprocessing import StandardScaler, MinMaxScaler\n",
    "import pandas as pd \n",
    "import numpy as np\n",
    "np.seterr(invalid='ignore')\n",
    "import warnings\n",
    "warnings.filterwarnings(\"ignore\")\n",
    "import time\n",
    "\n",
    "from sklearn.model_selection import train_test_split, LeaveOneOut\n",
    "from sklearn.metrics import f1_score, precision_score\n",
    "\n",
    "from anchor import anchor_tabular\n"
   ]
  },
  {
   "cell_type": "markdown",
   "metadata": {},
   "source": [
    "Firstly, we load the dataset and we set the feature and class names"
   ]
  },
  {
   "cell_type": "code",
   "execution_count": 7,
   "metadata": {},
   "outputs": [
    {
     "name": "stdout",
     "output_type": "stream",
     "text": [
      "Instances: 100\n"
     ]
    }
   ],
   "source": [
    "banknotes = Dataset()\n",
    "X, y, feature_names, class_names = banknotes.load_banknote()\n",
    "one_h_percent = int(min(10*len(X)/100,100))\n",
    "print(\"Instances:\",one_h_percent)\n",
    "new_fn = []\n",
    "for i in feature_names:\n",
    "    new_fn.append(i.replace(' ','_'))\n",
    "feature_names = new_fn"
   ]
  },
  {
   "cell_type": "markdown",
   "metadata": {},
   "source": [
    "In this set of experiments we are using this not very well written code to perform few experiments/comparisons though different datasets and algorithms!"
   ]
  },
  {
   "cell_type": "code",
   "execution_count": 66,
   "metadata": {},
   "outputs": [],
   "source": [
    "def measure(X_train, X_test, y_train, y_test, feature_names, class_names, tech=False):\n",
    "    parameters = [{\n",
    "        'max_depth': [10],\n",
    "        'max_features': [0.75],\n",
    "        'bootstrap': [True],\n",
    "        'min_samples_leaf' : [1],\n",
    "        'n_estimators': [500]\n",
    "    }]\n",
    "    scaler = MinMaxScaler(feature_range=(-1,1))\n",
    "    lf = LionForests(None, False, scaler, feature_names, class_names)\n",
    "    lf.fit(X_train, y_train, params=parameters)\n",
    "    \n",
    "    train = lf.utilizer.transform(X_train)\n",
    "    test = lf.utilizer.transform(X_test)\n",
    "\n",
    "    predictions = lf.model.predict(train)\n",
    "    test_predictions = lf.model.predict(test)\n",
    "    \n",
    "    def techniques(model, train, y_train, predictions, test, feature_names, class_names, lf, task):\n",
    "\n",
    "        #BaselineTechnique ==============================================================================\n",
    "        gt = GlobalSurrogateTree(train, predictions, feature_names, task)\n",
    "        lt = LocalSurrogateTree(train, predictions, feature_names, task, 150)\n",
    "\n",
    "        #DefragTechnique ================================================================================\n",
    "        Kmax = 10\n",
    "        splitter = DefragModel.parseSLtrees(model) # parse sklearn tree ensembles into the array of (feature index, threshold)\n",
    "        mdl = DefragModel(modeltype=task, maxitr=100, qitr=0, tol=1e-6, restart=20, verbose=0)\n",
    "        mdl.fit(train, predictions, splitter, Kmax, fittype='FAB', featurename=feature_names)\n",
    "        def def_cov(instances):\n",
    "            score, cover, coll = mdl.evaluate(instances[1:],lf.model.predict(instances[1:]))\n",
    "            def_predictions = mdl.predict(instances[1:])\n",
    "            rule = mdl.find_rule_length(instances[0])\n",
    "            print(mdl)\n",
    "            return rule, cover, def_predictions\n",
    "\n",
    "        #Anchors =======================================================================================\n",
    "        explainer = anchor_tabular.AnchorTabularExplainer(class_names, feature_names, train)\n",
    "        def anchors_method(instance):\n",
    "            exp = explainer.explain_instance(instance, lf.model.predict, threshold=0.95)\n",
    "            anchors_dict = {}\n",
    "            for i in exp.names():\n",
    "                terms = i.split(' ')\n",
    "                if len(terms) == 3:\n",
    "                    anchors_dict[terms[0]] = [[terms[1],float(terms[2])]]\n",
    "                else:\n",
    "                    anchors_dict[terms[2]] = [[terms[3],float(terms[4])],[terms[1],float(terms[0])]]\n",
    "            return anchors_dict, 0\n",
    "\n",
    "        #CHIRPS =======================================================================================\n",
    "        project_dir = 'C:\\\\Users\\\\iamollas\\\\Downloads\\\\LionForests Journal\\\\algorithms\\\\CHIRPS'\n",
    "        temp_frame = pd.DataFrame(np.hstack((train,y_train.reshape(len(y_train),1))),columns=feature_names+['class'])\n",
    "        temp_frame['class']=temp_frame['class'].astype(int)\n",
    "\n",
    "        temp_frame = temp_frame.replace({\"class\": {1: 2}})\n",
    "        temp_frame = temp_frame.replace({\"class\": {0: 1}})\n",
    "\n",
    "        mydata = data_container(\n",
    "                data = temp_frame, class_col = 'class', var_names = ['variance', 'skew', 'curtosis', 'entropy'],\n",
    "                project_dir = project_dir, save_dir = 'banknote', random_state=123)\n",
    "        meta_data = mydata.get_meta()\n",
    "        f_walker = strcts.classification_trees_walker(forest=model, meta_data=meta_data)\n",
    "        f_walker.forest_walk(instances = test, labels = model.predict(test), forest_walk_async = True)\n",
    "\n",
    "        explanations = strcts.CHIRPS_container(f_walker.path_detail,\n",
    "                                        forest=model,\n",
    "                                        sample_instances=sparse.csr_matrix(train), # any representative sample can be used\n",
    "                                        sample_labels=predictions,\n",
    "                                        meta_data=meta_data)\n",
    "\n",
    "        explanations.run_explanations(target_classes=model.predict(test), # we're explaining the prediction, not the true label!\n",
    "                                explanation_async=False,\n",
    "                                random_state=123,\n",
    "                                which_trees='majority',\n",
    "                                alpha_paths=0.0,\n",
    "                                support_paths=0.1,\n",
    "                                score_func=1,\n",
    "                                precis_threshold=0.99,\n",
    "                                disc_path_bins=4,\n",
    "                                merging_bootstraps=20,\n",
    "                                pruning_bootstraps=20,\n",
    "                                delta=0.2,\n",
    "                                weighting='kldiv')\n",
    "        def chirps_method(idx):\n",
    "            chirps_dict = {}\n",
    "            for i in explanations.explainers[idx].pruned_rule:\n",
    "                if i[1]:\n",
    "                    chirps_dict[i[0]] = [['<=',float(i[2])]]\n",
    "                else:\n",
    "                    chirps_dict[i[0]] = [['>',float(i[2])]]\n",
    "            return chirps_dict, 0\n",
    "\n",
    "        #LionForests\n",
    "        def lf_rule(instance):\n",
    "            temp = lf.explain(instance)[5]\n",
    "            rule = {}\n",
    "            for key,value in temp.items():\n",
    "                rule[key] = [['<=',value[1]],['>',value[0]]]\n",
    "            return rule\n",
    "\n",
    "        return {'gs':gt.rule,'ls':lt.rule,'an':anchors_method,'lf':lf_rule, 'df': def_cov, 'ch':chirps_method}\n",
    "    interpretation = techniques(lf.model, train, y_train, predictions, test, feature_names, class_names, lf, 'classification')\n",
    "    if tech:\n",
    "        return interpretation, lf\n",
    "    def rule_cov(instance, feature_names, rule):\n",
    "        covered = True\n",
    "        for k in range(len(instance)):\n",
    "            feature = feature_names[k]\n",
    "            if feature in rule.keys():\n",
    "                if len(rule[feature]) == 2:\n",
    "                    if instance[k] > rule[feature][0][1]: #<=\n",
    "                        covered = False\n",
    "                    if instance[k] <= rule[feature][1][1]:\n",
    "                        covered = False\n",
    "                elif rule[feature][0][0] == '>':\n",
    "                    if instance[k] <= rule[feature][0][1]:\n",
    "                        covered = False\n",
    "                else:\n",
    "                     if instance[k] > rule[feature][0][1]: #<=\n",
    "                        covered = False\n",
    "        if covered:\n",
    "            return 1\n",
    "        else:\n",
    "            return 0\n",
    "\n",
    "    gt = GlobalSurrogateTree(train,lf.model.predict(train),feature_names,'c')\n",
    "    lt = LocalSurrogateTree(train,lf.model.predict(train),feature_names,'c',150)\n",
    "\n",
    "    loo = LeaveOneOut()\n",
    "    loo.get_n_splits(test)\n",
    "    rule_generator = interpretation\n",
    "    full_coverage = {'gs':0, 'ls':0, 'an':0, 'lf':0, 'df':0, 'ch': 0}\n",
    "    rule_length = {'gs':0, 'ls':0, 'an':0, 'lf':0, 'df':0, 'ch': 0}\n",
    "    f_precision = {'gs':[], 'ls':[], 'an':[], 'lf':[], 'df':[], 'ch':[]}\n",
    "\n",
    "    for train_index, test_index in loo.split(test):\n",
    "        x_train_temp, x_test_temp = test[train_index], test[test_index]\n",
    "        y_train_temp, y_test_temp = test_predictions[train_index], test_predictions[test_index]\n",
    "        x_train_temp_lf = lf.utilizer.inverse_transform(x_train_temp)\n",
    "        x_test_temp_lf = lf.utilizer.inverse_transform(x_test_temp)\n",
    "        for name, method in rule_generator.items():\n",
    "            if name == 'ch':\n",
    "                rule, op = method(test_index[0])\n",
    "                coverage = 0\n",
    "                precision = []\n",
    "                co = 0\n",
    "                for i in x_train_temp_lf:\n",
    "                    res = rule_cov(i, feature_names, rule)\n",
    "                    coverage = coverage + res\n",
    "                    if res == 1:\n",
    "                        precision.append([y_test_temp[0], y_train_temp[co]])\n",
    "                    co = co + 1\n",
    "                if len(precision) > 1:\n",
    "                    precision = np.array(precision)\n",
    "                    f_precision[name].append(precision_score(precision[:,:1],precision[:,1:],average='micro'))\n",
    "                full_coverage[name] = full_coverage[name] + coverage/len(x_train_temp)\n",
    "            elif name == 'df':\n",
    "                #FIX RULE LENGTH!\n",
    "                rule, cover, predictions = method(np.concatenate((x_test_temp,x_train_temp)))\n",
    "                f_precision[name].append(precision_score(predictions,y_train_temp,average='micro'))\n",
    "                full_coverage[name] = full_coverage[name] + cover\n",
    "            elif name == 'lf':\n",
    "                rule = method(x_test_temp_lf[0])\n",
    "                coverage = 0\n",
    "                precision = []\n",
    "                co = 0\n",
    "                for i in x_train_temp_lf:\n",
    "                    res = rule_cov(i, feature_names, rule)\n",
    "                    coverage = coverage + res\n",
    "                    if res == 1:\n",
    "                        precision.append([y_test_temp[0], y_train_temp[co]])\n",
    "                    co = co + 1\n",
    "                if len(precision) > 1:\n",
    "                    precision = np.array(precision)\n",
    "                    f_precision[name].append(precision_score(precision[:,:1],precision[:,1:],average='micro'))\n",
    "                full_coverage[name] = full_coverage[name] + coverage/len(x_train_temp)\n",
    "            else:\n",
    "                rule, prediction = method(x_test_temp[0])\n",
    "                coverage = 0\n",
    "                precision = []\n",
    "                co = 0 \n",
    "                for i in x_train_temp:\n",
    "                    if name == 'anchors':\n",
    "                        res = rule_cov(i, feature_names, rule)\n",
    "                    else:    \n",
    "                        res = rule_cov(i, feature_names, rule)\n",
    "                    coverage = coverage + res\n",
    "                    if res == 1 and name=='anchors':\n",
    "                        precision.append([y_test_temp[0], y_train_temp[co]])\n",
    "                    elif res == 1:\n",
    "                        precision.append([prediction, y_train_temp[co]])\n",
    "                    co = co + 1\n",
    "                if len(precision) > 1:\n",
    "                    precision = np.array(precision)\n",
    "                    f_precision[name].append(precision_score(precision[:,:1],precision[:,1:],average='micro'))\n",
    "                full_coverage[name] = full_coverage[name] + coverage/len(x_train_temp)\n",
    "            rule_length[name] = rule_length[name] + len(rule)\n",
    "    return rule_generator, full_coverage, rule_length, f_precision"
   ]
  },
  {
   "cell_type": "code",
   "execution_count": null,
   "metadata": {
    "scrolled": true
   },
   "outputs": [],
   "source": [
    "total_results = []\n",
    "rs = [7, 77, 777, 7777, 77777, 5, 55, 555, 5555, 55555]\n",
    "for random_s in rs:\n",
    "    X_train, X_test, y_train, y_test = train_test_split(X, y, test_size=one_h_percent, stratify=y, random_state=random_s)\n",
    "    results = measure(X_train, X_test, y_train, y_test, feature_names, class_names)\n",
    "    total_results.append(results)"
   ]
  },
  {
   "cell_type": "code",
   "execution_count": null,
   "metadata": {},
   "outputs": [],
   "source": [
    "full_coverage = {'gs':[], 'ls':[], 'an':[], 'lf':[], 'df':[], 'ch': []}\n",
    "rule_length = {'gs':[], 'ls':[], 'an':[], 'lf':[], 'df':[], 'ch': []}\n",
    "f_precision = {'gs':[], 'ls':[], 'an':[], 'lf':[], 'df':[], 'ch':[]}\n",
    "\n",
    "for i in total_results:\n",
    "    for name, method in i[0].items():\n",
    "        full_coverage[name].append(i[1][name]/100)\n",
    "        rule_length[name].append(i[2][name]/100)\n",
    "        f_precision[name].append(np.array(i[3][name]).mean())\n",
    "for name, method in i[0].items():\n",
    "    print(name,np.array(full_coverage[name]).mean(),'+-',np.array(full_coverage[name]).std(),\n",
    "          np.array(rule_length[name]).mean(),'+-',np.array(rule_length[name]).std(),\n",
    "          np.array(f_precision[name]).mean(),'+-',np.array(f_precision[name]).std())"
   ]
  },
  {
   "cell_type": "markdown",
   "metadata": {},
   "source": [
    "# Conclusiveness Check:"
   ]
  },
  {
   "cell_type": "markdown",
   "metadata": {},
   "source": [
    "Let's test a few examples!"
   ]
  },
  {
   "cell_type": "code",
   "execution_count": null,
   "metadata": {
    "scrolled": true
   },
   "outputs": [],
   "source": [
    "X_train, X_test, y_train, y_test = train_test_split(X, y, test_size=10, stratify=y, random_state=7)\n",
    "techniques = measure(X_train, X_test, y_train, y_test, feature_names, class_names, True)"
   ]
  },
  {
   "cell_type": "markdown",
   "metadata": {},
   "source": [
    "We prepare our explanation techniques. They are trained in almost the whole train set"
   ]
  },
  {
   "cell_type": "code",
   "execution_count": 482,
   "metadata": {},
   "outputs": [],
   "source": [
    "lf = techniques[1]\n",
    "techniques = techniques[0]\n",
    "X_test_scaled = lf.utilizer.transform(X_test)\n",
    "X_train_scaled = lf.utilizer.transform(X_train)"
   ]
  },
  {
   "cell_type": "markdown",
   "metadata": {},
   "source": [
    "We select the instance 9"
   ]
  },
  {
   "cell_type": "code",
   "execution_count": 487,
   "metadata": {},
   "outputs": [
    {
     "data": {
      "text/plain": [
       "(array([ 3.583  , -3.7971 ,  3.4391 , -0.12501]),\n",
       " array([ 0.53244056, -0.25342473, -0.24826502,  0.53180938]))"
      ]
     },
     "execution_count": 487,
     "metadata": {},
     "output_type": "execute_result"
    }
   ],
   "source": [
    "temp_id = 9\n",
    "temp = X_test[temp_id].copy()\n",
    "temp_scaled = lf.utilizer.transform([X_test[temp_id],X_test[temp_id]])[0]\n",
    "temp, temp_scaled"
   ]
  },
  {
   "cell_type": "markdown",
   "metadata": {},
   "source": [
    "Know let's generate "
   ]
  },
  {
   "cell_type": "code",
   "execution_count": 488,
   "metadata": {},
   "outputs": [
    {
     "data": {
      "text/plain": [
       "({}, 0)"
      ]
     },
     "execution_count": 488,
     "metadata": {},
     "output_type": "execute_result"
    }
   ],
   "source": [
    "techniques['ls'](temp_scaled) #faulty for for id 9, temp2[2] = -5 for id 8, id 5, curt id 4"
   ]
  },
  {
   "cell_type": "markdown",
   "metadata": {},
   "source": [
    "Local Surrogate said 0 without giving any info"
   ]
  },
  {
   "cell_type": "code",
   "execution_count": 489,
   "metadata": {},
   "outputs": [
    {
     "data": {
      "text/plain": [
       "({'variance': [['>', 0.42]]}, 0)"
      ]
     },
     "execution_count": 489,
     "metadata": {},
     "output_type": "execute_result"
    }
   ],
   "source": [
    "techniques['an'](temp_scaled) #faulty for temp2[2] = -5 for id 9"
   ]
  },
  {
   "cell_type": "markdown",
   "metadata": {},
   "source": [
    "Anchors said if variance > 0.42"
   ]
  },
  {
   "cell_type": "code",
   "execution_count": 490,
   "metadata": {},
   "outputs": [
    {
     "data": {
      "text/plain": [
       "({'variance': [['>', 0.23071]]}, 0)"
      ]
     },
     "execution_count": 490,
     "metadata": {},
     "output_type": "execute_result"
    }
   ],
   "source": [
    "techniques['ch'](temp_id) #faulty for temp2[2] = -5 for id 9 and id 8 amd od 4, temp2[1] = -13.7731 for id 5"
   ]
  },
  {
   "cell_type": "markdown",
   "metadata": {},
   "source": [
    "CHIRPS Said 0 variance > 0.23071"
   ]
  },
  {
   "cell_type": "code",
   "execution_count": 491,
   "metadata": {},
   "outputs": [
    {
     "data": {
      "text/plain": [
       "({'skew': [['<=', 0.66949972230517]],\n",
       "  'variance': [['>', 0.1280646916062096]],\n",
       "  'curtosis': [['>', -0.6443884608512067]]},\n",
       " 0)"
      ]
     },
     "execution_count": 491,
     "metadata": {},
     "output_type": "execute_result"
    }
   ],
   "source": [
    "techniques['gs'](temp_scaled)"
   ]
  },
  {
   "cell_type": "markdown",
   "metadata": {},
   "source": [
    "The Global Suroggate said 0 because variance > 0.1280646916062096 and skew <= 0.66949972230517 and curtosis > -0.6443884608512067"
   ]
  },
  {
   "cell_type": "code",
   "execution_count": 492,
   "metadata": {},
   "outputs": [
    {
     "data": {
      "text/plain": [
       "{'variance': [['<=', 6.8248], ['>', 2.3942999407537267]],\n",
       " 'curtosis': [['<=', 17.9274], ['>', -0.8297101872697472]]}"
      ]
     },
     "execution_count": 492,
     "metadata": {},
     "output_type": "execute_result"
    }
   ],
   "source": [
    "techniques['lf'](temp)"
   ]
  },
  {
   "cell_type": "markdown",
   "metadata": {},
   "source": [
    "Finally, LF said 0 if 0.36099632 < variance < 1 and -0.61605188 < curtosis < 1. Those values are transformed, because LF provides ranges for the real values of an instance and not for the scaled values."
   ]
  },
  {
   "cell_type": "code",
   "execution_count": 498,
   "metadata": {},
   "outputs": [
    {
     "data": {
      "text/plain": [
       "array([0, 1], dtype=int64)"
      ]
     },
     "execution_count": 498,
     "metadata": {},
     "output_type": "execute_result"
    }
   ],
   "source": [
    "temp2 = temp.copy()\n",
    "temp2[2] = -5 #Let's change the curtosis value and put it to the min value. Scaled value is -1 \n",
    "temp2_scaled = lf.utilizer.transform([temp2,temp2])[0]\n",
    "lf.model.predict([temp_scaled,temp2_scaled])"
   ]
  },
  {
   "cell_type": "markdown",
   "metadata": {},
   "source": [
    "Local surrogate did not gave any valuable info as well. Anchors and CHIRPS did not provided any condition for the curtosis feature. And when we modified it's value the prediction changed. Therefore, we can say that the two rules were inconclusive. Global Surrogate provided a conclusive answer, like LF. "
   ]
  },
  {
   "cell_type": "code",
   "execution_count": 500,
   "metadata": {},
   "outputs": [
    {
     "data": {
      "text/plain": [
       "(array([ 3.5156, 10.1891, -4.2759, -4.978 ]),\n",
       " array([ 0.52271957,  0.79326241, -0.91296444, -0.35073697]))"
      ]
     },
     "execution_count": 500,
     "metadata": {},
     "output_type": "execute_result"
    }
   ],
   "source": [
    "temp_id = 6\n",
    "temp = X_test[temp_id].copy()\n",
    "temp_scaled = lf.utilizer.transform([X_test[temp_id],X_test[temp_id]])[0]\n",
    "temp, temp_scaled"
   ]
  },
  {
   "cell_type": "code",
   "execution_count": 485,
   "metadata": {},
   "outputs": [
    {
     "name": "stdout",
     "output_type": "stream",
     "text": [
      "[Rule  1]\n",
      "y = 0 when\n",
      "\t skew > 0.337126\n",
      "\t curtosis > -0.974536\n",
      "\n",
      "[Rule  2]\n",
      "y = 0 when\n",
      "\t variance > 0.078377\n",
      "\t skew <= 0.400540\n",
      "\t curtosis > -0.726306\n",
      "\t entropy > 0.160262\n",
      "\n",
      "[Rule  3]\n",
      "y = 1 when\n",
      "\t variance <= 0.118145\n",
      "\t skew <= 0.301429\n",
      "\t curtosis > -0.484685\n",
      "\n",
      "[Rule  4]\n",
      "y = 1 when\n",
      "\t -0.645371 < variance <= 0.308764\n",
      "\t -0.135811 < skew <= 0.420517\n",
      "\t curtosis <= -0.274181\n",
      "\t entropy <= 0.777904\n",
      "\n",
      "[Otherwise]\n",
      "y = 0\n",
      "\n"
     ]
    },
    {
     "data": {
      "text/plain": [
       "([0, 0], 1.0, array([0, 0, 0], dtype=int64))"
      ]
     },
     "execution_count": 485,
     "metadata": {},
     "output_type": "execute_result"
    }
   ],
   "source": [
    "techniques['df'](np.array([temp_scaled,temp_scaled, temp_scaled, temp_scaled]))"
   ]
  },
  {
   "cell_type": "code",
   "execution_count": 484,
   "metadata": {},
   "outputs": [
    {
     "data": {
      "text/plain": [
       "{'variance': [['<=', 6.8248], ['>', 2.8434999517112955]],\n",
       " 'curtosis': [['<=', -4.02399996997267], ['>', -4.364150089024007]]}"
      ]
     },
     "execution_count": 484,
     "metadata": {},
     "output_type": "execute_result"
    }
   ],
   "source": [
    "techniques['lf'](temp)"
   ]
  },
  {
   "cell_type": "code",
   "execution_count": 505,
   "metadata": {},
   "outputs": [
    {
     "data": {
      "text/plain": [
       "array([0, 1], dtype=int64)"
      ]
     },
     "execution_count": 505,
     "metadata": {},
     "output_type": "execute_result"
    }
   ],
   "source": [
    "temp2 = temp.copy()\n",
    "temp2[0] = -7 #Let's change the curtosis value and put it to the min value. Scaled value is -1 \n",
    "temp2_scaled = lf.utilizer.transform([temp2,temp2])[0]\n",
    "lf.model.predict([temp_scaled,temp2_scaled])"
   ]
  },
  {
   "cell_type": "markdown",
   "metadata": {},
   "source": [
    "Let's try one more example to prove that GS is also inconclusive"
   ]
  },
  {
   "cell_type": "code",
   "execution_count": null,
   "metadata": {
    "scrolled": true
   },
   "outputs": [],
   "source": [
    "X_train, X_test, y_train, y_test = train_test_split(X, y, test_size=10, stratify=y, random_state=77)\n",
    "techniques = measure(X_train, X_test, y_train, y_test, feature_names, class_names, True)"
   ]
  },
  {
   "cell_type": "code",
   "execution_count": 465,
   "metadata": {},
   "outputs": [],
   "source": [
    "lf = techniques[1]\n",
    "techniques = techniques[0]\n",
    "X_test_scaled = lf.utilizer.transform(X_test)\n",
    "X_train_scaled = lf.utilizer.transform(X_train)"
   ]
  },
  {
   "cell_type": "markdown",
   "metadata": {},
   "source": [
    "We select a random instance again"
   ]
  },
  {
   "cell_type": "code",
   "execution_count": 466,
   "metadata": {},
   "outputs": [
    {
     "data": {
      "text/plain": [
       "(array([-1.6936,  2.7852, -2.1835, -1.9276]),\n",
       " array([-0.22859471,  0.23917574, -0.73269003,  0.2039972 ]))"
      ]
     },
     "execution_count": 466,
     "metadata": {},
     "output_type": "execute_result"
    }
   ],
   "source": [
    "temp_id = 0\n",
    "temp = X_test[temp_id].copy()\n",
    "temp_scaled = lf.utilizer.transform([X_test[temp_id],X_test[temp_id]])[0]\n",
    "temp, temp_scaled"
   ]
  },
  {
   "cell_type": "code",
   "execution_count": 467,
   "metadata": {},
   "outputs": [
    {
     "data": {
      "text/plain": [
       "({'variance': [['<=', 0.05603344863243409], ['>', -0.25483223672374644]],\n",
       "  'skew': [['<=', 0.32315588433361764], ['>', 0.22769872546014208]]},\n",
       " 1)"
      ]
     },
     "execution_count": 467,
     "metadata": {},
     "output_type": "execute_result"
    }
   ],
   "source": [
    "techniques['gs'](temp_scaled)"
   ]
  },
  {
   "cell_type": "markdown",
   "metadata": {},
   "source": [
    "GS said 1 if -0.2548322 < Variance <= 0.05603344 and 0.2276987254 < skew <= 0.32315588433361764"
   ]
  },
  {
   "cell_type": "code",
   "execution_count": 468,
   "metadata": {},
   "outputs": [
    {
     "data": {
      "text/plain": [
       "{'variance': [['<=', -0.966239995934629], ['>', -1.698349986315147]],\n",
       " 'skew': [['<=', 3.9254000015519557], ['>', -13.773100000000001]],\n",
       " 'curtosis': [['<=', -0.2843348647490144], ['>', -5.286099999999999]]}"
      ]
     },
     "execution_count": 468,
     "metadata": {},
     "output_type": "execute_result"
    }
   ],
   "source": [
    "techniques['lf'](temp)"
   ]
  },
  {
   "cell_type": "markdown",
   "metadata": {},
   "source": [
    "And LF said 0 because: -0.229 < variance <= -0.12368878 and -1 < skew <= 0.32 and -1 < curtosis <= -0.56906411"
   ]
  },
  {
   "cell_type": "code",
   "execution_count": 480,
   "metadata": {},
   "outputs": [
    {
     "data": {
      "text/plain": [
       "array([1, 0], dtype=int64)"
      ]
     },
     "execution_count": 480,
     "metadata": {},
     "output_type": "execute_result"
    }
   ],
   "source": [
    "temp2 = temp.copy()\n",
    "\n",
    "temp2[2] = 17.9274 \n",
    "\n",
    "temp2_scaled = lf.utilizer.transform([temp2,temp2])[0]\n",
    "lf.model.predict([temp_scaled,temp2_scaled])"
   ]
  },
  {
   "cell_type": "markdown",
   "metadata": {},
   "source": [
    "We changed the value of curtosis, which was not iuncluded in GS's rule and the prediction changed. GS's rule therefore it was not conclusive"
   ]
  }
 ],
 "metadata": {
  "kernelspec": {
   "display_name": "lionets",
   "language": "python",
   "name": "lionets"
  },
  "language_info": {
   "codemirror_mode": {
    "name": "ipython",
    "version": 3
   },
   "file_extension": ".py",
   "mimetype": "text/x-python",
   "name": "python",
   "nbconvert_exporter": "python",
   "pygments_lexer": "ipython3",
   "version": "3.7.6"
  }
 },
 "nbformat": 4,
 "nbformat_minor": 4
}
