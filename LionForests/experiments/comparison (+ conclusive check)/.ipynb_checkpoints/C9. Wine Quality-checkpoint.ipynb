{
 "cells": [
  {
   "cell_type": "code",
   "execution_count": 1,
   "metadata": {},
   "outputs": [],
   "source": [
    "import sys\n",
    "cpath = !pwd\n",
    "sys.path.append(cpath[0][:-43]) \n",
    "sys.path.append(cpath[0][:-43]+'/algorithms')"
   ]
  },
  {
   "cell_type": "code",
   "execution_count": 2,
   "metadata": {},
   "outputs": [],
   "source": [
    "from lionforests import LionForests\n",
    "from algorithms.simpleSurrogate import GlobalSurrogateTree, LocalSurrogateTree\n",
    "from algorithms.DefragTrees.defragTrees import DefragModel\n",
    "from CHIRPS.structures import data_container\n",
    "import CHIRPS.routines as rt\n",
    "import CHIRPS.structures as strcts\n",
    "\n",
    "from scipy import sparse\n",
    "\n",
    "from datasets.dataset import Dataset\n",
    "from sklearn.preprocessing import StandardScaler, MinMaxScaler\n",
    "import pandas as pd \n",
    "import numpy as np\n",
    "np.seterr(invalid='ignore')\n",
    "import warnings\n",
    "warnings.filterwarnings(\"ignore\")\n",
    "import time\n",
    "\n",
    "from sklearn.model_selection import train_test_split, LeaveOneOut\n",
    "from sklearn.metrics import f1_score, precision_score, mean_absolute_error\n",
    "\n",
    "from anchor import anchor_tabular"
   ]
  },
  {
   "cell_type": "code",
   "execution_count": 3,
   "metadata": {},
   "outputs": [],
   "source": [
    "wine_q = Dataset()\n",
    "X, y, feature_names, class_names = wine_q.load_wine_quality()"
   ]
  },
  {
   "cell_type": "code",
   "execution_count": 4,
   "metadata": {},
   "outputs": [
    {
     "data": {
      "text/plain": [
       "0.8731880644450568"
      ]
     },
     "execution_count": 4,
     "metadata": {},
     "output_type": "execute_result"
    }
   ],
   "source": [
    "y.std()"
   ]
  },
  {
   "cell_type": "code",
   "execution_count": 5,
   "metadata": {},
   "outputs": [
    {
     "data": {
      "text/plain": [
       "['fixed_acidity',\n",
       " 'volatile_acidity',\n",
       " 'citric_acid',\n",
       " 'residual_sugar',\n",
       " 'chlorides',\n",
       " 'free_sulfur_dioxide',\n",
       " 'total_sulfur_dioxide',\n",
       " 'density',\n",
       " 'pH',\n",
       " 'sulphates',\n",
       " 'alcohol']"
      ]
     },
     "execution_count": 5,
     "metadata": {},
     "output_type": "execute_result"
    }
   ],
   "source": [
    "y = np.array(y)\n",
    "#one_h_percent = int(min(10*len(X)/100,100))\n",
    "#print(\"Instances:\",one_h_percent)\n",
    "new_fn = []\n",
    "for i in feature_names:\n",
    "    new_fn.append(i.replace(' ','_'))\n",
    "feature_names = new_fn\n",
    "feature_names"
   ]
  },
  {
   "cell_type": "code",
   "execution_count": 10,
   "metadata": {},
   "outputs": [],
   "source": [
    "def measure(X_train, X_test, y_train, y_test, feature_names, class_names):\n",
    "    parameters = [{\n",
    "            'max_depth': [10],#10\n",
    "            'max_features': [0.75],\n",
    "            'bootstrap': [True],\n",
    "            'min_samples_leaf' : [5],\n",
    "            'n_estimators': [1000]#1000\n",
    "    }]\n",
    "    lf = LionForests(None, False, None, feature_names, class_names)\n",
    "    lf.fit(X_train, y_train, params=parameters)    \n",
    "    train = lf.utilizer.transform(X_train)\n",
    "    test = lf.utilizer.transform(X_test)\n",
    "\n",
    "    predictions = lf.model.predict(train)\n",
    "    test_predictions = lf.model.predict(test)\n",
    "\n",
    "    def techniques(model, train, y_train, predictions, test, feature_names, class_names, lf, task):\n",
    "\n",
    "        #BaselineTechnique ==============================================================================\n",
    "        \"\"\"\n",
    "        gt = GlobalSurrogateTree(train, predictions, feature_names, task)\n",
    "        lt = LocalSurrogateTree(train, predictions, feature_names, task, 150)\n",
    "        #print('    GT and LT Ready')\n",
    "\n",
    "        #DefragTechnique ================================================================================\n",
    "        Kmax = 5\n",
    "        splitter = DefragModel.parseSLtrees(model) # parse sklearn tree ensembles into the array of (feature index, threshold)\n",
    "        #print('    Done Splitting Starting Defrag')\n",
    "        #mdl = DefragModel(modeltype=task, maxitr=10, qitr=0, tol=1e-6, restart=2, verbose=0, njobs=7)\n",
    "        mdl = DefragModel(modeltype=task, maxitr=5, qitr=0, tol=1e-6, restart=2, njobs=6)\n",
    "        mdl.fit(train, predictions, splitter, Kmax, fittype='FAB', featurename=feature_names)\n",
    "        def def_cov(instances):\n",
    "            ts = time.time()\n",
    "            score, cover, coll = mdl.evaluate(instances[1:],lf.model.predict(instances[1:]))\n",
    "            def_predictions = mdl.predict(instances[1:])\n",
    "            rule = mdl.find_rule_length(instances[0])\n",
    "            return rule, cover, def_predictions, time.time() - ts\n",
    "        #print('    Defrag Ready')\n",
    "        \"\"\"\n",
    "        #LionForests\n",
    "        def lf_rule(instance):\n",
    "            temp = lf.explain(instance, instance_qe=0.4, method='R1')\n",
    "            error = temp[-1]\n",
    "            rule = {}\n",
    "            for key,value in temp[5].items():\n",
    "                rule[key] = [['<=',value[1]],['>',value[0]]]\n",
    "            return rule, error\n",
    "        print('    LF Ready')\n",
    "\n",
    "        #return {'gs':gt.rule,'ls':lt.rule,'lf':lf_rule, 'df': def_cov}\n",
    "        return {'lf':lf_rule}\n",
    "        \n",
    "    interpretation = techniques(lf.model, train, y_train, predictions, test, feature_names, class_names, lf, 'regression')\n",
    "    def rule_cov(instance, feature_names, rule):\n",
    "        covered = True\n",
    "        for k in range(len(instance)):\n",
    "            feature = feature_names[k]\n",
    "            if feature in rule.keys():\n",
    "                if len(rule[feature]) == 2:\n",
    "                    if instance[k] > rule[feature][0][1]: #<=\n",
    "                        return 0\n",
    "                    if instance[k] <= rule[feature][1][1]:#THIS <=\n",
    "                        #covered = False\n",
    "                        return 0\n",
    "                elif rule[feature][0][0] == '>':\n",
    "                    if instance[k] <= rule[feature][0][1]:\n",
    "                        #covered = False\n",
    "                        return 0\n",
    "                else:\n",
    "                    if instance[k] > rule[feature][0][1]: #<=\n",
    "                        #covered = False\n",
    "                        return 0\n",
    "        \n",
    "        return 1\n",
    "    def rule_cov_LF(instance, feature_names, rule):\n",
    "        covered = True\n",
    "        for k in range(len(instance)):\n",
    "            feature = feature_names[k]\n",
    "            if feature in rule.keys():\n",
    "                if len(rule[feature]) == 2:\n",
    "                    if instance[k] > rule[feature][0][1]: #<=\n",
    "                        return 0\n",
    "                    if instance[k] < rule[feature][1][1]:#THIS <=\n",
    "                        return 0\n",
    "                elif rule[feature][0][0] == '>':\n",
    "                    if instance[k] <= rule[feature][0][1]:\n",
    "                        return 0\n",
    "                else:\n",
    "                    if instance[k] > rule[feature][0][1]: #<=\n",
    "                        return 0\n",
    "        return 1\n",
    "\n",
    "    rule_generator = interpretation\n",
    "    full_coverage = {'gs':0, 'ls':0, 'lf':0, 'df':0}\n",
    "    rule_length = {'gs':0, 'ls':0, 'lf':0, 'df':0}\n",
    "    f_mae = {'gs':[], 'ls':[], 'lf':[], 'df':[]}\n",
    "    time_response = {'gs':[], 'ls':[], 'lf':[], 'df':[]}\n",
    "    \n",
    "    x_train_temp = train\n",
    "    x_test_temp = test\n",
    "\n",
    "    y_train_temp = predictions\n",
    "    y_test_temp = test_predictions\n",
    "    \n",
    "    x_train_temp_lf = lf.utilizer.inverse_transform(x_train_temp)\n",
    "    x_test_temp_lf = lf.utilizer.inverse_transform(x_test_temp)    \n",
    "    ktime = time.time()\n",
    "    for test_ind in range(len(test)):\n",
    "        if test_ind % 100 ==0:\n",
    "            print(round(test_ind/(len(test))*100,2),'in:', time.time()-ktime)\n",
    "        for name, method in rule_generator.items():\n",
    "            if name == 'df':\n",
    "                #FIX RULE LENGTH!\n",
    "                rule, cover, predictions, te = method(np.concatenate((x_test_temp[test_ind:test_ind+1],x_test_temp)))\n",
    "                f_mae[name].append(mean_absolute_error(predictions,y_test_temp))\n",
    "                full_coverage[name] = full_coverage[name] + cover\n",
    "            elif name == 'lf':\n",
    "                ts = time.time()\n",
    "                rule, error = method(x_test_temp_lf[test_ind])\n",
    "                te = time.time() - ts\n",
    "                coverage = 0\n",
    "                mae = []\n",
    "                co = 0\n",
    "                for i in x_test_temp_lf:\n",
    "                    res = rule_cov_LF(i, feature_names, rule)\n",
    "                    coverage = coverage + res\n",
    "                    if res == 1:\n",
    "                        if str(error) != 'nan' and str(error) != 'None':\n",
    "                            mae.append(error)\n",
    "                    co = co + 1\n",
    "                if len(mae) >= 1:\n",
    "                    mae = np.array(mae)\n",
    "                    f_mae[name].append(mae.mean())\n",
    "                full_coverage[name] = full_coverage[name] + coverage/len(x_test_temp_lf)\n",
    "            else:\n",
    "                ts = time.time()\n",
    "                rule, prediction = method(x_test_temp[test_ind])\n",
    "                te = time.time() - ts\n",
    "                coverage = 0\n",
    "                error = []\n",
    "                co = 0 \n",
    "                for i in x_test_temp:\n",
    "                    res = rule_cov(i, feature_names, rule)\n",
    "                    coverage = coverage + res\n",
    "                    error.append([prediction, y_test_temp[co]])\n",
    "                    co = co + 1\n",
    "                if len(error) >= 1:\n",
    "                    error = np.array(error)\n",
    "                    f_mae[name].append(mean_absolute_error(error[:,:1],error[:,1:]))\n",
    "                full_coverage[name] = full_coverage[name] + coverage/len(x_test_temp)\n",
    "            time_response[name].append(te)\n",
    "            rule_length[name] = rule_length[name] + len(rule)\n",
    "    return rule_generator, full_coverage, rule_length, f_mae, time_response"
   ]
  },
  {
   "cell_type": "code",
   "execution_count": 11,
   "metadata": {},
   "outputs": [],
   "source": [
    "def print_current(total_results):\n",
    "    full_coverage = {'gs':[], 'ls':[], 'lf':[], 'df':[]}\n",
    "    rule_length = {'gs':[], 'ls':[], 'lf':[], 'df':[]}\n",
    "    f_mae = {'gs':[], 'ls':[], 'lf':[], 'df':[]}\n",
    "    f_time = {'gs':[], 'ls':[], 'lf':[], 'df':[]}\n",
    "\n",
    "    for i in total_results:\n",
    "        for name, method in i[0].items():\n",
    "            full_coverage[name].append(i[1][name]/len(i[4][name]))\n",
    "            rule_length[name].append(i[2][name]/len(i[4][name]))\n",
    "            if len(i[3][name]) >= 1:\n",
    "                f_mae[name].append(np.array(i[3][name]))                \n",
    "            f_time[name].append(np.array(i[4][name]))\n",
    "    for name, method in i[0].items():\n",
    "        print(name,np.array(full_coverage[name]).mean(),',',\n",
    "              np.array(rule_length[name]).mean(),',',\n",
    "              np.array(f_mae[name]).mean(),',',\n",
    "              np.array(f_time[name]).mean())"
   ]
  },
  {
   "cell_type": "code",
   "execution_count": 12,
   "metadata": {},
   "outputs": [
    {
     "name": "stdout",
     "output_type": "stream",
     "text": [
      "1300\n",
      "    LF Ready\n",
      "0.0 in: 0.0\n",
      "7.69 in: 121.96403098106384\n",
      "15.38 in: 250.53716921806335\n",
      "23.08 in: 373.9886209964752\n",
      "30.77 in: 496.06824135780334\n",
      "38.46 in: 630.405529499054\n",
      "46.15 in: 759.5811223983765\n",
      "53.85 in: 894.5463979244232\n",
      "61.54 in: 1025.4812450408936\n",
      "69.23 in: 1148.8560132980347\n",
      "76.92 in: 1276.8090975284576\n",
      "84.62 in: 1403.592509508133\n",
      "92.31 in: 1540.5783298015594\n",
      "lf 0.0008485207100591617 , 10.638461538461538 , 0.3986348667426222 , 1.2882218006940989\n"
     ]
    }
   ],
   "source": [
    "total_results = []\n",
    "X_train, X_test, y_train, y_test = train_test_split(X, y, test_size=0.2, stratify=y, random_state=7)\n",
    "print(len(X_test))\n",
    "results = measure(X_train, X_test, y_train, y_test, feature_names, class_names)\n",
    "total_results.append(results)\n",
    "total_results.append(results)\n",
    "print_current(total_results)"
   ]
  },
  {
   "cell_type": "code",
   "execution_count": 8,
   "metadata": {},
   "outputs": [
    {
     "name": "stdout",
     "output_type": "stream",
     "text": [
      "1300\n",
      "    LF Ready\n",
      "0.0 in: 0.0\n",
      "7.69 in: 1599.366648197174\n",
      "15.38 in: 3179.869612932205\n",
      "23.08 in: 4786.340198516846\n",
      "30.77 in: 6359.489060640335\n",
      "38.46 in: 7936.766558885574\n",
      "46.15 in: 9522.823098421097\n",
      "53.85 in: 11113.280806303024\n",
      "61.54 in: 12693.969573497772\n",
      "69.23 in: 14268.842652320862\n",
      "76.92 in: 15857.335349082947\n",
      "84.62 in: 17444.499817848206\n",
      "92.31 in: 19040.428656101227\n",
      "gs 0.0011384615384615422 , 7.96076923076923 , 0.5985706910035996 , 0.00034943764026348407\n",
      "ls 0.04787928994082837 , 4.49 , 0.5933948989479997 , 2.7971229610076316\n",
      "lf 0.0008455621301775045 , 10.78 , 0.24855276016437294 , 1637623016.7856736\n",
      "df 0.999230769230752 , 6.906153846153846 , 0.4178174165042527 , 11.894804888872\n"
     ]
    }
   ],
   "source": [
    "total_results = []\n",
    "X_train, X_test, y_train, y_test = train_test_split(X, y, test_size=0.2, stratify=y, random_state=7)\n",
    "print(len(X_test))\n",
    "results = measure(X_train, X_test, y_train, y_test, feature_names, class_names)\n",
    "total_results.append(results)\n",
    "total_results.append(results)\n",
    "print_current(total_results)"
   ]
  }
 ],
 "metadata": {
  "kernelspec": {
   "display_name": "lionets",
   "language": "python",
   "name": "lionets"
  },
  "language_info": {
   "codemirror_mode": {
    "name": "ipython",
    "version": 3
   },
   "file_extension": ".py",
   "mimetype": "text/x-python",
   "name": "python",
   "nbconvert_exporter": "python",
   "pygments_lexer": "ipython3",
   "version": "3.7.6"
  },
  "toc": {
   "base_numbering": 1,
   "nav_menu": {},
   "number_sections": true,
   "sideBar": true,
   "skip_h1_title": false,
   "title_cell": "Table of Contents",
   "title_sidebar": "Contents",
   "toc_cell": false,
   "toc_position": {},
   "toc_section_display": true,
   "toc_window_display": false
  },
  "varInspector": {
   "cols": {
    "lenName": 16,
    "lenType": 16,
    "lenVar": 40
   },
   "kernels_config": {
    "python": {
     "delete_cmd_postfix": "",
     "delete_cmd_prefix": "del ",
     "library": "var_list.py",
     "varRefreshCmd": "print(var_dic_list())"
    },
    "r": {
     "delete_cmd_postfix": ") ",
     "delete_cmd_prefix": "rm(",
     "library": "var_list.r",
     "varRefreshCmd": "cat(var_dic_list()) "
    }
   },
   "types_to_exclude": [
    "module",
    "function",
    "builtin_function_or_method",
    "instance",
    "_Feature"
   ],
   "window_display": false
  }
 },
 "nbformat": 4,
 "nbformat_minor": 2
}
