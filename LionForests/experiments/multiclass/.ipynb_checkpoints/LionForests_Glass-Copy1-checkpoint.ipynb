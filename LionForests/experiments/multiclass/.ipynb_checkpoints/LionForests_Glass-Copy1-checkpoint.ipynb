{
 "cells": [
  {
   "cell_type": "code",
   "execution_count": 4,
   "metadata": {},
   "outputs": [],
   "source": [
    "import sys\n",
    "cpath = !pwd\n",
    "sys.path.append(cpath[0][:-18])\n",
    "sys.path.append('C:\\\\Users\\\\iamollas\\\\Downloads\\\\LionForests Journal\\\\')"
   ]
  },
  {
   "cell_type": "code",
   "execution_count": 22,
   "metadata": {},
   "outputs": [],
   "source": [
    "import pandas as pd \n",
    "import numpy as np\n",
    "from datasets.dataset import Dataset\n",
    "from lionforests import LionForests\n",
    "import numpy as np\n",
    "np.seterr(invalid='ignore')\n",
    "import warnings\n",
    "warnings.filterwarnings(\"ignore\")\n",
    "import time\n",
    "glass = Dataset()"
   ]
  },
  {
   "cell_type": "code",
   "execution_count": 23,
   "metadata": {},
   "outputs": [],
   "source": [
    "X, y, feature_names, class_names = glass.load_glass()"
   ]
  },
  {
   "cell_type": "code",
   "execution_count": 20,
   "metadata": {},
   "outputs": [
    {
     "name": "stderr",
     "output_type": "stream",
     "text": [
      "The least populated class in y has only 9 members, which is less than n_splits=10.\n"
     ]
    }
   ],
   "source": [
    "lf = LionForests(None, False, None, feature_names, class_names)\n",
    "lf.train(X, y, params=None)"
   ]
  },
  {
   "cell_type": "code",
   "execution_count": 25,
   "metadata": {},
   "outputs": [
    {
     "name": "stdout",
     "output_type": "stream",
     "text": [
      "Accuracy: 0.7194792134146202 , Number of estimators: 1000\n",
      "RandomForestClassifier(max_depth=10, max_features='sqrt', min_samples_leaf=2,\n",
      "                       n_estimators=1000, n_jobs=-1, random_state=0)\n"
     ]
    }
   ],
   "source": [
    "number_of_estimators = lf.model.n_estimators\n",
    "print(\"Accuracy:\",lf.accuracy,\", Number of estimators:\",lf.number_of_estimators)\n",
    "print(lf.model)"
   ]
  },
  {
   "cell_type": "code",
   "execution_count": 28,
   "metadata": {},
   "outputs": [
    {
     "name": "stderr",
     "output_type": "stream",
     "text": [
      "  0%|                                                                                          | 0/384 [00:06<?, ?it/s]\n"
     ]
    },
    {
     "ename": "ValueError",
     "evalue": "not enough values to unpack (expected 9, got 6)",
     "output_type": "error",
     "traceback": [
      "\u001b[1;31m---------------------------------------------------------------------------\u001b[0m",
      "\u001b[1;31mValueError\u001b[0m                                Traceback (most recent call last)",
      "\u001b[1;32m<ipython-input-28-43948cd0d38c>\u001b[0m in \u001b[0;36m<module>\u001b[1;34m\u001b[0m\n\u001b[0;32m     23\u001b[0m                 \u001b[1;32mfor\u001b[0m \u001b[0minde\u001b[0m \u001b[1;32min\u001b[0m \u001b[0mrange\u001b[0m\u001b[1;33m(\u001b[0m\u001b[0miterr\u001b[0m\u001b[1;33m)\u001b[0m\u001b[1;33m:\u001b[0m\u001b[1;33m\u001b[0m\u001b[1;33m\u001b[0m\u001b[0m\n\u001b[0;32m     24\u001b[0m                     \u001b[0mt_a\u001b[0m \u001b[1;33m=\u001b[0m \u001b[0mtime\u001b[0m\u001b[1;33m.\u001b[0m\u001b[0mtime\u001b[0m\u001b[1;33m(\u001b[0m\u001b[1;33m)\u001b[0m\u001b[1;33m\u001b[0m\u001b[1;33m\u001b[0m\u001b[0m\n\u001b[1;32m---> 25\u001b[1;33m                     \u001b[0ma\u001b[0m\u001b[1;33m,\u001b[0m \u001b[0mb\u001b[0m\u001b[1;33m,\u001b[0m \u001b[0mc\u001b[0m\u001b[1;33m,\u001b[0m \u001b[0md\u001b[0m\u001b[1;33m,\u001b[0m \u001b[0me\u001b[0m\u001b[1;33m,\u001b[0m \u001b[0mg\u001b[0m\u001b[1;33m,\u001b[0m \u001b[0mh\u001b[0m\u001b[1;33m,\u001b[0m \u001b[0m_\u001b[0m\u001b[1;33m,\u001b[0m \u001b[0m_\u001b[0m \u001b[1;33m=\u001b[0m \u001b[0mlf\u001b[0m\u001b[1;33m.\u001b[0m\u001b[0mfollowing_breadcrumbs\u001b[0m\u001b[1;33m(\u001b[0m\u001b[0mX\u001b[0m\u001b[1;33m[\u001b[0m\u001b[0minde\u001b[0m\u001b[1;33m]\u001b[0m\u001b[1;33m,\u001b[0m \u001b[1;32mFalse\u001b[0m\u001b[1;33m,\u001b[0m \u001b[1;32mNone\u001b[0m\u001b[1;33m,\u001b[0m \u001b[1;32mNone\u001b[0m\u001b[1;33m,\u001b[0m \u001b[1;32mFalse\u001b[0m\u001b[1;33m)\u001b[0m\u001b[1;33m\u001b[0m\u001b[1;33m\u001b[0m\u001b[0m\n\u001b[0m\u001b[0;32m     26\u001b[0m                     \u001b[0mfr\u001b[0m \u001b[1;33m=\u001b[0m \u001b[0mfr\u001b[0m \u001b[1;33m+\u001b[0m \u001b[0mc\u001b[0m \u001b[1;33m-\u001b[0m \u001b[0me\u001b[0m\u001b[1;33m\u001b[0m\u001b[1;33m\u001b[0m\u001b[0m\n\u001b[0;32m     27\u001b[0m                     \u001b[0mfrr\u001b[0m \u001b[1;33m=\u001b[0m \u001b[0mfrr\u001b[0m \u001b[1;33m+\u001b[0m \u001b[0mg\u001b[0m \u001b[1;33m-\u001b[0m \u001b[0mh\u001b[0m\u001b[1;33m\u001b[0m\u001b[1;33m\u001b[0m\u001b[0m\n",
      "\u001b[1;31mValueError\u001b[0m: not enough values to unpack (expected 9, got 6)"
     ]
    }
   ],
   "source": [
    "from tqdm import tqdm\n",
    "import time  #10 trees\n",
    "\n",
    "results = []\n",
    "iterr = 100\n",
    "with tqdm(total=4*1*4*24) as pbar:\n",
    "    for i in [1,5,7,10]:#1,5,7,10\n",
    "        for j in [1000]:\n",
    "            for o in ['sqrt','log2', 0.75, None]:#0.75,None\n",
    "                parameters = [{\n",
    "                    'max_depth': [i],\n",
    "                    'max_features': [o],\n",
    "                    'bootstrap': [True],\n",
    "                    'min_samples_leaf' : [2],\n",
    "                    'n_estimators': [j]\n",
    "                }]\n",
    "                lf = LionForests(None, False, None, feature_names, class_names)\n",
    "                lf.train(X, y, params=parameters)\n",
    "                tlf = 0\n",
    "                fr = 0\n",
    "                frr = 0\n",
    "                pr = 0\n",
    "                for inde in range(iterr):\n",
    "                    t_a = time.time()\n",
    "                    a, b, c, d, e, g, h, _, _ = lf.following_breadcrumbs(X[inde], False, None, None, False)\n",
    "                    fr = fr + c - e\n",
    "                    frr = frr + g - h\n",
    "                    pr = pr + b - d\n",
    "                    tlf = tlf + time.time() - t_a\n",
    "                results.append([str(i),str(j),str(o),'NoRed','_','_', tlf/iterr, fr/iterr, pr/iterr, frr/iterr])\n",
    "                pbar.update(1)\n",
    "                for k in ['1','2','3','12','13','23','123']:\n",
    "                        if '1' in k and '2' in k:\n",
    "                            for ara in ['apriori','fpgrowth']:\n",
    "                                for cla in ['kmedoids','OPTICS','SC']:\n",
    "                                    tlf = 0\n",
    "                                    fr = 0\n",
    "                                    frr = 0\n",
    "                                    pr = 0\n",
    "                                    for inde in range(iterr):\n",
    "                                        t_a = time.time()\n",
    "                                        a, b, c, d, e, g, h, _, _ = lf.following_breadcrumbs(X[inde], True, ara, cla, method=k)\n",
    "                                        fr = fr + c - e\n",
    "                                        frr = frr + g - h\n",
    "                                        pr = pr + b - d\n",
    "                                        tlf = tlf + time.time() - t_a\n",
    "                                    results.append([str(i),str(j),str(o),k,ara,cla, tlf/iterr, fr/iterr, pr/iterr, frr/iterr])\n",
    "                                    pbar.update(1)\n",
    "                        elif '1' in k:\n",
    "                            for ara in ['apriori','fpgrowth']:\n",
    "                                tlf = 0\n",
    "                                fr = 0\n",
    "                                frr = 0\n",
    "                                pr = 0\n",
    "                                for inde in range(iterr):\n",
    "                                    t_a = time.time()\n",
    "                                    a, b, c, d, e, g, h, _, _ = lf.following_breadcrumbs(X[inde], True, ara, None, method=k)\n",
    "                                    fr = fr + c - e\n",
    "                                    frr = frr + g - h\n",
    "                                    pr = pr + b - d\n",
    "                                    tlf = tlf + time.time() - t_a\n",
    "                                results.append([str(i),str(j),str(o),k,ara,'_', tlf/iterr, fr/iterr, pr/iterr, frr/iterr])\n",
    "                                pbar.update(1)\n",
    "                        elif '2' in k:\n",
    "                            for cla in ['kmedoids','OPTICS','SC']: \n",
    "                                tlf = 0\n",
    "                                fr = 0\n",
    "                                frr = 0\n",
    "                                pr = 0\n",
    "                                for inde in range(iterr):\n",
    "                                    t_a = time.time()\n",
    "                                    a, b, c, d, e, g, h, _, _ = lf.following_breadcrumbs(X[inde], True, None, cla, method=k)\n",
    "                                    fr = fr + c - e\n",
    "                                    frr = frr + g - h \n",
    "                                    pr = pr + b - d\n",
    "                                    tlf = tlf + time.time() - t_a\n",
    "                                results.append([str(i),str(j),str(o),k,'_',cla, tlf/iterr, fr/iterr, pr/iterr, frr/iterr])\n",
    "                                pbar.update(1)\n",
    "                        else:\n",
    "                                tlf = 0\n",
    "                                fr = 0\n",
    "                                frr = 0\n",
    "                                pr = 0\n",
    "                                for inde in range(iterr):\n",
    "                                    t_a = time.time()\n",
    "                                    a, b, c, d, e, g, h, _, _ = lf.following_breadcrumbs(X[inde], True, None, None, method=k)\n",
    "                                    fr = fr + c - e\n",
    "                                    frr = frr + g - h\n",
    "                                    pr = pr + b - d\n",
    "                                    tlf = tlf + time.time() - t_a\n",
    "                                results.append([str(i),str(j),str(o),k,'_','_', tlf/iterr, fr/iterr, pr/iterr, frr/iterr])\n",
    "                                pbar.update(1)"
   ]
  },
  {
   "cell_type": "code",
   "execution_count": null,
   "metadata": {},
   "outputs": [],
   "source": []
  }
 ],
 "metadata": {
  "kernelspec": {
   "display_name": "lionets",
   "language": "python",
   "name": "lionets"
  },
  "language_info": {
   "codemirror_mode": {
    "name": "ipython",
    "version": 3
   },
   "file_extension": ".py",
   "mimetype": "text/x-python",
   "name": "python",
   "nbconvert_exporter": "python",
   "pygments_lexer": "ipython3",
   "version": "3.7.6"
  }
 },
 "nbformat": 4,
 "nbformat_minor": 2
}
