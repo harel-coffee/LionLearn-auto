{
 "cells": [
  {
   "cell_type": "markdown",
   "metadata": {},
   "source": [
    "# How LF scales to large models and datasets? "
   ]
  },
  {
   "cell_type": "code",
   "execution_count": null,
   "metadata": {},
   "outputs": [],
   "source": [
    "import sys\n",
    "cpath = !pwd\n",
    "sys.path.append(cpath[0][:-23])"
   ]
  },
  {
   "cell_type": "code",
   "execution_count": 2,
   "metadata": {},
   "outputs": [],
   "source": [
    "from lionforests import LionForests\n",
    "from datasets.dataset import Dataset\n",
    "from sklearn.preprocessing import StandardScaler, MinMaxScaler\n",
    "from sklearn.datasets import make_classification, make_regression\n",
    "import numpy as np\n",
    "np.seterr(invalid='ignore')\n",
    "import warnings\n",
    "warnings.filterwarnings(\"ignore\")\n",
    "import time"
   ]
  },
  {
   "cell_type": "markdown",
   "metadata": {},
   "source": [
    "We will test how LF scales to different datasets and RF models."
   ]
  },
  {
   "cell_type": "code",
   "execution_count": 4,
   "metadata": {
    "scrolled": true
   },
   "outputs": [
    {
     "name": "stdout",
     "output_type": "stream",
     "text": [
      "to many features to prepare distribution plots\n",
      "to many features to prepare distribution plots\n",
      "to many features to prepare distribution plots\n",
      "to many features to prepare distribution plots\n",
      "to many features to prepare distribution plots\n",
      "to many features to prepare distribution plots\n",
      "to many features to prepare distribution plots\n",
      "to many features to prepare distribution plots\n",
      "to many features to prepare distribution plots\n",
      "to many features to prepare distribution plots\n",
      "to many features to prepare distribution plots\n",
      "to many features to prepare distribution plots\n",
      "to many features to prepare distribution plots\n",
      "to many features to prepare distribution plots\n",
      "to many features to prepare distribution plots\n",
      "to many features to prepare distribution plots\n",
      "to many features to prepare distribution plots\n",
      "to many features to prepare distribution plots\n",
      "to many features to prepare distribution plots\n",
      "to many features to prepare distribution plots\n",
      "to many features to prepare distribution plots\n",
      "to many features to prepare distribution plots\n",
      "to many features to prepare distribution plots\n",
      "to many features to prepare distribution plots\n",
      "to many features to prepare distribution plots\n",
      "to many features to prepare distribution plots\n",
      "to many features to prepare distribution plots\n",
      "to many features to prepare distribution plots\n",
      "to many features to prepare distribution plots\n",
      "to many features to prepare distribution plots\n",
      "to many features to prepare distribution plots\n",
      "to many features to prepare distribution plots\n",
      "to many features to prepare distribution plots\n",
      "to many features to prepare distribution plots\n",
      "to many features to prepare distribution plots\n",
      "to many features to prepare distribution plots\n",
      "to many features to prepare distribution plots\n",
      "to many features to prepare distribution plots\n",
      "to many features to prepare distribution plots\n",
      "to many features to prepare distribution plots\n",
      "to many features to prepare distribution plots\n",
      "to many features to prepare distribution plots\n",
      "to many features to prepare distribution plots\n",
      "to many features to prepare distribution plots\n",
      "to many features to prepare distribution plots\n",
      "to many features to prepare distribution plots\n",
      "to many features to prepare distribution plots\n",
      "to many features to prepare distribution plots\n",
      "to many features to prepare distribution plots\n",
      "to many features to prepare distribution plots\n",
      "to many features to prepare distribution plots\n",
      "to many features to prepare distribution plots\n",
      "to many features to prepare distribution plots\n",
      "to many features to prepare distribution plots\n",
      "to many features to prepare distribution plots\n",
      "to many features to prepare distribution plots\n",
      "to many features to prepare distribution plots\n",
      "to many features to prepare distribution plots\n",
      "to many features to prepare distribution plots\n",
      "to many features to prepare distribution plots\n",
      "to many features to prepare distribution plots\n",
      "to many features to prepare distribution plots\n",
      "to many features to prepare distribution plots\n",
      "to many features to prepare distribution plots\n"
     ]
    }
   ],
   "source": [
    "from sklearn.datasets import make_classification, make_regression\n",
    "for number_of_targets in [1, 2, 10, 100]: #1,2\n",
    "    for number_of_features in [10, 50, 100, 1000]:\n",
    "        if number_of_targets != 1: \n",
    "            x, y = make_classification(n_samples = 1000, n_features = number_of_features, \n",
    "                                   n_informative = round((2*number_of_features)/3),\n",
    "                                   n_classes = 2, shuffle = True, \n",
    "                                   random_state = number_of_features + number_of_targets)\n",
    "        else:\n",
    "            x, y = make_regression(n_samples = 1000, n_features = number_of_features, \n",
    "                                   n_informative = round((2*number_of_features)/3),\n",
    "                                   shuffle = True, random_state = number_of_features + number_of_targets)\n",
    "        feature_names = ['f_' + str(i) for i in range(number_of_features)]\n",
    "        target_names = ['t_' + str(i) for i in range(number_of_targets)]\n",
    "        \n",
    "        for trees in [10, 100, 500, 1000]:\n",
    "            for depth in [1, 2, 5, 10]:\n",
    "                parameters = [{\n",
    "                    'max_depth': [depth],\n",
    "                    'n_estimators': [trees]\n",
    "                }]\n",
    "\n",
    "                lf = LionForests(None, False, None, feature_names, target_names)\n",
    "                lf.fit(x, y, params=parameters)\n",
    "\n",
    "                t = []\n",
    "                for inde in range(100):\n",
    "                    \n",
    "                    t_a = time.time()\n",
    "                    if len(target_names) == 1:\n",
    "                        _ = lf.explain(x[inde], method='R1')\n",
    "                    else:\n",
    "                        _ = lf.explain(x[inde])\n",
    "                    lt = time.time()-t_a\n",
    "                    t.append(lt)\n",
    "                t = np.array(t)\n",
    "                \n",
    "                to_write = [number_of_features, number_of_targets, trees, depth, t.mean(), t.std()]\n",
    "                converted_list = [str(element) for element in to_write]\n",
    "                f = open(\"scalability.txt\", \"a\")\n",
    "                f.write(\",\".join(converted_list)+'\\n')\n",
    "                f.close()"
   ]
  }
 ],
 "metadata": {
  "kernelspec": {
   "display_name": "lionets",
   "language": "python",
   "name": "lionets"
  },
  "language_info": {
   "codemirror_mode": {
    "name": "ipython",
    "version": 3
   },
   "file_extension": ".py",
   "mimetype": "text/x-python",
   "name": "python",
   "nbconvert_exporter": "python",
   "pygments_lexer": "ipython3",
   "version": "3.7.6"
  }
 },
 "nbformat": 4,
 "nbformat_minor": 4
}
