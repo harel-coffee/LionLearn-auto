{
 "cells": [
  {
   "cell_type": "markdown",
   "metadata": {},
   "source": [
    "# Banknote dataset with LionForests V2"
   ]
  },
  {
   "cell_type": "code",
   "execution_count": 1,
   "metadata": {},
   "outputs": [],
   "source": [
    "import sys\n",
    "cpath = !pwd\n",
    "sys.path.append(cpath[0][:-18])"
   ]
  },
  {
   "cell_type": "code",
   "execution_count": 2,
   "metadata": {},
   "outputs": [],
   "source": [
    "from lionforests import LionForests\n",
    "from datasets.dataset import Dataset\n",
    "from sklearn.preprocessing import StandardScaler, MinMaxScaler\n",
    "import numpy as np\n",
    "np.seterr(invalid='ignore')\n",
    "import warnings\n",
    "warnings.filterwarnings(\"ignore\")\n",
    "import time"
   ]
  },
  {
   "cell_type": "markdown",
   "metadata": {},
   "source": [
    "Firstly, we load the dataset and we set the feature and class names"
   ]
  },
  {
   "cell_type": "code",
   "execution_count": 3,
   "metadata": {},
   "outputs": [],
   "source": [
    "banknotes = Dataset()\n",
    "X, y, feature_names, class_names = banknotes.load_banknote()"
   ]
  },
  {
   "cell_type": "code",
   "execution_count": 4,
   "metadata": {},
   "outputs": [
    {
     "data": {
      "text/plain": [
       "['variance', 'skew', 'curtosis', 'entropy']"
      ]
     },
     "execution_count": 4,
     "metadata": {},
     "output_type": "execute_result"
    }
   ],
   "source": [
    "feature_names"
   ]
  },
  {
   "cell_type": "code",
   "execution_count": 5,
   "metadata": {},
   "outputs": [
    {
     "data": {
      "text/plain": [
       "((1372, 4),\n",
       " array([[ 3.6216 ,  8.6661 , -2.8073 , -0.44699],\n",
       "        [ 4.5459 ,  8.1674 , -2.4586 , -1.4621 ]]))"
      ]
     },
     "execution_count": 5,
     "metadata": {},
     "output_type": "execute_result"
    }
   ],
   "source": [
    "X.shape, X[:2]"
   ]
  },
  {
   "cell_type": "code",
   "execution_count": 6,
   "metadata": {},
   "outputs": [
    {
     "data": {
      "text/plain": [
       "(2.4495, -8.5482, 2.100247322449037, -1.1916565200437317)"
      ]
     },
     "execution_count": 6,
     "metadata": {},
     "output_type": "execute_result"
    }
   ],
   "source": [
    "X[:,3].max(), X[:,3].min(), X[:,3].std(), X[:,3].mean()"
   ]
  },
  {
   "cell_type": "markdown",
   "metadata": {},
   "source": [
    "Which has 1372 instances"
   ]
  },
  {
   "cell_type": "code",
   "execution_count": 7,
   "metadata": {},
   "outputs": [
    {
     "data": {
      "text/plain": [
       "1372"
      ]
     },
     "execution_count": 7,
     "metadata": {},
     "output_type": "execute_result"
    }
   ],
   "source": [
    "len(X)"
   ]
  },
  {
   "cell_type": "markdown",
   "metadata": {},
   "source": [
    "Then we initiate LionForests"
   ]
  },
  {
   "cell_type": "code",
   "execution_count": 8,
   "metadata": {},
   "outputs": [],
   "source": [
    "parameters = [{\n",
    "    'max_depth': [10],\n",
    "    'max_features': [0.75],\n",
    "    'bootstrap': [True],\n",
    "    'min_samples_leaf' : [1],\n",
    "    'n_estimators': [500]\n",
    "}]\n",
    "scaler = MinMaxScaler(feature_range=(-1,1))\n",
    "lf = LionForests(None, False, scaler, feature_names, class_names)\n",
    "lf.fit(X, y, params=parameters)"
   ]
  },
  {
   "cell_type": "markdown",
   "metadata": {},
   "source": [
    "The model achieves very high performance, based on F1-Weighted score"
   ]
  },
  {
   "cell_type": "code",
   "execution_count": 6,
   "metadata": {},
   "outputs": [
    {
     "data": {
      "text/plain": [
       "0.9949038953887852"
      ]
     },
     "execution_count": 6,
     "metadata": {},
     "output_type": "execute_result"
    }
   ],
   "source": [
    "lf.accuracy"
   ]
  },
  {
   "cell_type": "markdown",
   "metadata": {},
   "source": [
    "## Qualitative"
   ]
  },
  {
   "cell_type": "markdown",
   "metadata": {},
   "source": [
    "Now, we will examine the rule interpretation of an example"
   ]
  },
  {
   "cell_type": "code",
   "execution_count": 7,
   "metadata": {},
   "outputs": [
    {
     "data": {
      "text/plain": [
       "'if 1.616<=variance<=1.642 & 2.277<=skew<=3.695 & 0.193<=curtosis<=17.927 then fake banknote'"
      ]
     },
     "execution_count": 7,
     "metadata": {},
     "output_type": "execute_result"
    }
   ],
   "source": [
    "lf.explain(X[49], True, 'apriori', 'kmedoids')[0]"
   ]
  },
  {
   "cell_type": "markdown",
   "metadata": {},
   "source": [
    "Moreover, we can present a UI tool to explore the interpretation visually"
   ]
  },
  {
   "cell_type": "code",
   "execution_count": 8,
   "metadata": {},
   "outputs": [
    {
     "name": "stdout",
     "output_type": "stream",
     "text": [
      "Prediction rule: if 1.616<=variance<=1.642 & 2.277<=skew<=3.695 & 0.193<=curtosis<=17.927 then fake banknote\n"
     ]
    },
    {
     "data": {
      "application/vnd.jupyter.widget-view+json": {
       "model_id": "24c97048833c407c97b7e613bff7ee41",
       "version_major": 2,
       "version_minor": 0
      },
      "text/plain": [
       "HBox(children=(IntSlider(value=1, continuous_update=False, description='Feature: ', max=4, min=1), ToggleButto…"
      ]
     },
     "metadata": {},
     "output_type": "display_data"
    },
    {
     "data": {
      "application/vnd.jupyter.widget-view+json": {
       "model_id": "c2af0cba598049be853c283680109ebe",
       "version_major": 2,
       "version_minor": 0
      },
      "text/plain": [
       "Output()"
      ]
     },
     "metadata": {},
     "output_type": "display_data"
    }
   ],
   "source": [
    "lf.visualize(lf.explain(X[49], True, 'apriori', 'kmedoids', to_vis=True))"
   ]
  },
  {
   "cell_type": "code",
   "execution_count": 9,
   "metadata": {},
   "outputs": [
    {
     "data": {
      "text/plain": [
       "[('variance', 1.6349),\n",
       " ('skew', 3.286),\n",
       " ('curtosis', 2.8753),\n",
       " ('entropy', 0.08705399999999999)]"
      ]
     },
     "execution_count": 9,
     "metadata": {},
     "output_type": "execute_result"
    }
   ],
   "source": [
    "list(zip(feature_names, X[49]))"
   ]
  },
  {
   "cell_type": "markdown",
   "metadata": {},
   "source": [
    "We can change ourselves an instances values and see if and how the outcome will change! We will change skew value 2.5"
   ]
  },
  {
   "cell_type": "code",
   "execution_count": 10,
   "metadata": {},
   "outputs": [
    {
     "data": {
      "text/plain": [
       "'if 1.616<=variance<=1.642 & 2.277<=skew<=3.695 & 0.193<=curtosis<=17.927 then fake banknote'"
      ]
     },
     "execution_count": 10,
     "metadata": {},
     "output_type": "execute_result"
    }
   ],
   "source": [
    "temp = X[49].copy()\n",
    "temp[1] = 2.5\n",
    "lf.explain(temp, True, 'apriori', 'kmedoids')[0]"
   ]
  },
  {
   "cell_type": "markdown",
   "metadata": {},
   "source": [
    "The outcome remained the same!"
   ]
  },
  {
   "cell_type": "markdown",
   "metadata": {},
   "source": [
    "# Sensitivity analysis!\n",
    "We will now test how the random forest's parameters are affecting the reduction of paths and features"
   ]
  },
  {
   "cell_type": "code",
   "execution_count": null,
   "metadata": {},
   "outputs": [],
   "source": [
    "from tqdm import tqdm\n",
    "import time\n",
    "\n",
    "results = []\n",
    "iterr = 100\n",
    "with tqdm(total=4*4*4*24) as pbar:\n",
    "    for i in [1, 5, 7, 10]:\n",
    "        for j in [10, 100, 500, 1000]:\n",
    "            for o in ['sqrt', 'log2', 0.75, None]:\n",
    "                parameters = [{\n",
    "                    'max_depth': [i],\n",
    "                    'max_features': [o],\n",
    "                    'bootstrap': [True],\n",
    "                    'min_samples_leaf': [1],\n",
    "                    'n_estimators': [j]\n",
    "                }]\n",
    "                lf = LionForests(class_names=class_names)\n",
    "                scaler = MinMaxScaler(feature_range=(-1, 1))\n",
    "                lf.fit(X, y, scaler, feature_names, parameters)\n",
    "                tlf = 0\n",
    "                fr = 0\n",
    "                pr = 0\n",
    "                for inde in range(iterr):\n",
    "                    t_a = time.time()\n",
    "                    a, b, c, d, e, f = lf.explain(\n",
    "                        X[inde], False, None, None, False)\n",
    "                    fr = fr + c - e\n",
    "                    pr = pr + b - d\n",
    "                    tlf = tlf + time.time() - t_a\n",
    "                results.append([str(i), str(j), str(o), 'NoRed',\n",
    "                                '_', '_', tlf/iterr, fr/iterr, pr/iterr])\n",
    "                pbar.update(1)\n",
    "                for k in ['1', '2', '3', '12', '13', '23', '123']:\n",
    "                    if '1' in k and '2' in k:\n",
    "                        for ara in ['apriori', 'fpgrowth']:\n",
    "                            for cla in ['kmedoids', 'OPTICS', 'SC']:\n",
    "                                tlf = 0\n",
    "                                fr = 0\n",
    "                                pr = 0\n",
    "                                for inde in range(iterr):\n",
    "                                    t_a = time.time()\n",
    "                                    a, b, c, d, e, f = lf.explain(\n",
    "                                        X[inde], True, ara, cla, method=k)\n",
    "                                    fr = fr + c - e\n",
    "                                    pr = pr + b - d\n",
    "                                    tlf = tlf + time.time() - t_a\n",
    "                                results.append([str(i), str(j), str(\n",
    "                                    o), k, ara, cla, tlf/iterr, fr/iterr, pr/iterr])\n",
    "                                pbar.update(1)\n",
    "                    elif '1' in k:\n",
    "                        for ara in ['apriori', 'fpgrowth']:\n",
    "                            tlf = 0\n",
    "                            fr = 0\n",
    "                            pr = 0\n",
    "                            for inde in range(iterr):\n",
    "                                t_a = time.time()\n",
    "                                a, b, c, d, e, f = lf.explain(\n",
    "                                    X[inde], True, ara, None, method=k)\n",
    "                                fr = fr + c - e\n",
    "                                pr = pr + b - d\n",
    "                                tlf = tlf + time.time() - t_a\n",
    "                            results.append([str(i), str(j), str(\n",
    "                                o), k, ara, '_', tlf/iterr, fr/iterr, pr/iterr])\n",
    "                            pbar.update(1)\n",
    "                    elif '2' in k:\n",
    "                        for cla in ['kmedoids', 'OPTICS', 'SC']:\n",
    "                            tlf = 0\n",
    "                            fr = 0\n",
    "                            pr = 0\n",
    "                            for inde in range(iterr):\n",
    "                                t_a = time.time()\n",
    "                                a, b, c, d, e, f = lf.explain(\n",
    "                                    X[inde], True, None, cla, method=k)\n",
    "                                fr = fr + c - e\n",
    "                                pr = pr + b - d\n",
    "                                tlf = tlf + time.time() - t_a\n",
    "                            results.append([str(i), str(j), str(\n",
    "                                o), k, '_', cla, tlf/iterr, fr/iterr, pr/iterr])\n",
    "                            pbar.update(1)\n",
    "                    else:\n",
    "                        tlf = 0\n",
    "                        fr = 0\n",
    "                        pr = 0\n",
    "                        for inde in range(iterr):\n",
    "                            t_a = time.time()\n",
    "                            a, b, c, d, e, f = lf.explain(\n",
    "                                X[inde], True, None, None, method=k)\n",
    "                            fr = fr + c - e\n",
    "                            pr = pr + b - d\n",
    "                            tlf = tlf + time.time() - t_a\n",
    "                        results.append([str(i), str(j), str(\n",
    "                            o), k, '_', '_', tlf/iterr, fr/iterr, pr/iterr])\n",
    "                        pbar.update(1)"
   ]
  },
  {
   "cell_type": "code",
   "execution_count": null,
   "metadata": {
    "scrolled": true
   },
   "outputs": [],
   "source": [
    "for i in results:\n",
    "    print(i)"
   ]
  },
  {
   "cell_type": "markdown",
   "metadata": {},
   "source": [
    "Another test we are going to make concerns the speed of LionForests V2 to original LionForests!"
   ]
  },
  {
   "cell_type": "code",
   "execution_count": null,
   "metadata": {},
   "outputs": [],
   "source": [
    "from tqdm import tqdm\n",
    "import time  # 10 trees\n",
    "\n",
    "results = []\n",
    "iterr = 100\n",
    "with tqdm(total=4*4*4*2) as pbar:\n",
    "    for i in [1, 5, 7, 10]:  # 1,5,7,10\n",
    "        for j in [10, 100, 500, 1000]:\n",
    "            for o in ['sqrt', 'log2', 0.75, None]:  # 0.75,None\n",
    "                parameters = [{\n",
    "                    'max_depth': [i],\n",
    "                    'max_features': [o],\n",
    "                    'bootstrap': [True],\n",
    "                    'min_samples_leaf': [1],\n",
    "                    'n_estimators': [j]\n",
    "                }]\n",
    "                lf = LionForests(None, False, None, feature_names, class_names)\n",
    "                lf.fit(X, y, params=parameters)\n",
    "                tlf = 0\n",
    "                fr = 0\n",
    "                pr = 0\n",
    "                for inde in range(iterr):\n",
    "                    t_a = time.time()\n",
    "                    a, b, c, d, e, f = lf.explain(\n",
    "                        X[inde], False, None, None, True)\n",
    "                    fr = fr + c - e\n",
    "                    pr = pr + b - d\n",
    "                    tlf = tlf + time.time() - t_a\n",
    "                results.append([str(i), str(j), str(o), 'NoRed_Old',\n",
    "                                '_', '_', tlf/iterr, fr/iterr, pr/iterr])\n",
    "                pbar.update(1)\n",
    "                for inde in range(iterr):\n",
    "                    t_a = time.time()\n",
    "                    a, b, c, d, e, f = lf.explain(\n",
    "                        X[inde], True, 'apriori', 'kmedoids', True)\n",
    "                    fr = fr + c - e\n",
    "                    pr = pr + b - d\n",
    "                    tlf = tlf + time.time() - t_a\n",
    "                results.append([str(i), str(j), str(o), '123_Old',\n",
    "                                '_', '_', tlf/iterr, fr/iterr, pr/iterr])\n",
    "                pbar.update(1)"
   ]
  },
  {
   "cell_type": "code",
   "execution_count": null,
   "metadata": {
    "scrolled": true
   },
   "outputs": [],
   "source": [
    "for i in results:\n",
    "    print(i)"
   ]
  }
 ],
 "metadata": {
  "kernelspec": {
   "display_name": "Python 3 (ipykernel)",
   "language": "python",
   "name": "python3"
  },
  "language_info": {
   "codemirror_mode": {
    "name": "ipython",
    "version": 3
   },
   "file_extension": ".py",
   "mimetype": "text/x-python",
   "name": "python",
   "nbconvert_exporter": "python",
   "pygments_lexer": "ipython3",
   "version": "3.7.8"
  }
 },
 "nbformat": 4,
 "nbformat_minor": 4
}
